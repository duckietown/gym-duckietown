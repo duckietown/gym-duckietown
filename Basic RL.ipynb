{
 "cells": [
  {
   "cell_type": "code",
   "execution_count": 1,
   "metadata": {},
   "outputs": [],
   "source": [
    "%matplotlib inline \n",
    "# from gail.train import _train, _trainGAIL, gen_expert_data\n",
    "from gail.dataloader import *\n",
    "from torch.utils.data import Dataset, DataLoader\n",
    "import matplotlib.pyplot as plt\n",
    "device = torch.device(\"cuda\" if torch.cuda.is_available() else \"cpu\")\n",
    "\n",
    "\n",
    "\n",
    "class Struct:\n",
    "    def __init__(self, **entries):\n",
    "        self.__dict__.update(entries)\n",
    "        \n",
    "args={'episodes':5000, \n",
    "      'seed':0, \n",
    "      'steps':100, \n",
    "      'batch_size':10,\n",
    "      'epochs':2000,\n",
    "      'model_directory':'models/',\n",
    "      'data_directory':'D:/Michael/Learning/duckietown_data/',\n",
    "      'get_samples':False}\n",
    "args = Struct(**args)\n",
    "\n",
    "# print(args.episodes)\n",
    "# gen_expert_data(args)\n",
    "def run():\n",
    "    # torch.multiprocessing.freeze_support()\n",
    "    # print('loop')\n",
    "    data = ExpertTrajDataset(args)\n",
    "    dataloader = DataLoader(data, batch_size=args.batch_size, shuffle=True, num_workers=4)\n",
    "\n",
    "\n",
    "    for i_batch, sample_batched in enumerate(dataloader):\n",
    "        sample_batched_obs = sample_batched['observation'].float().to(device).reshape((args.batch_size*100, 3, 160,120))\n",
    "        sample_batched_acts= sample_batched['action'].float().to(device).reshape((args.batch_size*100, 2))\n",
    "        for i,e in enumerate(sample_batched_obs):\n",
    "            plt.figure(i)\n",
    "#             print(i[0,:,:])\n",
    "            plt.imshow(e[0,:,:].to('cpu').numpy())\n",
    "        print(i_batch, sample_batched_obs.size(), sample_batched_acts.size())\n",
    "\n",
    "\n",
    "        if i_batch == 4:\n",
    "            break\n",
    "\n",
    "    # _trainGAIL(args)\n",
    "    # _train(args)\n",
    "\n",
    "# run()"
   ]
  },
  {
   "cell_type": "code",
   "execution_count": null,
   "metadata": {},
   "outputs": [],
   "source": [
    "\n"
   ]
  },
  {
   "cell_type": "code",
   "execution_count": 2,
   "metadata": {},
   "outputs": [
    {
     "name": "stderr",
     "output_type": "stream",
     "text": [
      "INFO:gym-duckietown:gym-duckietown 2019.0.0\n",
      "\n",
      "INFO:gym-duckietown:Registering gym environment id: Duckietown-4way-v0\n",
      "INFO:gym-duckietown:Registering gym environment id: Duckietown-loop_dyn_duckiebots-v0\n",
      "INFO:gym-duckietown:Registering gym environment id: Duckietown-loop_empty-v0\n",
      "INFO:gym-duckietown:Registering gym environment id: Duckietown-loop_obstacles-v0\n",
      "INFO:gym-duckietown:Registering gym environment id: Duckietown-loop_pedestrians-v0\n",
      "INFO:gym-duckietown:Registering gym environment id: Duckietown-small_loop-v0\n",
      "INFO:gym-duckietown:Registering gym environment id: Duckietown-small_loop_cw-v0\n",
      "INFO:gym-duckietown:Registering gym environment id: Duckietown-straight_road-v0\n",
      "INFO:gym-duckietown:Registering gym environment id: Duckietown-udem1-v0\n",
      "INFO:gym-duckietown:Registering gym environment id: Duckietown-zigzag_dists-v0\n",
      "C:\\Users\\micha\\miniconda3\\envs\\gym-duckietown\\lib\\site-packages\\gym\\logger.py:30: UserWarning: \u001b[33mWARN: Box bound precision lowered by casting to float32\u001b[0m\n",
      "  warnings.warn(colorize('%s: %s'%('WARN', msg % args), 'yellow'))\n",
      "DEBUG:gym-duckietown:loading map file \"C:\\Users\\micha\\Documents\\Projects\\gym-duckietown\\gym_duckietown\\maps\\loop_empty.yaml\"\n",
      "DEBUG:gym-duckietown:loading mesh \"duckiebot.obj\"\n",
      "DEBUG:gym-duckietown:loading materials from \"C:\\Users\\micha\\Documents\\Projects\\gym-duckietown\\gym_duckietown\\meshes\\duckiebot.mtl\"\n",
      "DEBUG:gym-duckietown:loading mesh \"duckie.obj\"\n",
      "DEBUG:gym-duckietown:loading texture \"duckie.png\"\n",
      "DEBUG:gym-duckietown:loading mesh \"cone.obj\"\n",
      "DEBUG:gym-duckietown:loading texture \"cone.png\"\n",
      "DEBUG:gym-duckietown:loading texture \"floor_1.png\"\n",
      "DEBUG:gym-duckietown:loading texture \"curve_left_1.png\"\n",
      "DEBUG:gym-duckietown:loading texture \"straight_1.png\"\n",
      "DEBUG:gym-duckietown:loading texture \"curve_right_1.png\"\n",
      "DEBUG:gym-duckietown:[4.13719561 0.         1.88880899] corresponds to tile at (7, 3) which is not drivable: {'coords': (7, 3), 'kind': 'floor', 'angle': 0, 'drivable': False, 'texture': <gym_duckietown.graphics.Texture object at 0x000001A3AE5F2278>, 'color': array([1, 1, 1])}\n",
      "DEBUG:gym-duckietown:Invalid pose. Collision free: True On drivable area: False\n",
      "DEBUG:gym-duckietown:safety_factor: 1.3\n",
      "DEBUG:gym-duckietown:pos: [4.0873995 0.        1.9726338]\n",
      "DEBUG:gym-duckietown:l_pos: [4.03760339 0.         2.0564586 ]\n",
      "DEBUG:gym-duckietown:r_pos: [4.13719561 0.         1.88880899]\n",
      "DEBUG:gym-duckietown:f_pos: [3.98680973 0.         1.91287847]\n",
      "DEBUG:gym-duckietown:[4.10908822 0.         2.30642426] corresponds to tile at (7, 3) which is not drivable: {'coords': (7, 3), 'kind': 'floor', 'angle': 0, 'drivable': False, 'texture': <gym_duckietown.graphics.Texture object at 0x000001A3AE5F2278>, 'color': array([1, 1, 1])}\n",
      "DEBUG:gym-duckietown:Invalid pose. Collision free: True On drivable area: False\n",
      "DEBUG:gym-duckietown:safety_factor: 1.3\n",
      "DEBUG:gym-duckietown:pos: [4.0793971  0.         2.21355507]\n",
      "DEBUG:gym-duckietown:l_pos: [4.10908822 0.         2.30642426]\n",
      "DEBUG:gym-duckietown:r_pos: [4.04970598 0.         2.12068587]\n",
      "DEBUG:gym-duckietown:f_pos: [3.96795406 0.         2.24918441]\n",
      "DEBUG:gym-duckietown:[3.47880119 0.         2.23809688] corresponds to tile at (5, 3) which is not drivable: {'coords': (5, 3), 'kind': 'floor', 'angle': 0, 'drivable': False, 'texture': <gym_duckietown.graphics.Texture object at 0x000001A3AE5F2278>, 'color': array([1, 1, 1])}\n",
      "DEBUG:gym-duckietown:Invalid pose. Collision free: True On drivable area: False\n",
      "DEBUG:gym-duckietown:safety_factor: 1.3\n",
      "DEBUG:gym-duckietown:pos: [3.54467288 0.         2.16621385]\n",
      "DEBUG:gym-duckietown:l_pos: [3.47880119 0.         2.23809688]\n",
      "DEBUG:gym-duckietown:r_pos: [3.61054457 0.         2.09433082]\n",
      "DEBUG:gym-duckietown:f_pos: [3.45841324 0.         2.08716782]\n",
      "DEBUG:gym-duckietown:[4.11902599 0.         2.07053136] corresponds to tile at (7, 3) which is not drivable: {'coords': (7, 3), 'kind': 'floor', 'angle': 0, 'drivable': False, 'texture': <gym_duckietown.graphics.Texture object at 0x000001A3AE5F2278>, 'color': array([1, 1, 1])}\n",
      "DEBUG:gym-duckietown:Invalid pose. Collision free: True On drivable area: False\n",
      "DEBUG:gym-duckietown:safety_factor: 1.3\n",
      "DEBUG:gym-duckietown:pos: [4.05777514 0.         2.14639032]\n",
      "DEBUG:gym-duckietown:l_pos: [4.11902599 0.         2.07053136]\n",
      "DEBUG:gym-duckietown:r_pos: [3.99652428 0.         2.22224929]\n",
      "DEBUG:gym-duckietown:f_pos: [4.14880589 0.         2.21989135]\n",
      "DEBUG:gym-duckietown:[4.11072664 0.         2.23740683] corresponds to tile at (7, 3) which is not drivable: {'coords': (7, 3), 'kind': 'floor', 'angle': 0, 'drivable': False, 'texture': <gym_duckietown.graphics.Texture object at 0x000001A3AE5F2278>, 'color': array([1, 1, 1])}\n",
      "DEBUG:gym-duckietown:Invalid pose. Collision free: True On drivable area: False\n",
      "DEBUG:gym-duckietown:safety_factor: 1.3\n",
      "DEBUG:gym-duckietown:pos: [4.06163269 0.         2.15316887]\n",
      "DEBUG:gym-duckietown:l_pos: [4.11072664 0.         2.23740683]\n",
      "DEBUG:gym-duckietown:r_pos: [4.01253874 0.         2.0689309 ]\n",
      "DEBUG:gym-duckietown:f_pos: [3.96054713 0.         2.2120816 ]\n",
      "DEBUG:gym-duckietown:[4.09719614 0.         2.20147659] corresponds to tile at (7, 3) which is not drivable: {'coords': (7, 3), 'kind': 'floor', 'angle': 0, 'drivable': False, 'texture': <gym_duckietown.graphics.Texture object at 0x000001A3AE5F2278>, 'color': array([1, 1, 1])}\n",
      "DEBUG:gym-duckietown:Invalid pose. Collision free: True On drivable area: False\n",
      "DEBUG:gym-duckietown:safety_factor: 1.3\n",
      "DEBUG:gym-duckietown:pos: [4.00591875 0.         2.23575032]\n",
      "DEBUG:gym-duckietown:l_pos: [4.09719614 0.         2.20147659]\n",
      "DEBUG:gym-duckietown:r_pos: [3.91464137 0.         2.27002405]\n",
      "DEBUG:gym-duckietown:f_pos: [4.04704723 0.         2.34528318]\n",
      "DEBUG:gym-duckietown:[3.48173779 0.         2.07668522] corresponds to tile at (5, 3) which is not drivable: {'coords': (5, 3), 'kind': 'floor', 'angle': 0, 'drivable': False, 'texture': <gym_duckietown.graphics.Texture object at 0x000001A3AE5F2278>, 'color': array([1, 1, 1])}\n",
      "DEBUG:gym-duckietown:Invalid pose. Collision free: True On drivable area: False\n",
      "DEBUG:gym-duckietown:safety_factor: 1.3\n",
      "DEBUG:gym-duckietown:pos: [3.59826268 0.         2.08721855]\n",
      "DEBUG:gym-duckietown:l_pos: [3.5894849  0.         2.18432262]\n",
      "DEBUG:gym-duckietown:r_pos: [3.60704045 0.         1.99011448]\n",
      "DEBUG:gym-duckietown:f_pos: [3.48173779 0.         2.07668522]\n",
      "DEBUG:gym-duckietown:[3.48172154 0.         1.84866924] corresponds to tile at (5, 3) which is not drivable: {'coords': (5, 3), 'kind': 'floor', 'angle': 0, 'drivable': False, 'texture': <gym_duckietown.graphics.Texture object at 0x000001A3AE5F2278>, 'color': array([1, 1, 1])}\n",
      "DEBUG:gym-duckietown:Invalid pose. Collision free: True On drivable area: False\n",
      "DEBUG:gym-duckietown:safety_factor: 1.3\n",
      "DEBUG:gym-duckietown:pos: [3.57292165 0.         1.88314807]\n",
      "DEBUG:gym-duckietown:l_pos: [3.48172154 0.         1.84866924]\n",
      "DEBUG:gym-duckietown:r_pos: [3.66412176 0.         1.91762689]\n",
      "DEBUG:gym-duckietown:f_pos: [3.61429624 0.         1.77370793]\n",
      "DEBUG:gym-duckietown:[3.50690495 0.         2.23654429] corresponds to tile at (5, 3) which is not drivable: {'coords': (5, 3), 'kind': 'floor', 'angle': 0, 'drivable': False, 'texture': <gym_duckietown.graphics.Texture object at 0x000001A3AE5F2278>, 'color': array([1, 1, 1])}\n",
      "DEBUG:gym-duckietown:Invalid pose. Collision free: True On drivable area: False\n",
      "DEBUG:gym-duckietown:safety_factor: 1.3\n",
      "DEBUG:gym-duckietown:pos: [3.6172817  0.         2.19773742]\n",
      "DEBUG:gym-duckietown:l_pos: [3.64962075 0.         2.28971804]\n",
      "DEBUG:gym-duckietown:r_pos: [3.58494264 0.         2.10575679]\n",
      "DEBUG:gym-duckietown:f_pos: [3.50690495 0.         2.23654429]\n",
      "DEBUG:gym-duckietown:[4.11050548 0.         2.28364106] corresponds to tile at (7, 3) which is not drivable: {'coords': (7, 3), 'kind': 'floor', 'angle': 0, 'drivable': False, 'texture': <gym_duckietown.graphics.Texture object at 0x000001A3AE5F2278>, 'color': array([1, 1, 1])}\n",
      "DEBUG:gym-duckietown:Invalid pose. Collision free: True On drivable area: False\n",
      "DEBUG:gym-duckietown:safety_factor: 1.3\n",
      "DEBUG:gym-duckietown:pos: [4.00116556 0.         2.24200236]\n",
      "DEBUG:gym-duckietown:l_pos: [4.03586448 0.         2.15088576]\n",
      "DEBUG:gym-duckietown:r_pos: [3.96646664 0.         2.33311896]\n",
      "DEBUG:gym-duckietown:f_pos: [4.11050548 0.         2.28364106]\n"
     ]
    },
    {
     "name": "stderr",
     "output_type": "stream",
     "text": [
      "DEBUG:gym-duckietown:[3.50186974 0.         2.10261411] corresponds to tile at (5, 3) which is not drivable: {'coords': (5, 3), 'kind': 'floor', 'angle': 0, 'drivable': False, 'texture': <gym_duckietown.graphics.Texture object at 0x000001A3AE5F2278>, 'color': array([1, 1, 1])}\n",
      "DEBUG:gym-duckietown:Invalid pose. Collision free: True On drivable area: False\n",
      "DEBUG:gym-duckietown:safety_factor: 1.3\n",
      "DEBUG:gym-duckietown:pos: [3.5769519  0.         2.04041348]\n",
      "DEBUG:gym-duckietown:l_pos: [3.50186974 0.         2.10261411]\n",
      "DEBUG:gym-duckietown:r_pos: [3.65203407 0.         1.97821284]\n",
      "DEBUG:gym-duckietown:f_pos: [3.50231114 0.         1.95031488]\n",
      "DEBUG:gym-duckietown:[3.47260658 0.         1.77460142] corresponds to tile at (5, 3) which is not drivable: {'coords': (5, 3), 'kind': 'floor', 'angle': 0, 'drivable': False, 'texture': <gym_duckietown.graphics.Texture object at 0x000001A3AE5F2278>, 'color': array([1, 1, 1])}\n",
      "DEBUG:gym-duckietown:Invalid pose. Collision free: True On drivable area: False\n",
      "DEBUG:gym-duckietown:safety_factor: 1.3\n",
      "DEBUG:gym-duckietown:pos: [3.58708306 0.         1.75043253]\n",
      "DEBUG:gym-duckietown:l_pos: [3.6072238 0.        1.8458296]\n",
      "DEBUG:gym-duckietown:r_pos: [3.56694232 0.         1.65503546]\n",
      "DEBUG:gym-duckietown:f_pos: [3.47260658 0.         1.77460142]\n",
      "DEBUG:gym-duckietown:[4.09934153 0.         1.85301864] corresponds to tile at (7, 3) which is not drivable: {'coords': (7, 3), 'kind': 'floor', 'angle': 0, 'drivable': False, 'texture': <gym_duckietown.graphics.Texture object at 0x000001A3AE5F2278>, 'color': array([1, 1, 1])}\n",
      "DEBUG:gym-duckietown:Invalid pose. Collision free: True On drivable area: False\n",
      "DEBUG:gym-duckietown:safety_factor: 1.3\n",
      "DEBUG:gym-duckietown:pos: [4.02300463 0.         1.79236447]\n",
      "DEBUG:gym-duckietown:l_pos: [3.94666773 0.         1.7317103 ]\n",
      "DEBUG:gym-duckietown:r_pos: [4.09934153 0.         1.85301864]\n",
      "DEBUG:gym-duckietown:f_pos: [4.09578963 0.         1.70076019]\n",
      "DEBUG:gym-duckietown:[4.17105167 0.         1.80077003] corresponds to tile at (7, 3) which is not drivable: {'coords': (7, 3), 'kind': 'floor', 'angle': 0, 'drivable': False, 'texture': <gym_duckietown.graphics.Texture object at 0x000001A3AE5F2278>, 'color': array([1, 1, 1])}\n",
      "DEBUG:gym-duckietown:Invalid pose. Collision free: True On drivable area: False\n",
      "DEBUG:gym-duckietown:safety_factor: 1.3\n",
      "DEBUG:gym-duckietown:pos: [4.09036721 0.         1.85550821]\n",
      "DEBUG:gym-duckietown:l_pos: [4.00968276 0.         1.9102464 ]\n",
      "DEBUG:gym-duckietown:r_pos: [4.17105167 0.         1.80077003]\n",
      "DEBUG:gym-duckietown:f_pos: [4.02468139 0.         1.75868687]\n",
      "DEBUG:gym-duckietown:[3.49620504 0.         2.20742184] corresponds to tile at (5, 3) which is not drivable: {'coords': (5, 3), 'kind': 'floor', 'angle': 0, 'drivable': False, 'texture': <gym_duckietown.graphics.Texture object at 0x000001A3AE5F2278>, 'color': array([1, 1, 1])}\n",
      "DEBUG:gym-duckietown:Invalid pose. Collision free: True On drivable area: False\n",
      "DEBUG:gym-duckietown:safety_factor: 1.3\n",
      "DEBUG:gym-duckietown:pos: [3.57500004 0.         2.14999713]\n",
      "DEBUG:gym-duckietown:l_pos: [3.49620504 0.         2.20742184]\n",
      "DEBUG:gym-duckietown:r_pos: [3.65379505 0.         2.09257242]\n",
      "DEBUG:gym-duckietown:f_pos: [3.50609039 0.         2.05544313]\n",
      "DEBUG:gym-duckietown:[4.12972415 0.         2.27350789] corresponds to tile at (7, 3) which is not drivable: {'coords': (7, 3), 'kind': 'floor', 'angle': 0, 'drivable': False, 'texture': <gym_duckietown.graphics.Texture object at 0x000001A3AE5F2278>, 'color': array([1, 1, 1])}\n",
      "DEBUG:gym-duckietown:Invalid pose. Collision free: True On drivable area: False\n",
      "DEBUG:gym-duckietown:safety_factor: 1.3\n",
      "DEBUG:gym-duckietown:pos: [4.022444   0.         2.32019802]\n",
      "DEBUG:gym-duckietown:l_pos: [3.98353555 0.         2.23079789]\n",
      "DEBUG:gym-duckietown:r_pos: [4.06135244 0.         2.40959815]\n",
      "DEBUG:gym-duckietown:f_pos: [4.12972415 0.         2.27350789]\n",
      "DEBUG:gym-duckietown:[4.14789125 0.         1.98595245] corresponds to tile at (7, 3) which is not drivable: {'coords': (7, 3), 'kind': 'floor', 'angle': 0, 'drivable': False, 'texture': <gym_duckietown.graphics.Texture object at 0x000001A3AE5F2278>, 'color': array([1, 1, 1])}\n",
      "DEBUG:gym-duckietown:Invalid pose. Collision free: True On drivable area: False\n",
      "DEBUG:gym-duckietown:safety_factor: 1.3\n",
      "DEBUG:gym-duckietown:pos: [4.05139065 0.         1.99987665]\n",
      "DEBUG:gym-duckietown:l_pos: [3.95489004 0.         2.01380085]\n",
      "DEBUG:gym-duckietown:r_pos: [4.14789125 0.         1.98595245]\n",
      "DEBUG:gym-duckietown:f_pos: [4.0346816  0.         1.88407592]\n",
      "DEBUG:gym-duckietown:[3.50005426 0.         1.72007355] corresponds to tile at (5, 2) which is not drivable: {'coords': (5, 2), 'kind': 'floor', 'angle': 0, 'drivable': False, 'texture': <gym_duckietown.graphics.Texture object at 0x000001A3AE5F2278>, 'color': array([1, 1, 1])}\n",
      "DEBUG:gym-duckietown:Invalid pose. Collision free: True On drivable area: False\n",
      "DEBUG:gym-duckietown:safety_factor: 1.3\n",
      "DEBUG:gym-duckietown:pos: [3.58276167 0.         1.80282911]\n",
      "DEBUG:gym-duckietown:l_pos: [3.5137987  0.         1.87175196]\n",
      "DEBUG:gym-duckietown:r_pos: [3.65172464 0.         1.73390626]\n",
      "DEBUG:gym-duckietown:f_pos: [3.50005426 0.         1.72007355]\n",
      "DEBUG:gym-duckietown:[3.49842474 0.         1.9311518 ] corresponds to tile at (5, 3) which is not drivable: {'coords': (5, 3), 'kind': 'floor', 'angle': 0, 'drivable': False, 'texture': <gym_duckietown.graphics.Texture object at 0x000001A3AE5F2278>, 'color': array([1, 1, 1])}\n",
      "DEBUG:gym-duckietown:Invalid pose. Collision free: True On drivable area: False\n",
      "DEBUG:gym-duckietown:safety_factor: 1.3\n",
      "DEBUG:gym-duckietown:pos: [3.60040652 0.         1.87380448]\n",
      "DEBUG:gym-duckietown:l_pos: [3.64819596 0.         1.9587893 ]\n",
      "DEBUG:gym-duckietown:r_pos: [3.55261709 0.         1.78881966]\n",
      "DEBUG:gym-duckietown:f_pos: [3.49842474 0.         1.9311518 ]\n",
      "DEBUG:gym-duckietown:[4.1279325  0.         2.40562151] corresponds to tile at (7, 4) which is not drivable: {'coords': (7, 4), 'kind': 'floor', 'angle': 0, 'drivable': False, 'texture': <gym_duckietown.graphics.Texture object at 0x000001A3AE5F2278>, 'color': array([1, 1, 1])}\n",
      "DEBUG:gym-duckietown:Invalid pose. Collision free: True On drivable area: False\n",
      "DEBUG:gym-duckietown:safety_factor: 1.3\n",
      "DEBUG:gym-duckietown:pos: [4.04505092 0.         2.35427082]\n",
      "DEBUG:gym-duckietown:l_pos: [3.96216934 0.         2.30292013]\n",
      "DEBUG:gym-duckietown:r_pos: [4.1279325  0.         2.40562151]\n",
      "DEBUG:gym-duckietown:f_pos: [4.10667175 0.         2.25481292]\n",
      "DEBUG:gym-duckietown:[3.4840149 0.        2.2828545] corresponds to tile at (5, 3) which is not drivable: {'coords': (5, 3), 'kind': 'floor', 'angle': 0, 'drivable': False, 'texture': <gym_duckietown.graphics.Texture object at 0x000001A3AE5F2278>, 'color': array([1, 1, 1])}\n",
      "DEBUG:gym-duckietown:Invalid pose. Collision free: True On drivable area: False\n",
      "DEBUG:gym-duckietown:safety_factor: 1.3\n",
      "DEBUG:gym-duckietown:pos: [3.57730109 0.         2.31120829]\n",
      "DEBUG:gym-duckietown:l_pos: [3.4840149 0.        2.2828545]\n",
      "DEBUG:gym-duckietown:r_pos: [3.67058727 0.         2.33956208]\n",
      "DEBUG:gym-duckietown:f_pos: [3.61132563 0.         2.19926486]\n",
      "INFO:gym-duckietown:Starting at [3.89201099 0.         2.08907339] 1.6292900738092628\n",
      "INFO:gym-duckietown:Pos: [3.89201099 0.         2.08907339] angle 1.6292900738092628\n"
     ]
    },
    {
     "name": "stdout",
     "output_type": "stream",
     "text": [
      "Initialized Wrappers\n"
     ]
    },
    {
     "name": "stderr",
     "output_type": "stream",
     "text": [
      "DEBUG:gym-duckietown:[2.33703727 0.         2.57700384] corresponds to tile at (3, 4) which is not drivable: {'coords': (3, 4), 'kind': 'floor', 'angle': 0, 'drivable': False, 'texture': <gym_duckietown.graphics.Texture object at 0x000001A3AE5F2278>, 'color': array([1, 1, 1])}\n",
      "DEBUG:gym-duckietown:Invalid pose. Collision free: True On drivable area: False\n",
      "DEBUG:gym-duckietown:safety_factor: 1.3\n",
      "DEBUG:gym-duckietown:pos: [2.33703727 0.         2.57700384]\n",
      "DEBUG:gym-duckietown:l_pos: [2.24568806 0.         2.542922  ]\n",
      "DEBUG:gym-duckietown:r_pos: [2.42838647 0.         2.61108568]\n",
      "DEBUG:gym-duckietown:f_pos: [2.37793548 0.         2.46738479]\n",
      "DEBUG:gym-duckietown:[2.28873639 0.         2.68406941] corresponds to tile at (3, 4) which is not drivable: {'coords': (3, 4), 'kind': 'floor', 'angle': 0, 'drivable': False, 'texture': <gym_duckietown.graphics.Texture object at 0x000001A3AE5F2278>, 'color': array([1, 1, 1])}\n",
      "DEBUG:gym-duckietown:Invalid pose. Collision free: True On drivable area: False\n",
      "DEBUG:gym-duckietown:safety_factor: 1.3\n",
      "DEBUG:gym-duckietown:pos: [2.38071712 0.         2.71640816]\n",
      "DEBUG:gym-duckietown:l_pos: [2.28873639 0.         2.68406941]\n",
      "DEBUG:gym-duckietown:r_pos: [2.47269785 0.         2.74874692]\n",
      "DEBUG:gym-duckietown:f_pos: [2.41952363 0.         2.60603129]\n",
      "INFO:gym-duckietown:Starting at [2.64153703 0.         2.88468928] 4.836049502872963\n",
      "INFO:gym-duckietown:Pos: [2.64153703 0.         2.88468928] angle 4.836049502872963\n"
     ]
    },
    {
     "name": "stdout",
     "output_type": "stream",
     "text": [
      "Starting episode 0\n"
     ]
    },
    {
     "name": "stderr",
     "output_type": "stream",
     "text": [
      "INFO:gym-duckietown:Pos: [2.64739784 0.         2.92006325] angle 4.917108060389572\n",
      "INFO:gym-duckietown:Pos: [2.64739784 0.         2.92006325] angle 4.917108060389572\n"
     ]
    },
    {
     "name": "stdout",
     "output_type": "stream",
     "text": [
      "[0.7933007 1.2030473]\n"
     ]
    },
    {
     "name": "stderr",
     "output_type": "stream",
     "text": [
      "INFO:gym-duckietown:Pos: [2.65610592 0.         2.95482143] angle 4.998630988733451\n",
      "INFO:gym-duckietown:Pos: [2.65610592 0.         2.95482143] angle 4.998630988733451\n"
     ]
    },
    {
     "name": "stdout",
     "output_type": "stream",
     "text": [
      "[0.7921165 1.3559139]\n"
     ]
    },
    {
     "name": "stderr",
     "output_type": "stream",
     "text": [
      "INFO:gym-duckietown:Pos: [2.66761559 0.         2.98874868] angle 5.0802712174599565\n",
      "INFO:gym-duckietown:Pos: [2.66761559 0.         2.98874868] angle 5.0802712174599565\n"
     ]
    },
    {
     "name": "stdout",
     "output_type": "stream",
     "text": [
      "[0.7918174 1.3897858]\n"
     ]
    },
    {
     "name": "stderr",
     "output_type": "stream",
     "text": [
      "INFO:gym-duckietown:Pos: [2.68185422 0.         3.02163183] angle 5.161772602425691\n",
      "INFO:gym-duckietown:Pos: [2.68185422 0.         3.02163183] angle 5.161772602425691\n"
     ]
    },
    {
     "name": "stdout",
     "output_type": "stream",
     "text": [
      "[0.7921715 1.3488443]\n"
     ]
    },
    {
     "name": "stderr",
     "output_type": "stream",
     "text": [
      "INFO:gym-duckietown:Pos: [2.69872204 0.         3.05324274] angle 5.243347012820596\n",
      "INFO:gym-duckietown:Pos: [2.69872204 0.         3.05324274] angle 5.243347012820596\n"
     ]
    },
    {
     "name": "stdout",
     "output_type": "stream",
     "text": [
      "[0.7919853 1.3748691]\n"
     ]
    },
    {
     "name": "stderr",
     "output_type": "stream",
     "text": [
      "INFO:gym-duckietown:Pos: [2.71811095 0.         3.08337994] angle 5.324810219647847\n",
      "INFO:gym-duckietown:Pos: [2.71811095 0.         3.08337994] angle 5.324810219647847\n"
     ]
    },
    {
     "name": "stdout",
     "output_type": "stream",
     "text": [
      "[0.7922688 1.3276572]\n",
      "[0.7922877 1.3421986]"
     ]
    },
    {
     "name": "stderr",
     "output_type": "stream",
     "text": [
      "INFO:gym-duckietown:Pos: [2.73988805 0.         3.11183984] angle 5.4062660245911065\n",
      "INFO:gym-duckietown:Pos: [2.73988805 0.         3.11183984] angle 5.4062660245911065\n"
     ]
    },
    {
     "name": "stdout",
     "output_type": "stream",
     "text": [
      "\n"
     ]
    },
    {
     "name": "stderr",
     "output_type": "stream",
     "text": [
      "INFO:gym-duckietown:Pos: [2.76391012 0.         3.13843705] angle 5.48765007021693\n",
      "INFO:gym-duckietown:Pos: [2.76391012 0.         3.13843705] angle 5.48765007021693\n"
     ]
    },
    {
     "name": "stdout",
     "output_type": "stream",
     "text": [
      "[0.7924707 1.3171582]\n",
      "[0.79207426 1.3692752 ]"
     ]
    },
    {
     "name": "stderr",
     "output_type": "stream",
     "text": [
      "INFO:gym-duckietown:Pos: [2.79001098 0.         3.16298589] angle 5.569189574885223\n",
      "INFO:gym-duckietown:Pos: [2.79001098 0.         3.16298589] angle 5.569189574885223\n"
     ]
    },
    {
     "name": "stdout",
     "output_type": "stream",
     "text": [
      "\n",
      "[0.7917001 1.4166999]"
     ]
    },
    {
     "name": "stderr",
     "output_type": "stream",
     "text": [
      "INFO:gym-duckietown:Pos: [2.81802037 0.         3.18532053] angle 5.65087581216433\n",
      "INFO:gym-duckietown:Pos: [2.81802037 0.         3.18532053] angle 5.65087581216433\n"
     ]
    },
    {
     "name": "stdout",
     "output_type": "stream",
     "text": [
      "\n"
     ]
    },
    {
     "name": "stderr",
     "output_type": "stream",
     "text": [
      "INFO:gym-duckietown:Pos: [2.8477679  0.         3.20530746] angle 5.732281323253729\n",
      "INFO:gym-duckietown:Pos: [2.8477679  0.         3.20530746] angle 5.732281323253729\n"
     ]
    },
    {
     "name": "stdout",
     "output_type": "stream",
     "text": [
      "[0.792416  1.3250763]\n",
      "[0.7930553 1.2418251]"
     ]
    },
    {
     "name": "stderr",
     "output_type": "stream",
     "text": [
      "INFO:gym-duckietown:Pos: [2.87905117 0.         3.22281945] angle 5.81343610526223\n",
      "DEBUG:gym-duckietown:[2.93790218 0.         3.25269518] corresponds to tile at (5, 5) which is not drivable: {'coords': (5, 5), 'kind': 'floor', 'angle': 0, 'drivable': False, 'texture': <gym_duckietown.graphics.Texture object at 0x000001A3AE5F2278>, 'color': array([1, 1, 1])}\n",
      "DEBUG:gym-duckietown:Invalid pose. Collision free: True On drivable area: False\n",
      "DEBUG:gym-duckietown:safety_factor: 1.0\n",
      "DEBUG:gym-duckietown:pos: [2.85765081 0.         3.21195554]\n",
      "DEBUG:gym-duckietown:l_pos: [2.89160051 0.         3.1450794 ]\n",
      "DEBUG:gym-duckietown:r_pos: [2.82370111 0.         3.27883168]\n",
      "DEBUG:gym-duckietown:f_pos: [2.93790218 0.         3.25269518]\n",
      "INFO:gym-duckietown:Stopping the simulator because we are at an invalid pose.\n",
      "INFO:gym-duckietown:Pos: [2.87905117 0.         3.22281945] angle 5.81343610526223\n"
     ]
    },
    {
     "name": "stdout",
     "output_type": "stream",
     "text": [
      "\n"
     ]
    },
    {
     "name": "stderr",
     "output_type": "stream",
     "text": [
      "INFO:gym-duckietown:Pos: [2.91165133 0.         3.237738  ] angle 5.894585433250948\n",
      "DEBUG:gym-duckietown:[2.9727304  0.         3.26274495] corresponds to tile at (5, 5) which is not drivable: {'coords': (5, 5), 'kind': 'floor', 'angle': 0, 'drivable': False, 'texture': <gym_duckietown.graphics.Texture object at 0x000001A3AE5F2278>, 'color': array([1, 1, 1])}\n",
      "DEBUG:gym-duckietown:Invalid pose. Collision free: True On drivable area: False\n",
      "DEBUG:gym-duckietown:safety_factor: 1.0\n",
      "DEBUG:gym-duckietown:pos: [2.88944076 0.         3.22864457]\n",
      "DEBUG:gym-duckietown:l_pos: [2.91785773 0.         3.15923654]\n",
      "DEBUG:gym-duckietown:r_pos: [2.86102378 0.         3.29805261]\n",
      "DEBUG:gym-duckietown:f_pos: [2.9727304  0.         3.26274495]\n",
      "INFO:gym-duckietown:Stopping the simulator because we are at an invalid pose.\n",
      "INFO:gym-duckietown:Pos: [2.91165133 0.         3.237738  ] angle 5.894585433250948\n"
     ]
    },
    {
     "name": "stdout",
     "output_type": "stream",
     "text": [
      "[0.79306924 1.2397498 ]\n"
     ]
    },
    {
     "name": "stderr",
     "output_type": "stream",
     "text": [
      "INFO:gym-duckietown:Pos: [2.94535612 0.         3.24996703] angle 5.975672507499567\n",
      "DEBUG:gym-duckietown:[2.94518365 0.         3.17122079] corresponds to tile at (5, 5) which is not drivable: {'coords': (5, 5), 'kind': 'floor', 'angle': 0, 'drivable': False, 'texture': <gym_duckietown.graphics.Texture object at 0x000001A3AE5F2278>, 'color': array([1, 1, 1])}\n",
      "DEBUG:gym-duckietown:Invalid pose. Collision free: True On drivable area: False\n",
      "DEBUG:gym-duckietown:safety_factor: 1.0\n",
      "DEBUG:gym-duckietown:pos: [2.92248197 0.         3.24270249]\n",
      "DEBUG:gym-duckietown:l_pos: [2.94518365 0.         3.17122079]\n",
      "DEBUG:gym-duckietown:r_pos: [2.8997803  0.         3.31418419]\n",
      "DEBUG:gym-duckietown:f_pos: [3.00826002 0.         3.2699445 ]\n",
      "INFO:gym-duckietown:Stopping the simulator because we are at an invalid pose.\n",
      "INFO:gym-duckietown:Pos: [2.94535612 0.         3.24996703] angle 5.975672507499567\n"
     ]
    },
    {
     "name": "stdout",
     "output_type": "stream",
     "text": [
      "[0.793228  1.2187264]\n"
     ]
    },
    {
     "name": "stderr",
     "output_type": "stream",
     "text": [
      "INFO:gym-duckietown:Pos: [2.97994239 0.         3.25942701] angle 6.056721637353408\n",
      "DEBUG:gym-duckietown:[2.95655519 0.         3.25403822] corresponds to tile at (5, 5) which is not drivable: {'coords': (5, 5), 'kind': 'floor', 'angle': 0, 'drivable': False, 'texture': <gym_duckietown.graphics.Texture object at 0x000001A3AE5F2278>, 'color': array([1, 1, 1])}\n",
      "DEBUG:gym-duckietown:Invalid pose. Collision free: True On drivable area: False\n",
      "DEBUG:gym-duckietown:safety_factor: 1.0\n",
      "DEBUG:gym-duckietown:pos: [2.95655519 0.         3.25403822]\n",
      "DEBUG:gym-duckietown:l_pos: [2.97339516 0.         3.18095323]\n",
      "DEBUG:gym-duckietown:r_pos: [2.93971523 0.         3.32712321]\n",
      "DEBUG:gym-duckietown:f_pos: [3.04425718 0.         3.27424618]\n",
      "INFO:gym-duckietown:Stopping the simulator because we are at an invalid pose.\n",
      "INFO:gym-duckietown:Pos: [2.97994239 0.         3.25942701] angle 6.056721637353408\n"
     ]
    },
    {
     "name": "stdout",
     "output_type": "stream",
     "text": [
      "[0.7933247 1.206696 ]\n",
      "[0.7932454 1.216858 ]"
     ]
    },
    {
     "name": "stderr",
     "output_type": "stream",
     "text": [
      "INFO:gym-duckietown:Pos: [3.01517955 0.         3.26605497] angle 6.137801894077298\n",
      "DEBUG:gym-duckietown:[2.99143274 0.         3.26257805] corresponds to tile at (5, 5) which is not drivable: {'coords': (5, 5), 'kind': 'floor', 'angle': 0, 'drivable': False, 'texture': <gym_duckietown.graphics.Texture object at 0x000001A3AE5F2278>, 'color': array([1, 1, 1])}\n",
      "DEBUG:gym-duckietown:Invalid pose. Collision free: True On drivable area: False\n",
      "DEBUG:gym-duckietown:safety_factor: 1.0\n",
      "DEBUG:gym-duckietown:pos: [2.99143274 0.         3.26257805]\n",
      "DEBUG:gym-duckietown:l_pos: [3.00229812 0.         3.18836927]\n",
      "DEBUG:gym-duckietown:r_pos: [2.98056735 0.         3.33678683]\n",
      "DEBUG:gym-duckietown:f_pos: [3.08048328 0.         3.27561651]\n",
      "INFO:gym-duckietown:Stopping the simulator because we are at an invalid pose.\n",
      "INFO:gym-duckietown:Pos: [3.01517955 0.         3.26605497] angle 6.137801894077298\n"
     ]
    },
    {
     "name": "stdout",
     "output_type": "stream",
     "text": [
      "\n",
      "[0.7930104 1.2475383]"
     ]
    },
    {
     "name": "stderr",
     "output_type": "stream",
     "text": [
      "INFO:gym-duckietown:Pos: [3.05083323 0.         3.26980512] angle 6.218974284778243\n",
      "DEBUG:gym-duckietown:[3.02688269 0.         3.26826511] corresponds to tile at (5, 5) which is not drivable: {'coords': (5, 5), 'kind': 'floor', 'angle': 0, 'drivable': False, 'texture': <gym_duckietown.graphics.Texture object at 0x000001A3AE5F2278>, 'color': array([1, 1, 1])}\n",
      "DEBUG:gym-duckietown:Invalid pose. Collision free: True On drivable area: False\n",
      "DEBUG:gym-duckietown:safety_factor: 1.0\n",
      "DEBUG:gym-duckietown:pos: [3.02688269 0.         3.26826511]\n",
      "DEBUG:gym-duckietown:l_pos: [3.03169521 0.         3.19341967]\n",
      "DEBUG:gym-duckietown:r_pos: [3.02207017 0.         3.34311055]\n",
      "DEBUG:gym-duckietown:f_pos: [3.11669722 0.         3.27404013]\n",
      "INFO:gym-duckietown:Stopping the simulator because we are at an invalid pose.\n",
      "INFO:gym-duckietown:Pos: [3.05083323 0.         3.26980512] angle 6.218974284778243\n"
     ]
    },
    {
     "name": "stdout",
     "output_type": "stream",
     "text": [
      "\n"
     ]
    },
    {
     "name": "stderr",
     "output_type": "stream",
     "text": [
      "INFO:gym-duckietown:Pos: [3.08666715 0.         3.27064957] angle 6.300273520396435\n",
      "DEBUG:gym-duckietown:[3.06267065 0.         3.27105967] corresponds to tile at (5, 5) which is not drivable: {'coords': (5, 5), 'kind': 'floor', 'angle': 0, 'drivable': False, 'texture': <gym_duckietown.graphics.Texture object at 0x000001A3AE5F2278>, 'color': array([1, 1, 1])}\n",
      "DEBUG:gym-duckietown:Invalid pose. Collision free: True On drivable area: False\n",
      "DEBUG:gym-duckietown:safety_factor: 1.0\n",
      "DEBUG:gym-duckietown:pos: [3.06267065 0.         3.27105967]\n",
      "DEBUG:gym-duckietown:l_pos: [3.0613891  0.         3.19607062]\n",
      "DEBUG:gym-duckietown:r_pos: [3.06395221 0.         3.34604872]\n",
      "DEBUG:gym-duckietown:f_pos: [3.15265751 0.         3.2695218 ]\n",
      "INFO:gym-duckietown:Stopping the simulator because we are at an invalid pose.\n",
      "INFO:gym-duckietown:Pos: [3.08666715 0.         3.27064957] angle 6.300273520396435\n"
     ]
    },
    {
     "name": "stdout",
     "output_type": "stream",
     "text": [
      "[0.79268694 1.2900453 ]\n"
     ]
    },
    {
     "name": "stderr",
     "output_type": "stream",
     "text": [
      "INFO:gym-duckietown:Pos: [3.12245016 0.         3.26858085] angle 6.381594338350056\n",
      "DEBUG:gym-duckietown:[3.09856628 0.         3.27093886] corresponds to tile at (5, 5) which is not drivable: {'coords': (5, 5), 'kind': 'floor', 'angle': 0, 'drivable': False, 'texture': <gym_duckietown.graphics.Texture object at 0x000001A3AE5F2278>, 'color': array([1, 1, 1])}\n",
      "DEBUG:gym-duckietown:Invalid pose. Collision free: True On drivable area: False\n",
      "DEBUG:gym-duckietown:safety_factor: 1.0\n",
      "DEBUG:gym-duckietown:pos: [3.09856628 0.         3.27093886]\n",
      "DEBUG:gym-duckietown:l_pos: [3.09119751 0.         3.19630173]\n",
      "DEBUG:gym-duckietown:r_pos: [3.10593505 0.         3.34557599]\n",
      "DEBUG:gym-duckietown:f_pos: [3.18813083 0.         3.26209633]\n",
      "INFO:gym-duckietown:Stopping the simulator because we are at an invalid pose.\n",
      "INFO:gym-duckietown:Pos: [3.12245016 0.         3.26858085] angle 6.381594338350056\n"
     ]
    },
    {
     "name": "stdout",
     "output_type": "stream",
     "text": [
      "[0.7926319 1.2971785]\n"
     ]
    },
    {
     "name": "stderr",
     "output_type": "stream",
     "text": [
      "INFO:gym-duckietown:Pos: [3.15794486 0.         3.26361187] angle 6.462952944869319\n",
      "DEBUG:gym-duckietown:[3.13433162 0.         3.26790309] corresponds to tile at (5, 5) which is not drivable: {'coords': (5, 5), 'kind': 'floor', 'angle': 0, 'drivable': False, 'texture': <gym_duckietown.graphics.Texture object at 0x000001A3AE5F2278>, 'color': array([1, 1, 1])}\n",
      "DEBUG:gym-duckietown:Invalid pose. Collision free: True On drivable area: False\n",
      "DEBUG:gym-duckietown:safety_factor: 1.0\n",
      "DEBUG:gym-duckietown:pos: [3.13433162 0.         3.26790309]\n",
      "DEBUG:gym-duckietown:l_pos: [3.12092154 0.         3.1941117 ]\n",
      "DEBUG:gym-duckietown:r_pos: [3.14774169 0.         3.34169449]\n",
      "DEBUG:gym-duckietown:f_pos: [3.22288129 0.         3.25181101]\n",
      "INFO:gym-duckietown:Stopping the simulator because we are at an invalid pose.\n",
      "INFO:gym-duckietown:Pos: [3.15794486 0.         3.26361187] angle 6.462952944869319\n"
     ]
    },
    {
     "name": "stdout",
     "output_type": "stream",
     "text": [
      "[0.79253554 1.3095095 ]\n"
     ]
    },
    {
     "name": "stderr",
     "output_type": "stream",
     "text": [
      "INFO:gym-duckietown:Pos: [3.19290456 0.         3.2557731 ] angle 6.544567130651359\n",
      "DEBUG:gym-duckietown:[3.16971974 0.         3.26197508] corresponds to tile at (5, 5) which is not drivable: {'coords': (5, 5), 'kind': 'floor', 'angle': 0, 'drivable': False, 'texture': <gym_duckietown.graphics.Texture object at 0x000001A3AE5F2278>, 'color': array([1, 1, 1])}\n",
      "DEBUG:gym-duckietown:Invalid pose. Collision free: True On drivable area: False\n",
      "DEBUG:gym-duckietown:safety_factor: 1.0\n",
      "DEBUG:gym-duckietown:pos: [3.16971974 0.         3.26197508]\n",
      "DEBUG:gym-duckietown:l_pos: [3.15033857 0.         3.18952254]\n",
      "DEBUG:gym-duckietown:r_pos: [3.18910092 0.         3.33442762]\n",
      "DEBUG:gym-duckietown:f_pos: [3.25666279 0.         3.23871767]\n",
      "INFO:gym-duckietown:Stopping the simulator because we are at an invalid pose.\n",
      "INFO:gym-duckietown:Pos: [3.19290456 0.         3.2557731 ] angle 6.544567130651359\n"
     ]
    },
    {
     "name": "stdout",
     "output_type": "stream",
     "text": [
      "[0.7918838 1.386154 ]\n"
     ]
    },
    {
     "name": "stderr",
     "output_type": "stream",
     "text": [
      "INFO:gym-duckietown:Pos: [3.22712156 0.         3.24511082] angle 6.62594675462543\n",
      "DEBUG:gym-duckietown:[3.20451764 0.         3.25317696] corresponds to tile at (5, 5) which is not drivable: {'coords': (5, 5), 'kind': 'floor', 'angle': 0, 'drivable': False, 'texture': <gym_duckietown.graphics.Texture object at 0x000001A3AE5F2278>, 'color': array([1, 1, 1])}\n",
      "DEBUG:gym-duckietown:Invalid pose. Collision free: True On drivable area: False\n",
      "DEBUG:gym-duckietown:safety_factor: 1.0\n",
      "DEBUG:gym-duckietown:pos: [3.20451764 0.         3.25317696]\n",
      "DEBUG:gym-duckietown:l_pos: [3.17931095 0.         3.1825397 ]\n",
      "DEBUG:gym-duckietown:r_pos: [3.22972433 0.         3.32381423]\n",
      "DEBUG:gym-duckietown:f_pos: [3.28928235 0.         3.22292894]\n",
      "INFO:gym-duckietown:Stopping the simulator because we are at an invalid pose.\n",
      "INFO:gym-duckietown:Pos: [3.22712156 0.         3.24511082] angle 6.62594675462543\n"
     ]
    },
    {
     "name": "stdout",
     "output_type": "stream",
     "text": [
      "[0.79248196 1.3160455 ]\n",
      "[0.79374564 1.1499156 ]"
     ]
    },
    {
     "name": "stderr",
     "output_type": "stream",
     "text": [
      "INFO:gym-duckietown:Pos: [3.26038546 0.         3.23170108] angle 6.706830822466255\n",
      "DEBUG:gym-duckietown:[3.23850715 0.         3.24156716] corresponds to tile at (5, 5) which is not drivable: {'coords': (5, 5), 'kind': 'floor', 'angle': 0, 'drivable': False, 'texture': <gym_duckietown.graphics.Texture object at 0x000001A3AE5F2278>, 'color': array([1, 1, 1])}\n",
      "DEBUG:gym-duckietown:Invalid pose. Collision free: True On drivable area: False\n",
      "DEBUG:gym-duckietown:safety_factor: 1.0\n",
      "DEBUG:gym-duckietown:pos: [3.23850715 0.         3.24156716]\n",
      "DEBUG:gym-duckietown:l_pos: [3.20767567 0.         3.17319743]\n",
      "DEBUG:gym-duckietown:r_pos: [3.26933863 0.         3.30993688]\n",
      "DEBUG:gym-duckietown:f_pos: [3.32055082 0.         3.20456938]\n",
      "INFO:gym-duckietown:Stopping the simulator because we are at an invalid pose.\n",
      "INFO:gym-duckietown:Pos: [3.26038546 0.         3.23170108] angle 6.706830822466255\n"
     ]
    },
    {
     "name": "stdout",
     "output_type": "stream",
     "text": [
      "\n"
     ]
    },
    {
     "name": "stderr",
     "output_type": "stream",
     "text": [
      "INFO:gym-duckietown:Pos: [3.29240738 0.         3.21565399] angle 6.788639502489499\n",
      "DEBUG:gym-duckietown:[3.27140847 0.         3.22727491] corresponds to tile at (5, 5) which is not drivable: {'coords': (5, 5), 'kind': 'floor', 'angle': 0, 'drivable': False, 'texture': <gym_duckietown.graphics.Texture object at 0x000001A3AE5F2278>, 'color': array([1, 1, 1])}\n",
      "DEBUG:gym-duckietown:Invalid pose. Collision free: True On drivable area: False\n",
      "DEBUG:gym-duckietown:safety_factor: 1.0\n",
      "DEBUG:gym-duckietown:pos: [3.27140847 0.         3.22727491]\n",
      "DEBUG:gym-duckietown:l_pos: [3.2350931  0.         3.16165331]\n",
      "DEBUG:gym-duckietown:r_pos: [3.30772384 0.         3.29289651]\n",
      "DEBUG:gym-duckietown:f_pos: [3.35015439 0.         3.18369647]\n",
      "INFO:gym-duckietown:Stopping the simulator because we are at an invalid pose.\n",
      "INFO:gym-duckietown:Pos: [3.29240738 0.         3.21565399] angle 6.788639502489499\n"
     ]
    },
    {
     "name": "stdout",
     "output_type": "stream",
     "text": [
      "[0.79138786 1.4572158 ]\n"
     ]
    },
    {
     "name": "stderr",
     "output_type": "stream",
     "text": [
      "INFO:gym-duckietown:Pos: [3.32284914 0.         3.19707855] angle 6.873496843221151\n",
      "DEBUG:gym-duckietown:[3.30291073 0.         3.21043743] corresponds to tile at (5, 5) which is not drivable: {'coords': (5, 5), 'kind': 'floor', 'angle': 0, 'drivable': False, 'texture': <gym_duckietown.graphics.Texture object at 0x000001A3AE5F2278>, 'color': array([1, 1, 1])}\n",
      "DEBUG:gym-duckietown:Invalid pose. Collision free: True On drivable area: False\n",
      "DEBUG:gym-duckietown:safety_factor: 1.0\n",
      "DEBUG:gym-duckietown:pos: [3.30291073 0.         3.21043743]\n",
      "DEBUG:gym-duckietown:l_pos: [3.26116424 0.         3.14812988]\n",
      "DEBUG:gym-duckietown:r_pos: [3.34465722 0.         3.27274497]\n",
      "DEBUG:gym-duckietown:f_pos: [3.37767979 0.         3.16034164]\n",
      "INFO:gym-duckietown:Stopping the simulator because we are at an invalid pose.\n",
      "INFO:gym-duckietown:Pos: [3.32284914 0.         3.19707855] angle 6.873496843221151\n"
     ]
    },
    {
     "name": "stdout",
     "output_type": "stream",
     "text": [
      "[0.7836138 2.4335506]\n"
     ]
    },
    {
     "name": "stderr",
     "output_type": "stream",
     "text": [
      "INFO:gym-duckietown:Pos: [3.35157628 0.         3.17599928] angle 6.9589466268517715\n",
      "DEBUG:gym-duckietown:[3.33285073 0.         3.19101107] corresponds to tile at (5, 5) which is not drivable: {'coords': (5, 5), 'kind': 'floor', 'angle': 0, 'drivable': False, 'texture': <gym_duckietown.graphics.Texture object at 0x000001A3AE5F2278>, 'color': array([1, 1, 1])}\n",
      "DEBUG:gym-duckietown:Invalid pose. Collision free: True On drivable area: False\n",
      "DEBUG:gym-duckietown:safety_factor: 1.0\n",
      "DEBUG:gym-duckietown:pos: [3.33285073 0.         3.19101107]\n",
      "DEBUG:gym-duckietown:l_pos: [3.28593887 0.         3.13249375]\n",
      "DEBUG:gym-duckietown:r_pos: [3.3797626 0.        3.2495284]\n",
      "DEBUG:gym-duckietown:f_pos: [3.40307152 0.         3.13471684]\n",
      "INFO:gym-duckietown:Stopping the simulator because we are at an invalid pose.\n",
      "INFO:gym-duckietown:Pos: [3.35157628 0.         3.17599928] angle 6.9589466268517715\n"
     ]
    },
    {
     "name": "stdout",
     "output_type": "stream",
     "text": [
      "[0.78210306 2.6208615 ]\n"
     ]
    },
    {
     "name": "stderr",
     "output_type": "stream",
     "text": [
      "INFO:gym-duckietown:Pos: [3.37857021 0.         3.15247658] angle 7.0410067956229545\n",
      "DEBUG:gym-duckietown:[3.36113816 0.         3.16897275] corresponds to tile at (5, 5) which is not drivable: {'coords': (5, 5), 'kind': 'floor', 'angle': 0, 'drivable': False, 'texture': <gym_duckietown.graphics.Texture object at 0x000001A3AE5F2278>, 'color': array([1, 1, 1])}\n",
      "DEBUG:gym-duckietown:Invalid pose. Collision free: True On drivable area: False\n",
      "DEBUG:gym-duckietown:safety_factor: 1.0\n",
      "DEBUG:gym-duckietown:pos: [3.36113816 0.         3.16897275]\n",
      "DEBUG:gym-duckietown:l_pos: [3.30958761 0.         3.11449762]\n",
      "DEBUG:gym-duckietown:r_pos: [3.41268872 0.         3.22344789]\n",
      "DEBUG:gym-duckietown:f_pos: [3.42650832 0.         3.10711209]\n",
      "INFO:gym-duckietown:Stopping the simulator because we are at an invalid pose.\n",
      "INFO:gym-duckietown:Pos: [3.37857021 0.         3.15247658] angle 7.0410067956229545\n"
     ]
    },
    {
     "name": "stdout",
     "output_type": "stream",
     "text": [
      "[0.79074657 1.5368228 ]\n"
     ]
    },
    {
     "name": "stderr",
     "output_type": "stream",
     "text": [
      "INFO:gym-duckietown:Pos: [3.40355709 0.         3.12681445] angle 7.122821962034012\n",
      "DEBUG:gym-duckietown:[3.38753149 0.         3.14468007] corresponds to tile at (5, 5) which is not drivable: {'coords': (5, 5), 'kind': 'floor', 'angle': 0, 'drivable': False, 'texture': <gym_duckietown.graphics.Texture object at 0x000001A3AE5F2278>, 'color': array([1, 1, 1])}\n",
      "DEBUG:gym-duckietown:Invalid pose. Collision free: True On drivable area: False\n",
      "DEBUG:gym-duckietown:safety_factor: 1.0\n",
      "DEBUG:gym-duckietown:pos: [3.38753149 0.         3.14468007]\n",
      "DEBUG:gym-duckietown:l_pos: [3.33170145 0.         3.09460007]\n",
      "DEBUG:gym-duckietown:r_pos: [3.44336153 0.         3.19476007]\n",
      "DEBUG:gym-duckietown:f_pos: [3.44762749 0.         3.07768402]\n",
      "INFO:gym-duckietown:Stopping the simulator because we are at an invalid pose.\n",
      "INFO:gym-duckietown:Pos: [3.40355709 0.         3.12681445] angle 7.122821962034012\n"
     ]
    },
    {
     "name": "stdout",
     "output_type": "stream",
     "text": [
      "[0.79137135 1.4423113 ]\n"
     ]
    },
    {
     "name": "stderr",
     "output_type": "stream",
     "text": [
      "INFO:gym-duckietown:Pos: [3.42636622 0.         3.09919431] angle 7.204571777600878\n",
      "DEBUG:gym-duckietown:[3.41185302 0.         3.11830889] corresponds to tile at (5, 5) which is not drivable: {'coords': (5, 5), 'kind': 'floor', 'angle': 0, 'drivable': False, 'texture': <gym_duckietown.graphics.Texture object at 0x000001A3AE5F2278>, 'color': array([1, 1, 1])}\n",
      "DEBUG:gym-duckietown:Invalid pose. Collision free: True On drivable area: False\n",
      "DEBUG:gym-duckietown:safety_factor: 1.0\n",
      "DEBUG:gym-duckietown:pos: [3.41185302 0.         3.11830889]\n",
      "DEBUG:gym-duckietown:l_pos: [3.35211996 0.         3.07295515]\n",
      "DEBUG:gym-duckietown:r_pos: [3.47158608 0.         3.16366263]\n",
      "DEBUG:gym-duckietown:f_pos: [3.46627751 0.         3.04662922]\n",
      "INFO:gym-duckietown:Stopping the simulator because we are at an invalid pose.\n",
      "INFO:gym-duckietown:Pos: [3.42636622 0.         3.09919431] angle 7.204571777600878\n"
     ]
    },
    {
     "name": "stdout",
     "output_type": "stream",
     "text": [
      "[0.791538  1.4311173]\n"
     ]
    },
    {
     "name": "stderr",
     "output_type": "stream",
     "text": [
      "INFO:gym-duckietown:Pos: [3.44686137 0.         3.06979111] angle 7.285920781149594\n",
      "DEBUG:gym-duckietown:[3.43394941 0.         3.0900218 ] corresponds to tile at (5, 5) which is not drivable: {'coords': (5, 5), 'kind': 'floor', 'angle': 0, 'drivable': False, 'texture': <gym_duckietown.graphics.Texture object at 0x000001A3AE5F2278>, 'color': array([1, 1, 1])}\n",
      "DEBUG:gym-duckietown:Invalid pose. Collision free: True On drivable area: False\n",
      "DEBUG:gym-duckietown:safety_factor: 1.0\n",
      "DEBUG:gym-duckietown:pos: [3.43394941 0.         3.0900218 ]\n",
      "DEBUG:gym-duckietown:l_pos: [3.37072847 0.         3.04967192]\n",
      "DEBUG:gym-duckietown:r_pos: [3.49717035 0.         3.13037169]\n",
      "DEBUG:gym-duckietown:f_pos: [3.48236927 0.         3.01415668]\n",
      "INFO:gym-duckietown:Stopping the simulator because we are at an invalid pose.\n",
      "INFO:gym-duckietown:Pos: [3.44686137 0.         3.06979111] angle 7.285920781149594\n"
     ]
    },
    {
     "name": "stdout",
     "output_type": "stream",
     "text": [
      "[0.79256004 1.3032899 ]\n"
     ]
    },
    {
     "name": "stderr",
     "output_type": "stream",
     "text": [
      "INFO:gym-duckietown:Pos: [3.46477176 0.         3.03892912] angle 7.370368778217862\n",
      "DEBUG:gym-duckietown:[3.45361223 0.         3.06017682] corresponds to tile at (5, 5) which is not drivable: {'coords': (5, 5), 'kind': 'floor', 'angle': 0, 'drivable': False, 'texture': <gym_duckietown.graphics.Texture object at 0x000001A3AE5F2278>, 'color': array([1, 1, 1])}\n",
      "DEBUG:gym-duckietown:Invalid pose. Collision free: True On drivable area: False\n",
      "DEBUG:gym-duckietown:safety_factor: 1.0\n",
      "DEBUG:gym-duckietown:pos: [3.45361223 0.         3.06017682]\n",
      "DEBUG:gym-duckietown:l_pos: [3.38721317 0.         3.02530326]\n",
      "DEBUG:gym-duckietown:r_pos: [3.52001129 0.         3.09505037]\n",
      "DEBUG:gym-duckietown:f_pos: [3.49546049 0.         2.98049795]\n",
      "INFO:gym-duckietown:Stopping the simulator because we are at an invalid pose.\n",
      "INFO:gym-duckietown:Pos: [3.46477176 0.         3.03892912] angle 7.370368778217862\n"
     ]
    },
    {
     "name": "stdout",
     "output_type": "stream",
     "text": [
      "[0.7846576 2.3006742]\n"
     ]
    },
    {
     "name": "stderr",
     "output_type": "stream",
     "text": [
      "INFO:gym-duckietown:Pos: [3.48001343 0.         3.00789123] angle 7.4246442418269964\n",
      "DEBUG:gym-duckietown:[3.47002298 0.         3.02971303] corresponds to tile at (5, 5) which is not drivable: {'coords': (5, 5), 'kind': 'floor', 'angle': 0, 'drivable': False, 'texture': <gym_duckietown.graphics.Texture object at 0x000001A3AE5F2278>, 'color': array([1, 1, 1])}\n",
      "DEBUG:gym-duckietown:Invalid pose. Collision free: True On drivable area: False\n",
      "DEBUG:gym-duckietown:safety_factor: 1.0\n",
      "DEBUG:gym-duckietown:pos: [3.47002298 0.         3.02971303]\n",
      "DEBUG:gym-duckietown:l_pos: [3.40182985 0.         2.9984929 ]\n",
      "DEBUG:gym-duckietown:r_pos: [3.53821612 0.         3.06093316]\n",
      "DEBUG:gym-duckietown:f_pos: [3.50748714 0.         2.94788127]\n",
      "INFO:gym-duckietown:Stopping the simulator because we are at an invalid pose.\n",
      "INFO:gym-duckietown:Pos: [3.48001343 0.         3.00789123] angle 7.4246442418269964\n"
     ]
    },
    {
     "name": "stdout",
     "output_type": "stream",
     "text": [
      "[0.7953624 0.9337649]\n"
     ]
    },
    {
     "name": "stderr",
     "output_type": "stream",
     "text": [
      "INFO:gym-duckietown:Pos: [3.49350641 0.         2.9748239 ] angle 7.5084731102566415\n",
      "DEBUG:gym-duckietown:[3.4853782  0.         2.99740558] corresponds to tile at (5, 5) which is not drivable: {'coords': (5, 5), 'kind': 'floor', 'angle': 0, 'drivable': False, 'texture': <gym_duckietown.graphics.Texture object at 0x000001A3AE5F2278>, 'color': array([1, 1, 1])}\n",
      "DEBUG:gym-duckietown:Invalid pose. Collision free: True On drivable area: False\n",
      "DEBUG:gym-duckietown:safety_factor: 1.0\n",
      "DEBUG:gym-duckietown:pos: [3.4853782  0.         2.99740558]\n",
      "DEBUG:gym-duckietown:l_pos: [3.41481045 0.         2.97200494]\n",
      "DEBUG:gym-duckietown:r_pos: [3.55594595 0.         3.02280622]\n",
      "DEBUG:gym-duckietown:f_pos: [3.51585897 0.         2.91272428]\n",
      "INFO:gym-duckietown:Stopping the simulator because we are at an invalid pose.\n",
      "INFO:gym-duckietown:Pos: [3.49350641 0.         2.9748239 ] angle 7.5084731102566415\n"
     ]
    },
    {
     "name": "stdout",
     "output_type": "stream",
     "text": [
      "[0.7862364 2.1094975]\n"
     ]
    },
    {
     "name": "stderr",
     "output_type": "stream",
     "text": [
      "INFO:gym-duckietown:Pos: [3.50427282 0.         2.94062268] angle 7.5895392839223055\n",
      "DEBUG:gym-duckietown:[3.49799991 0.         2.9637884 ] corresponds to tile at (5, 5) which is not drivable: {'coords': (5, 5), 'kind': 'floor', 'angle': 0, 'drivable': False, 'texture': <gym_duckietown.graphics.Texture object at 0x000001A3AE5F2278>, 'color': array([1, 1, 1])}\n",
      "DEBUG:gym-duckietown:Invalid pose. Collision free: True On drivable area: False\n",
      "DEBUG:gym-duckietown:safety_factor: 1.0\n",
      "DEBUG:gym-duckietown:pos: [3.49799991 0.         2.9637884 ]\n",
      "DEBUG:gym-duckietown:l_pos: [3.42560703 0.         2.94418557]\n",
      "DEBUG:gym-duckietown:r_pos: [3.5703928  0.         2.98339123]\n",
      "DEBUG:gym-duckietown:f_pos: [3.52152331 0.         2.87691695]\n",
      "INFO:gym-duckietown:Stopping the simulator because we are at an invalid pose.\n",
      "INFO:gym-duckietown:Pos: [3.50427282 0.         2.94062268] angle 7.5895392839223055\n"
     ]
    },
    {
     "name": "stdout",
     "output_type": "stream",
     "text": [
      "[0.79328126 1.2118258 ]\n"
     ]
    },
    {
     "name": "stderr",
     "output_type": "stream",
     "text": [
      "INFO:gym-duckietown:Pos: [3.51220921 0.         2.90570204] angle 7.671477496915403\n",
      "DEBUG:gym-duckietown:[3.50785338 0.         2.92930346] corresponds to tile at (5, 5) which is not drivable: {'coords': (5, 5), 'kind': 'floor', 'angle': 0, 'drivable': False, 'texture': <gym_duckietown.graphics.Texture object at 0x000001A3AE5F2278>, 'color': array([1, 1, 1])}\n",
      "DEBUG:gym-duckietown:Invalid pose. Collision free: True On drivable area: False\n",
      "DEBUG:gym-duckietown:safety_factor: 1.0\n",
      "DEBUG:gym-duckietown:pos: [3.50785338 0.         2.92930346]\n",
      "DEBUG:gym-duckietown:l_pos: [3.43409896 0.         2.91569151]\n",
      "DEBUG:gym-duckietown:r_pos: [3.5816078  0.         2.94291541]\n",
      "DEBUG:gym-duckietown:f_pos: [3.52418772 0.         2.84079815]\n",
      "INFO:gym-duckietown:Stopping the simulator because we are at an invalid pose.\n",
      "INFO:gym-duckietown:Pos: [3.51220921 0.         2.90570204] angle 7.671477496915403\n"
     ]
    },
    {
     "name": "stdout",
     "output_type": "stream",
     "text": [
      "[0.7910576 1.4992962]\n"
     ]
    },
    {
     "name": "stderr",
     "output_type": "stream",
     "text": [
      "INFO:gym-duckietown:Pos: [3.51727897 0.         2.870214  ] angle 7.752689429259778\n",
      "INFO:gym-duckietown:Pos: [3.51727897 0.         2.870214  ] angle 7.752689429259778\n"
     ]
    },
    {
     "name": "stdout",
     "output_type": "stream",
     "text": [
      "[0.79290956 1.2497663 ]\n"
     ]
    },
    {
     "name": "stderr",
     "output_type": "stream",
     "text": [
      "INFO:gym-duckietown:Pos: [3.51935678 0.         2.83466272] angle 7.838515306511746\n",
      "INFO:gym-duckietown:Pos: [3.51935678 0.         2.83466272] angle 7.838515306511746\n"
     ]
    },
    {
     "name": "stdout",
     "output_type": "stream",
     "text": [
      "[0.781144 2.741002]\n"
     ]
    },
    {
     "name": "stderr",
     "output_type": "stream",
     "text": [
      "INFO:gym-duckietown:Pos: [3.51845551 0.         2.79882618] angle 7.919736315903331\n",
      "INFO:gym-duckietown:Pos: [3.51845551 0.         2.79882618] angle 7.919736315903331\n"
     ]
    },
    {
     "name": "stdout",
     "output_type": "stream",
     "text": [
      "[0.79288644 1.2592165 ]\n"
     ]
    },
    {
     "name": "stderr",
     "output_type": "stream",
     "text": [
      "INFO:gym-duckietown:Pos: [3.51463717 0.         2.76323463] angle 8.001974129890316\n",
      "INFO:gym-duckietown:Pos: [3.51463717 0.         2.76323463] angle 8.001974129890316\n"
     ]
    },
    {
     "name": "stdout",
     "output_type": "stream",
     "text": [
      "[0.7902936 1.59513  ]\n"
     ]
    },
    {
     "name": "stderr",
     "output_type": "stream",
     "text": [
      "INFO:gym-duckietown:Pos: [3.50791449 0.         2.72803366] angle 8.08340418406874\n",
      "INFO:gym-duckietown:Pos: [3.50791449 0.         2.72803366] angle 8.08340418406874\n"
     ]
    },
    {
     "name": "stdout",
     "output_type": "stream",
     "text": [
      "[0.7923534 1.3312956]\n",
      "[0.7894279 1.7012053]"
     ]
    },
    {
     "name": "stderr",
     "output_type": "stream",
     "text": [
      "INFO:gym-duckietown:Pos: [3.49834675 0.         2.69355829] angle 8.165981491308598\n",
      "INFO:gym-duckietown:Pos: [3.49834675 0.         2.69355829] angle 8.165981491308598\n"
     ]
    },
    {
     "name": "stdout",
     "output_type": "stream",
     "text": [
      "\n"
     ]
    },
    {
     "name": "stderr",
     "output_type": "stream",
     "text": [
      "INFO:gym-duckietown:Pos: [3.48596688 0.         2.65992494] angle 8.247367776978262\n",
      "INFO:gym-duckietown:Pos: [3.48596688 0.         2.65992494] angle 8.247367776978262\n"
     ]
    },
    {
     "name": "stdout",
     "output_type": "stream",
     "text": [
      "[0.792465  1.3047159]\n"
     ]
    },
    {
     "name": "stderr",
     "output_type": "stream",
     "text": [
      "INFO:gym-duckietown:Pos: [3.47089519 0.         2.62742447] angle 8.329033678555033\n",
      "INFO:gym-duckietown:Pos: [3.47089519 0.         2.62742447] angle 8.329033678555033\n"
     ]
    },
    {
     "name": "stdout",
     "output_type": "stream",
     "text": [
      "[0.791752  1.3961682]\n"
     ]
    },
    {
     "name": "stderr",
     "output_type": "stream",
     "text": [
      "INFO:gym-duckietown:Pos: [3.45324435 0.         2.59638144] angle 8.412941084869558\n",
      "INFO:gym-duckietown:Pos: [3.45324435 0.         2.59638144] angle 8.412941084869558\n"
     ]
    },
    {
     "name": "stdout",
     "output_type": "stream",
     "text": [
      "[0.78603613 2.1131637 ]\n"
     ]
    },
    {
     "name": "stderr",
     "output_type": "stream",
     "text": [
      "INFO:gym-duckietown:Pos: [3.43306346 0.         2.56696194] angle 8.497517329317304\n",
      "INFO:gym-duckietown:Pos: [3.43306346 0.         2.56696194] angle 8.497517329317304\n"
     ]
    },
    {
     "name": "stdout",
     "output_type": "stream",
     "text": [
      "[0.7843306 2.3360412]\n",
      "[0.78218603 2.5721436 ]"
     ]
    },
    {
     "name": "stderr",
     "output_type": "stream",
     "text": [
      "INFO:gym-duckietown:Pos: [3.41048517 0.         2.53939523] angle 8.582934583615645\n",
      "INFO:gym-duckietown:Pos: [3.41048517 0.         2.53939523] angle 8.582934583615645\n"
     ]
    },
    {
     "name": "stdout",
     "output_type": "stream",
     "text": [
      "\n",
      "[0.7790152 2.9858913]\n"
     ]
    },
    {
     "name": "stderr",
     "output_type": "stream",
     "text": [
      "INFO:gym-duckietown:Pos: [3.38566598 0.         2.51391634] angle 8.669595295988668\n",
      "INFO:gym-duckietown:Pos: [3.38566598 0.         2.51391634] angle 8.669595295988668\n",
      "INFO:gym-duckietown:Pos: [3.35869173 0.         2.49060696] angle 8.754674517932292\n",
      "INFO:gym-duckietown:Pos: [3.35869173 0.         2.49060696] angle 8.754674517932292\n"
     ]
    },
    {
     "name": "stdout",
     "output_type": "stream",
     "text": [
      "[0.783048 2.480986]\n"
     ]
    },
    {
     "name": "stderr",
     "output_type": "stream",
     "text": [
      "INFO:gym-duckietown:Pos: [3.32977466 0.         2.46958827] angle 8.837827769661272\n",
      "INFO:gym-duckietown:Pos: [3.32977466 0.         2.46958827] angle 8.837827769661272\n"
     ]
    },
    {
     "name": "stdout",
     "output_type": "stream",
     "text": [
      "[0.7879592 1.8565404]\n"
     ]
    },
    {
     "name": "stderr",
     "output_type": "stream",
     "text": [
      "INFO:gym-duckietown:Pos: [3.2993232  0.         2.45117868] angle 8.92420374324432\n",
      "INFO:gym-duckietown:Pos: [3.2993232  0.         2.45117868] angle 8.92420374324432\n"
     ]
    },
    {
     "name": "stdout",
     "output_type": "stream",
     "text": [
      "[0.7797413 2.8883324]\n",
      "[0.7792945 2.9452395]"
     ]
    },
    {
     "name": "stderr",
     "output_type": "stream",
     "text": [
      "INFO:gym-duckietown:Pos: [3.26740377 0.         2.43547149] angle 9.010754927212908\n",
      "INFO:gym-duckietown:Pos: [3.26740377 0.         2.43547149] angle 9.010754927212908\n"
     ]
    },
    {
     "name": "stdout",
     "output_type": "stream",
     "text": [
      "\n"
     ]
    },
    {
     "name": "stderr",
     "output_type": "stream",
     "text": [
      "INFO:gym-duckietown:Pos: [3.23424026 0.         2.42257739] angle 9.097165962351704\n",
      "INFO:gym-duckietown:Pos: [3.23424026 0.         2.42257739] angle 9.097165962351704\n"
     ]
    },
    {
     "name": "stdout",
     "output_type": "stream",
     "text": [
      "[0.7796519 2.9092999]\n"
     ]
    },
    {
     "name": "stderr",
     "output_type": "stream",
     "text": [
      "INFO:gym-duckietown:Pos: [3.20012944 0.         2.41262321] angle 9.184521731110191\n",
      "INFO:gym-duckietown:Pos: [3.20012944 0.         2.41262321] angle 9.184521731110191\n"
     ]
    },
    {
     "name": "stdout",
     "output_type": "stream",
     "text": [
      "[0.7772428 3.2082891]\n"
     ]
    },
    {
     "name": "stderr",
     "output_type": "stream",
     "text": [
      "INFO:gym-duckietown:Pos: [3.16522946 0.         2.40565318] angle 9.270791857752156\n",
      "DEBUG:gym-duckietown:[3.20044885 0.         2.33522169] corresponds to tile at (5, 3) which is not drivable: {'coords': (5, 3), 'kind': 'floor', 'angle': 0, 'drivable': False, 'texture': <gym_duckietown.graphics.Texture object at 0x000001A3AE5F2278>, 'color': array([1, 1, 1])}\n",
      "DEBUG:gym-duckietown:Invalid pose. Collision free: True On drivable area: False\n",
      "DEBUG:gym-duckietown:safety_factor: 1.0\n",
      "DEBUG:gym-duckietown:pos: [3.18894548 0.         2.40933426]\n",
      "DEBUG:gym-duckietown:l_pos: [3.17744211 0.         2.48344682]\n",
      "DEBUG:gym-duckietown:r_pos: [3.20044885 0.         2.33522169]\n",
      "DEBUG:gym-duckietown:f_pos: [3.1000104  0.         2.39553021]\n",
      "INFO:gym-duckietown:Stopping the simulator because we are at an invalid pose.\n",
      "INFO:gym-duckietown:Pos: [3.16522946 0.         2.40565318] angle 9.270791857752156\n"
     ]
    },
    {
     "name": "stdout",
     "output_type": "stream",
     "text": [
      "[0.7800112 2.867756 ]\n"
     ]
    },
    {
     "name": "stderr",
     "output_type": "stream",
     "text": [
      "INFO:gym-duckietown:Pos: [3.12987867 0.         2.40172567] angle 9.357469730808855\n",
      "DEBUG:gym-duckietown:[3.15886863 0.         2.32850967] corresponds to tile at (5, 3) which is not drivable: {'coords': (5, 3), 'kind': 'floor', 'angle': 0, 'drivable': False, 'texture': <gym_duckietown.graphics.Texture object at 0x000001A3AE5F2278>, 'color': array([1, 1, 1])}\n",
      "DEBUG:gym-duckietown:Invalid pose. Collision free: True On drivable area: False\n",
      "DEBUG:gym-duckietown:safety_factor: 1.0\n",
      "DEBUG:gym-duckietown:pos: [3.15382433 0.         2.40333985]\n",
      "DEBUG:gym-duckietown:l_pos: [3.14878002 0.         2.47817002]\n",
      "DEBUG:gym-duckietown:r_pos: [3.15886863 0.         2.32850967]\n",
      "DEBUG:gym-duckietown:f_pos: [3.06402812 0.         2.39728668]\n",
      "INFO:gym-duckietown:Stopping the simulator because we are at an invalid pose.\n",
      "INFO:gym-duckietown:Pos: [3.12987867 0.         2.40172567] angle 9.357469730808855\n"
     ]
    },
    {
     "name": "stdout",
     "output_type": "stream",
     "text": [
      "[0.77897143 3.0008068 ]\n"
     ]
    },
    {
     "name": "stderr",
     "output_type": "stream",
     "text": [
      "INFO:gym-duckietown:Pos: [3.09429729 0.         2.40086448] angle 9.443688745493994\n",
      "DEBUG:gym-duckietown:[3.11687477 0.         2.32542406] corresponds to tile at (5, 3) which is not drivable: {'coords': (5, 3), 'kind': 'floor', 'angle': 0, 'drivable': False, 'texture': <gym_duckietown.graphics.Texture object at 0x000001A3AE5F2278>, 'color': array([1, 1, 1])}\n",
      "DEBUG:gym-duckietown:Invalid pose. Collision free: True On drivable area: False\n",
      "DEBUG:gym-duckietown:safety_factor: 1.0\n",
      "DEBUG:gym-duckietown:pos: [3.11829299 0.         2.40041065]\n",
      "DEBUG:gym-duckietown:l_pos: [3.11971122 0.         2.47539724]\n",
      "DEBUG:gym-duckietown:r_pos: [3.11687477 0.         2.32542406]\n",
      "DEBUG:gym-duckietown:f_pos: [3.02830909 0.         2.40211252]\n",
      "INFO:gym-duckietown:Stopping the simulator because we are at an invalid pose.\n",
      "INFO:gym-duckietown:Pos: [3.09429729 0.         2.40086448] angle 9.443688745493994\n"
     ]
    },
    {
     "name": "stdout",
     "output_type": "stream",
     "text": [
      "[0.78014153 2.8562121 ]\n"
     ]
    },
    {
     "name": "stderr",
     "output_type": "stream",
     "text": [
      "INFO:gym-duckietown:Pos: [3.05998675 0.         2.40236622] angle 9.493349796708124\n",
      "DEBUG:gym-duckietown:[3.07879149 0.         2.32589805] corresponds to tile at (5, 3) which is not drivable: {'coords': (5, 3), 'kind': 'floor', 'angle': 0, 'drivable': False, 'texture': <gym_duckietown.graphics.Texture object at 0x000001A3AE5F2278>, 'color': array([1, 1, 1])}\n",
      "DEBUG:gym-duckietown:Invalid pose. Collision free: True On drivable area: False\n",
      "DEBUG:gym-duckietown:safety_factor: 1.0\n",
      "DEBUG:gym-duckietown:pos: [3.08393035 0.         2.40072179]\n",
      "DEBUG:gym-duckietown:l_pos: [3.08906921 0.         2.47554553]\n",
      "DEBUG:gym-duckietown:r_pos: [3.07879149 0.         2.32589805]\n",
      "DEBUG:gym-duckietown:f_pos: [2.99414186 0.         2.40688842]\n",
      "INFO:gym-duckietown:Stopping the simulator because we are at an invalid pose.\n",
      "INFO:gym-duckietown:Pos: [3.05998675 0.         2.40236622] angle 9.493349796708124\n"
     ]
    },
    {
     "name": "stdout",
     "output_type": "stream",
     "text": [
      "[0.79535496 0.92199063]\n"
     ]
    },
    {
     "name": "stderr",
     "output_type": "stream",
     "text": [
      "INFO:gym-duckietown:Pos: [3.02432831 0.         2.40626684] angle 9.574116525209039\n",
      "DEBUG:gym-duckietown:[3.03690238 0.         2.3285308 ] corresponds to tile at (5, 3) which is not drivable: {'coords': (5, 3), 'kind': 'floor', 'angle': 0, 'drivable': False, 'texture': <gym_duckietown.graphics.Texture object at 0x000001A3AE5F2278>, 'color': array([1, 1, 1])}\n",
      "DEBUG:gym-duckietown:Invalid pose. Collision free: True On drivable area: False\n",
      "DEBUG:gym-duckietown:safety_factor: 1.0\n",
      "DEBUG:gym-duckietown:pos: [3.04806118 0.         2.40269603]\n",
      "DEBUG:gym-duckietown:l_pos: [3.05921999 0.         2.47686125]\n",
      "DEBUG:gym-duckietown:r_pos: [3.03690238 0.         2.3285308 ]\n",
      "DEBUG:gym-duckietown:f_pos: [2.95906291 0.         2.41608659]\n",
      "INFO:gym-duckietown:Stopping the simulator because we are at an invalid pose.\n",
      "INFO:gym-duckietown:Pos: [3.02432831 0.         2.40626684] angle 9.574116525209039\n"
     ]
    },
    {
     "name": "stdout",
     "output_type": "stream",
     "text": [
      "[0.79404485 1.1002913 ]\n"
     ]
    },
    {
     "name": "stderr",
     "output_type": "stream",
     "text": [
      "INFO:gym-duckietown:Pos: [2.98912752 0.         2.41303558] angle 9.65538079666469\n",
      "DEBUG:gym-duckietown:[2.99534988 0.         2.33453538] corresponds to tile at (5, 3) which is not drivable: {'coords': (5, 3), 'kind': 'floor', 'angle': 0, 'drivable': False, 'texture': <gym_duckietown.graphics.Texture object at 0x000001A3AE5F2278>, 'color': array([1, 1, 1])}\n",
      "DEBUG:gym-duckietown:Invalid pose. Collision free: True On drivable area: False\n",
      "DEBUG:gym-duckietown:safety_factor: 1.0\n",
      "DEBUG:gym-duckietown:pos: [3.01249221 0.         2.40755004]\n",
      "DEBUG:gym-duckietown:l_pos: [3.02963455 0.         2.4805647 ]\n",
      "DEBUG:gym-duckietown:r_pos: [2.99534988 0.         2.33453538]\n",
      "DEBUG:gym-duckietown:f_pos: [2.92487462 0.         2.42812084]\n",
      "INFO:gym-duckietown:Stopping the simulator because we are at an invalid pose.\n",
      "INFO:gym-duckietown:Pos: [2.98912752 0.         2.41303558] angle 9.65538079666469\n"
     ]
    },
    {
     "name": "stdout",
     "output_type": "stream",
     "text": [
      "[0.7927761 1.2693305]\n"
     ]
    },
    {
     "name": "stderr",
     "output_type": "stream",
     "text": [
      "INFO:gym-duckietown:Pos: [2.95456729 0.         2.42263776] angle 9.736182236105797\n",
      "INFO:gym-duckietown:Pos: [2.95456729 0.         2.42263776] angle 9.736182236105797\n"
     ]
    },
    {
     "name": "stdout",
     "output_type": "stream",
     "text": [
      "[0.79395634 1.1220177 ]\n",
      "[0.7959986 0.8500835]"
     ]
    },
    {
     "name": "stderr",
     "output_type": "stream",
     "text": [
      "INFO:gym-duckietown:Pos: [2.92333835 0.         2.43305638] angle 9.757392003547142\n",
      "INFO:gym-duckietown:Pos: [2.92333835 0.         2.43305638] angle 9.757392003547142\n"
     ]
    },
    {
     "name": "stdout",
     "output_type": "stream",
     "text": [
      "\n"
     ]
    },
    {
     "name": "stderr",
     "output_type": "stream",
     "text": [
      "INFO:gym-duckietown:Pos: [2.8921214  0.         2.44430399] angle 9.783814294567305\n",
      "INFO:gym-duckietown:Pos: [2.8921214  0.         2.44430399] angle 9.783814294567305\n"
     ]
    },
    {
     "name": "stdout",
     "output_type": "stream",
     "text": [
      "[0.79587126 0.8632481 ]\n",
      "[0.79337275 1.1963947 ]"
     ]
    },
    {
     "name": "stderr",
     "output_type": "stream",
     "text": [
      "INFO:gym-duckietown:Pos: [2.85908807 0.         2.4582528 ] angle 9.86484458857425\n",
      "INFO:gym-duckietown:Pos: [2.85908807 0.         2.4582528 ] angle 9.86484458857425\n"
     ]
    },
    {
     "name": "stdout",
     "output_type": "stream",
     "text": [
      "\n"
     ]
    },
    {
     "name": "stderr",
     "output_type": "stream",
     "text": [
      "INFO:gym-duckietown:Pos: [2.82730456 0.         2.47482782] angle 9.946105782404453\n",
      "INFO:gym-duckietown:Pos: [2.82730456 0.         2.47482782] angle 9.946105782404453\n"
     ]
    },
    {
     "name": "stdout",
     "output_type": "stream",
     "text": [
      "[0.792784  1.2735898]\n",
      "[0.7931009 1.2277327]"
     ]
    },
    {
     "name": "stderr",
     "output_type": "stream",
     "text": [
      "INFO:gym-duckietown:Pos: [2.79696478 0.         2.49392957] angle 10.027242683019523\n",
      "INFO:gym-duckietown:Pos: [2.79696478 0.         2.49392957] angle 10.027242683019523\n"
     ]
    },
    {
     "name": "stdout",
     "output_type": "stream",
     "text": [
      "\n"
     ]
    },
    {
     "name": "stderr",
     "output_type": "stream",
     "text": [
      "INFO:gym-duckietown:Pos: [2.76827211 0.         2.51542773] angle 10.108363065746104\n",
      "INFO:gym-duckietown:Pos: [2.76827211 0.         2.51542773] angle 10.108363065746104\n"
     ]
    },
    {
     "name": "stdout",
     "output_type": "stream",
     "text": [
      "[0.79314303 1.2255652 ]\n",
      "[0.7938474 1.1329708]\n"
     ]
    },
    {
     "name": "stderr",
     "output_type": "stream",
     "text": [
      "INFO:gym-duckietown:Pos: [2.74140195 0.         2.53918586] angle 10.189207241327942\n",
      "INFO:gym-duckietown:Pos: [2.74140195 0.         2.53918586] angle 10.189207241327942\n",
      "INFO:gym-duckietown:Pos: [2.71656067 0.         2.56502494] angle 10.27051625522446\n",
      "INFO:gym-duckietown:Pos: [2.71656067 0.         2.56502494] angle 10.27051625522446\n"
     ]
    },
    {
     "name": "stdout",
     "output_type": "stream",
     "text": [
      "[0.792662  1.2860224]\n",
      "[0.7918043 1.3934557]"
     ]
    },
    {
     "name": "stderr",
     "output_type": "stream",
     "text": [
      "INFO:gym-duckietown:Pos: [2.69391566 0.         2.5927867 ] angle 10.352161626312476\n",
      "INFO:gym-duckietown:Pos: [2.69391566 0.         2.5927867 ] angle 10.352161626312476\n"
     ]
    },
    {
     "name": "stdout",
     "output_type": "stream",
     "text": [
      "\n"
     ]
    },
    {
     "name": "stderr",
     "output_type": "stream",
     "text": [
      "INFO:gym-duckietown:Pos: [2.67360688 0.         2.62230522] angle 10.433731400790565\n",
      "INFO:gym-duckietown:Pos: [2.67360688 0.         2.62230522] angle 10.433731400790565\n"
     ]
    },
    {
     "name": "stdout",
     "output_type": "stream",
     "text": [
      "[0.7919971 1.3792405]\n"
     ]
    },
    {
     "name": "stderr",
     "output_type": "stream",
     "text": [
      "INFO:gym-duckietown:Pos: [2.65575025 0.         2.65339809] angle 10.514801178005014\n",
      "INFO:gym-duckietown:Pos: [2.65575025 0.         2.65339809] angle 10.514801178005014\n"
     ]
    },
    {
     "name": "stdout",
     "output_type": "stream",
     "text": [
      "[0.7932721 1.2079499]\n"
     ]
    },
    {
     "name": "stderr",
     "output_type": "stream",
     "text": [
      "INFO:gym-duckietown:Pos: [2.64048051 0.         2.68582439] angle 10.59614186417356\n",
      "INFO:gym-duckietown:Pos: [2.64048051 0.         2.68582439] angle 10.59614186417356\n"
     ]
    },
    {
     "name": "stdout",
     "output_type": "stream",
     "text": [
      "[0.79258126 1.3040334 ]\n"
     ]
    },
    {
     "name": "stderr",
     "output_type": "stream",
     "text": [
      "INFO:gym-duckietown:Pos: [2.62793476 0.         2.71933756] angle 10.67860064387634\n",
      "INFO:gym-duckietown:Pos: [2.62793476 0.         2.71933756] angle 10.67860064387634\n"
     ]
    },
    {
     "name": "stdout",
     "output_type": "stream",
     "text": [
      "[0.78973013 1.6653001 ]\n",
      "[0.7853196 2.2219553]"
     ]
    },
    {
     "name": "stderr",
     "output_type": "stream",
     "text": [
      "INFO:gym-duckietown:Pos: [2.61824581 0.         2.75369331] angle 10.762789029602919\n",
      "INFO:gym-duckietown:Pos: [2.61824581 0.         2.75369331] angle 10.762789029602919\n"
     ]
    },
    {
     "name": "stdout",
     "output_type": "stream",
     "text": [
      "\n"
     ]
    },
    {
     "name": "stderr",
     "output_type": "stream",
     "text": [
      "INFO:gym-duckietown:Pos: [2.61147254 0.         2.78875514] angle 10.846699922594377\n",
      "INFO:gym-duckietown:Pos: [2.61147254 0.         2.78875514] angle 10.846699922594377\n"
     ]
    },
    {
     "name": "stdout",
     "output_type": "stream",
     "text": [
      "[0.78602725 2.1189792 ]\n",
      "[0.7912999 1.4649925]"
     ]
    },
    {
     "name": "stderr",
     "output_type": "stream",
     "text": [
      "INFO:gym-duckietown:Pos: [2.60761361 0.         2.82436265] angle 10.928543118771392\n",
      "INFO:gym-duckietown:Pos: [2.60761361 0.         2.82436265] angle 10.928543118771392\n"
     ]
    },
    {
     "name": "stdout",
     "output_type": "stream",
     "text": [
      "\n"
     ]
    },
    {
     "name": "stderr",
     "output_type": "stream",
     "text": [
      "INFO:gym-duckietown:Pos: [2.6066724  0.         2.86018274] angle 11.01006509266181\n",
      "INFO:gym-duckietown:Pos: [2.6066724  0.         2.86018274] angle 11.01006509266181\n"
     ]
    },
    {
     "name": "stdout",
     "output_type": "stream",
     "text": [
      "[0.79211897 1.3584287 ]\n",
      "[0.79287827 1.2594843 ]"
     ]
    },
    {
     "name": "stderr",
     "output_type": "stream",
     "text": [
      "INFO:gym-duckietown:Pos: [2.60864671 0.         2.89597604] angle 11.091289296550697\n",
      "INFO:gym-duckietown:Pos: [2.60864671 0.         2.89597604] angle 11.091289296550697\n"
     ]
    },
    {
     "name": "stdout",
     "output_type": "stream",
     "text": [
      "\n"
     ]
    },
    {
     "name": "stderr",
     "output_type": "stream",
     "text": [
      "INFO:gym-duckietown:Pos: [2.61351958 0.         2.93148634] angle 11.172603881338851\n",
      "INFO:gym-duckietown:Pos: [2.61351958 0.         2.93148634] angle 11.172603881338851\n"
     ]
    },
    {
     "name": "stdout",
     "output_type": "stream",
     "text": [
      "[0.79264784 1.2915645 ]\n"
     ]
    },
    {
     "name": "stderr",
     "output_type": "stream",
     "text": [
      "INFO:gym-duckietown:Pos: [2.62126255 0.         2.96646773] angle 11.254211483339867\n",
      "INFO:gym-duckietown:Pos: [2.62126255 0.         2.96646773] angle 11.254211483339867\n"
     ]
    },
    {
     "name": "stdout",
     "output_type": "stream",
     "text": [
      "[0.79190063 1.384191  ]\n"
     ]
    },
    {
     "name": "stderr",
     "output_type": "stream",
     "text": [
      "INFO:gym-duckietown:Pos: [2.63183152 0.         3.0006965 ] angle 11.335911394625716\n",
      "INFO:gym-duckietown:Pos: [2.63183152 0.         3.0006965 ] angle 11.335911394625716\n"
     ]
    },
    {
     "name": "stdout",
     "output_type": "stream",
     "text": [
      "[0.79166526 1.4184787 ]\n"
     ]
    },
    {
     "name": "stderr",
     "output_type": "stream",
     "text": [
      "INFO:gym-duckietown:Pos: [2.64515884 0.         3.03395356] angle 11.417519249849079\n",
      "INFO:gym-duckietown:Pos: [2.64515884 0.         3.03395356] angle 11.417519249849079\n"
     ]
    },
    {
     "name": "stdout",
     "output_type": "stream",
     "text": [
      "[0.7919    1.3723402]\n"
     ]
    },
    {
     "ename": "KeyboardInterrupt",
     "evalue": "",
     "output_type": "error",
     "traceback": [
      "\u001b[1;31m---------------------------------------------------------------------------\u001b[0m",
      "\u001b[1;31mKeyboardInterrupt\u001b[0m                         Traceback (most recent call last)",
      "\u001b[1;32m<ipython-input-2-d360447e8fae>\u001b[0m in \u001b[0;36m<module>\u001b[1;34m\u001b[0m\n\u001b[0;32m     33\u001b[0m         \u001b[1;31m# use our 'expert' to predict the next action.\u001b[0m\u001b[1;33m\u001b[0m\u001b[1;33m\u001b[0m\u001b[1;33m\u001b[0m\u001b[0m\n\u001b[0;32m     34\u001b[0m         \u001b[0mobservation\u001b[0m \u001b[1;33m=\u001b[0m \u001b[0mtorch\u001b[0m\u001b[1;33m.\u001b[0m\u001b[0mtensor\u001b[0m\u001b[1;33m(\u001b[0m\u001b[0mobservation\u001b[0m\u001b[1;33m,\u001b[0m \u001b[0mdevice\u001b[0m\u001b[1;33m=\u001b[0m\u001b[1;34m\"cpu\"\u001b[0m\u001b[1;33m)\u001b[0m\u001b[1;33m.\u001b[0m\u001b[0mfloat\u001b[0m\u001b[1;33m(\u001b[0m\u001b[1;33m)\u001b[0m\u001b[1;33m\u001b[0m\u001b[1;33m\u001b[0m\u001b[0m\n\u001b[1;32m---> 35\u001b[1;33m         \u001b[0maction\u001b[0m \u001b[1;33m=\u001b[0m \u001b[0mmodel\u001b[0m\u001b[1;33m.\u001b[0m\u001b[0mforward\u001b[0m\u001b[1;33m(\u001b[0m\u001b[0mobservation\u001b[0m\u001b[1;33m.\u001b[0m\u001b[0munsqueeze\u001b[0m\u001b[1;33m(\u001b[0m\u001b[1;36m0\u001b[0m\u001b[1;33m)\u001b[0m\u001b[1;33m)\u001b[0m\u001b[1;33m.\u001b[0m\u001b[0mdetach\u001b[0m\u001b[1;33m(\u001b[0m\u001b[1;33m)\u001b[0m\u001b[1;33m.\u001b[0m\u001b[0mnumpy\u001b[0m\u001b[1;33m(\u001b[0m\u001b[1;33m)\u001b[0m\u001b[1;33m[\u001b[0m\u001b[1;36m0\u001b[0m\u001b[1;33m]\u001b[0m\u001b[1;33m\u001b[0m\u001b[1;33m\u001b[0m\u001b[0m\n\u001b[0m\u001b[0;32m     36\u001b[0m         \u001b[0mprint\u001b[0m\u001b[1;33m(\u001b[0m\u001b[0maction\u001b[0m\u001b[1;33m)\u001b[0m\u001b[1;33m\u001b[0m\u001b[1;33m\u001b[0m\u001b[0m\n\u001b[0;32m     37\u001b[0m         \u001b[0mobservation\u001b[0m\u001b[1;33m,\u001b[0m \u001b[0mreward\u001b[0m\u001b[1;33m,\u001b[0m \u001b[0mdone\u001b[0m\u001b[1;33m,\u001b[0m \u001b[0minfo\u001b[0m \u001b[1;33m=\u001b[0m \u001b[0menv\u001b[0m\u001b[1;33m.\u001b[0m\u001b[0mstep\u001b[0m\u001b[1;33m(\u001b[0m\u001b[0maction\u001b[0m\u001b[1;33m)\u001b[0m\u001b[1;33m\u001b[0m\u001b[1;33m\u001b[0m\u001b[0m\n",
      "\u001b[1;32m~\\Documents\\Projects\\gym-duckietown\\gail\\models.py\u001b[0m in \u001b[0;36mforward\u001b[1;34m(self, x)\u001b[0m\n\u001b[0;32m     32\u001b[0m \u001b[1;33m\u001b[0m\u001b[0m\n\u001b[0;32m     33\u001b[0m     \u001b[1;32mdef\u001b[0m \u001b[0mforward\u001b[0m\u001b[1;33m(\u001b[0m\u001b[0mself\u001b[0m\u001b[1;33m,\u001b[0m\u001b[0mx\u001b[0m\u001b[1;33m)\u001b[0m\u001b[1;33m:\u001b[0m\u001b[1;33m\u001b[0m\u001b[1;33m\u001b[0m\u001b[0m\n\u001b[1;32m---> 34\u001b[1;33m         \u001b[0mx\u001b[0m \u001b[1;33m=\u001b[0m \u001b[0mself\u001b[0m\u001b[1;33m.\u001b[0m\u001b[0mresnet\u001b[0m\u001b[1;33m(\u001b[0m\u001b[0mx\u001b[0m\u001b[1;33m)\u001b[0m\u001b[1;33m\u001b[0m\u001b[1;33m\u001b[0m\u001b[0m\n\u001b[0m\u001b[0;32m     35\u001b[0m \u001b[1;31m#         y = self.flatten(y)\u001b[0m\u001b[1;33m\u001b[0m\u001b[1;33m\u001b[0m\u001b[1;33m\u001b[0m\u001b[0m\n\u001b[0;32m     36\u001b[0m \u001b[1;33m\u001b[0m\u001b[0m\n",
      "\u001b[1;32m~\\miniconda3\\envs\\gym-duckietown\\lib\\site-packages\\torch\\nn\\modules\\module.py\u001b[0m in \u001b[0;36m__call__\u001b[1;34m(self, *input, **kwargs)\u001b[0m\n\u001b[0;32m    530\u001b[0m             \u001b[0mresult\u001b[0m \u001b[1;33m=\u001b[0m \u001b[0mself\u001b[0m\u001b[1;33m.\u001b[0m\u001b[0m_slow_forward\u001b[0m\u001b[1;33m(\u001b[0m\u001b[1;33m*\u001b[0m\u001b[0minput\u001b[0m\u001b[1;33m,\u001b[0m \u001b[1;33m**\u001b[0m\u001b[0mkwargs\u001b[0m\u001b[1;33m)\u001b[0m\u001b[1;33m\u001b[0m\u001b[1;33m\u001b[0m\u001b[0m\n\u001b[0;32m    531\u001b[0m         \u001b[1;32melse\u001b[0m\u001b[1;33m:\u001b[0m\u001b[1;33m\u001b[0m\u001b[1;33m\u001b[0m\u001b[0m\n\u001b[1;32m--> 532\u001b[1;33m             \u001b[0mresult\u001b[0m \u001b[1;33m=\u001b[0m \u001b[0mself\u001b[0m\u001b[1;33m.\u001b[0m\u001b[0mforward\u001b[0m\u001b[1;33m(\u001b[0m\u001b[1;33m*\u001b[0m\u001b[0minput\u001b[0m\u001b[1;33m,\u001b[0m \u001b[1;33m**\u001b[0m\u001b[0mkwargs\u001b[0m\u001b[1;33m)\u001b[0m\u001b[1;33m\u001b[0m\u001b[1;33m\u001b[0m\u001b[0m\n\u001b[0m\u001b[0;32m    533\u001b[0m         \u001b[1;32mfor\u001b[0m \u001b[0mhook\u001b[0m \u001b[1;32min\u001b[0m \u001b[0mself\u001b[0m\u001b[1;33m.\u001b[0m\u001b[0m_forward_hooks\u001b[0m\u001b[1;33m.\u001b[0m\u001b[0mvalues\u001b[0m\u001b[1;33m(\u001b[0m\u001b[1;33m)\u001b[0m\u001b[1;33m:\u001b[0m\u001b[1;33m\u001b[0m\u001b[1;33m\u001b[0m\u001b[0m\n\u001b[0;32m    534\u001b[0m             \u001b[0mhook_result\u001b[0m \u001b[1;33m=\u001b[0m \u001b[0mhook\u001b[0m\u001b[1;33m(\u001b[0m\u001b[0mself\u001b[0m\u001b[1;33m,\u001b[0m \u001b[0minput\u001b[0m\u001b[1;33m,\u001b[0m \u001b[0mresult\u001b[0m\u001b[1;33m)\u001b[0m\u001b[1;33m\u001b[0m\u001b[1;33m\u001b[0m\u001b[0m\n",
      "\u001b[1;32m~\\miniconda3\\envs\\gym-duckietown\\lib\\site-packages\\torchvision\\models\\resnet.py\u001b[0m in \u001b[0;36mforward\u001b[1;34m(self, x)\u001b[0m\n\u001b[0;32m    214\u001b[0m \u001b[1;33m\u001b[0m\u001b[0m\n\u001b[0;32m    215\u001b[0m     \u001b[1;32mdef\u001b[0m \u001b[0mforward\u001b[0m\u001b[1;33m(\u001b[0m\u001b[0mself\u001b[0m\u001b[1;33m,\u001b[0m \u001b[0mx\u001b[0m\u001b[1;33m)\u001b[0m\u001b[1;33m:\u001b[0m\u001b[1;33m\u001b[0m\u001b[1;33m\u001b[0m\u001b[0m\n\u001b[1;32m--> 216\u001b[1;33m         \u001b[1;32mreturn\u001b[0m \u001b[0mself\u001b[0m\u001b[1;33m.\u001b[0m\u001b[0m_forward_impl\u001b[0m\u001b[1;33m(\u001b[0m\u001b[0mx\u001b[0m\u001b[1;33m)\u001b[0m\u001b[1;33m\u001b[0m\u001b[1;33m\u001b[0m\u001b[0m\n\u001b[0m\u001b[0;32m    217\u001b[0m \u001b[1;33m\u001b[0m\u001b[0m\n\u001b[0;32m    218\u001b[0m \u001b[1;33m\u001b[0m\u001b[0m\n",
      "\u001b[1;32m~\\miniconda3\\envs\\gym-duckietown\\lib\\site-packages\\torchvision\\models\\resnet.py\u001b[0m in \u001b[0;36m_forward_impl\u001b[1;34m(self, x)\u001b[0m\n\u001b[0;32m    197\u001b[0m     \u001b[1;32mdef\u001b[0m \u001b[0m_forward_impl\u001b[0m\u001b[1;33m(\u001b[0m\u001b[0mself\u001b[0m\u001b[1;33m,\u001b[0m \u001b[0mx\u001b[0m\u001b[1;33m)\u001b[0m\u001b[1;33m:\u001b[0m\u001b[1;33m\u001b[0m\u001b[1;33m\u001b[0m\u001b[0m\n\u001b[0;32m    198\u001b[0m         \u001b[1;31m# See note [TorchScript super()]\u001b[0m\u001b[1;33m\u001b[0m\u001b[1;33m\u001b[0m\u001b[1;33m\u001b[0m\u001b[0m\n\u001b[1;32m--> 199\u001b[1;33m         \u001b[0mx\u001b[0m \u001b[1;33m=\u001b[0m \u001b[0mself\u001b[0m\u001b[1;33m.\u001b[0m\u001b[0mconv1\u001b[0m\u001b[1;33m(\u001b[0m\u001b[0mx\u001b[0m\u001b[1;33m)\u001b[0m\u001b[1;33m\u001b[0m\u001b[1;33m\u001b[0m\u001b[0m\n\u001b[0m\u001b[0;32m    200\u001b[0m         \u001b[0mx\u001b[0m \u001b[1;33m=\u001b[0m \u001b[0mself\u001b[0m\u001b[1;33m.\u001b[0m\u001b[0mbn1\u001b[0m\u001b[1;33m(\u001b[0m\u001b[0mx\u001b[0m\u001b[1;33m)\u001b[0m\u001b[1;33m\u001b[0m\u001b[1;33m\u001b[0m\u001b[0m\n\u001b[0;32m    201\u001b[0m         \u001b[0mx\u001b[0m \u001b[1;33m=\u001b[0m \u001b[0mself\u001b[0m\u001b[1;33m.\u001b[0m\u001b[0mrelu\u001b[0m\u001b[1;33m(\u001b[0m\u001b[0mx\u001b[0m\u001b[1;33m)\u001b[0m\u001b[1;33m\u001b[0m\u001b[1;33m\u001b[0m\u001b[0m\n",
      "\u001b[1;32m~\\miniconda3\\envs\\gym-duckietown\\lib\\site-packages\\torch\\nn\\modules\\module.py\u001b[0m in \u001b[0;36m__call__\u001b[1;34m(self, *input, **kwargs)\u001b[0m\n\u001b[0;32m    530\u001b[0m             \u001b[0mresult\u001b[0m \u001b[1;33m=\u001b[0m \u001b[0mself\u001b[0m\u001b[1;33m.\u001b[0m\u001b[0m_slow_forward\u001b[0m\u001b[1;33m(\u001b[0m\u001b[1;33m*\u001b[0m\u001b[0minput\u001b[0m\u001b[1;33m,\u001b[0m \u001b[1;33m**\u001b[0m\u001b[0mkwargs\u001b[0m\u001b[1;33m)\u001b[0m\u001b[1;33m\u001b[0m\u001b[1;33m\u001b[0m\u001b[0m\n\u001b[0;32m    531\u001b[0m         \u001b[1;32melse\u001b[0m\u001b[1;33m:\u001b[0m\u001b[1;33m\u001b[0m\u001b[1;33m\u001b[0m\u001b[0m\n\u001b[1;32m--> 532\u001b[1;33m             \u001b[0mresult\u001b[0m \u001b[1;33m=\u001b[0m \u001b[0mself\u001b[0m\u001b[1;33m.\u001b[0m\u001b[0mforward\u001b[0m\u001b[1;33m(\u001b[0m\u001b[1;33m*\u001b[0m\u001b[0minput\u001b[0m\u001b[1;33m,\u001b[0m \u001b[1;33m**\u001b[0m\u001b[0mkwargs\u001b[0m\u001b[1;33m)\u001b[0m\u001b[1;33m\u001b[0m\u001b[1;33m\u001b[0m\u001b[0m\n\u001b[0m\u001b[0;32m    533\u001b[0m         \u001b[1;32mfor\u001b[0m \u001b[0mhook\u001b[0m \u001b[1;32min\u001b[0m \u001b[0mself\u001b[0m\u001b[1;33m.\u001b[0m\u001b[0m_forward_hooks\u001b[0m\u001b[1;33m.\u001b[0m\u001b[0mvalues\u001b[0m\u001b[1;33m(\u001b[0m\u001b[1;33m)\u001b[0m\u001b[1;33m:\u001b[0m\u001b[1;33m\u001b[0m\u001b[1;33m\u001b[0m\u001b[0m\n\u001b[0;32m    534\u001b[0m             \u001b[0mhook_result\u001b[0m \u001b[1;33m=\u001b[0m \u001b[0mhook\u001b[0m\u001b[1;33m(\u001b[0m\u001b[0mself\u001b[0m\u001b[1;33m,\u001b[0m \u001b[0minput\u001b[0m\u001b[1;33m,\u001b[0m \u001b[0mresult\u001b[0m\u001b[1;33m)\u001b[0m\u001b[1;33m\u001b[0m\u001b[1;33m\u001b[0m\u001b[0m\n",
      "\u001b[1;32m~\\miniconda3\\envs\\gym-duckietown\\lib\\site-packages\\torch\\nn\\modules\\conv.py\u001b[0m in \u001b[0;36mforward\u001b[1;34m(self, input)\u001b[0m\n\u001b[0;32m    343\u001b[0m \u001b[1;33m\u001b[0m\u001b[0m\n\u001b[0;32m    344\u001b[0m     \u001b[1;32mdef\u001b[0m \u001b[0mforward\u001b[0m\u001b[1;33m(\u001b[0m\u001b[0mself\u001b[0m\u001b[1;33m,\u001b[0m \u001b[0minput\u001b[0m\u001b[1;33m)\u001b[0m\u001b[1;33m:\u001b[0m\u001b[1;33m\u001b[0m\u001b[1;33m\u001b[0m\u001b[0m\n\u001b[1;32m--> 345\u001b[1;33m         \u001b[1;32mreturn\u001b[0m \u001b[0mself\u001b[0m\u001b[1;33m.\u001b[0m\u001b[0mconv2d_forward\u001b[0m\u001b[1;33m(\u001b[0m\u001b[0minput\u001b[0m\u001b[1;33m,\u001b[0m \u001b[0mself\u001b[0m\u001b[1;33m.\u001b[0m\u001b[0mweight\u001b[0m\u001b[1;33m)\u001b[0m\u001b[1;33m\u001b[0m\u001b[1;33m\u001b[0m\u001b[0m\n\u001b[0m\u001b[0;32m    346\u001b[0m \u001b[1;33m\u001b[0m\u001b[0m\n\u001b[0;32m    347\u001b[0m \u001b[1;32mclass\u001b[0m \u001b[0mConv3d\u001b[0m\u001b[1;33m(\u001b[0m\u001b[0m_ConvNd\u001b[0m\u001b[1;33m)\u001b[0m\u001b[1;33m:\u001b[0m\u001b[1;33m\u001b[0m\u001b[1;33m\u001b[0m\u001b[0m\n",
      "\u001b[1;32m~\\miniconda3\\envs\\gym-duckietown\\lib\\site-packages\\torch\\nn\\modules\\conv.py\u001b[0m in \u001b[0;36mconv2d_forward\u001b[1;34m(self, input, weight)\u001b[0m\n\u001b[0;32m    340\u001b[0m                             _pair(0), self.dilation, self.groups)\n\u001b[0;32m    341\u001b[0m         return F.conv2d(input, weight, self.bias, self.stride,\n\u001b[1;32m--> 342\u001b[1;33m                         self.padding, self.dilation, self.groups)\n\u001b[0m\u001b[0;32m    343\u001b[0m \u001b[1;33m\u001b[0m\u001b[0m\n\u001b[0;32m    344\u001b[0m     \u001b[1;32mdef\u001b[0m \u001b[0mforward\u001b[0m\u001b[1;33m(\u001b[0m\u001b[0mself\u001b[0m\u001b[1;33m,\u001b[0m \u001b[0minput\u001b[0m\u001b[1;33m)\u001b[0m\u001b[1;33m:\u001b[0m\u001b[1;33m\u001b[0m\u001b[1;33m\u001b[0m\u001b[0m\n",
      "\u001b[1;31mKeyboardInterrupt\u001b[0m: "
     ]
    }
   ],
   "source": [
    "from learning.utils.env import launch_env\n",
    "from learning.utils.wrappers import NormalizeWrapper, ImgWrapper, \\\n",
    "    DtRewardWrapper, ActionWrapper, ResizeWrapper\n",
    "from learning.utils.teacher import PurePursuitExpert\n",
    "from gail.models import *\n",
    "\n",
    "env = launch_env()\n",
    "env = ResizeWrapper(env)\n",
    "env = NormalizeWrapper(env) \n",
    "env = ImgWrapper(env)\n",
    "env = ActionWrapper(env)\n",
    "env = DtRewardWrapper(env)\n",
    "print(\"Initialized Wrappers\")\n",
    "\n",
    "\n",
    "observation_shape = (None, ) + env.observation_space.shape\n",
    "action_shape = (None, ) + env.action_space.shape\n",
    "\n",
    "model = Generator(action_dim=2)\n",
    "model.load_state_dict(torch.load('test.pt'))\n",
    "model.eval()\n",
    "# model.to(device)\n",
    "# Create an imperfect demonstrator\n",
    "\n",
    "observations = []\n",
    "actions = []\n",
    "\n",
    "# let's collect our samples\n",
    "for episode in range(0, args.episodes):\n",
    "    print(\"Starting episode\", episode)\n",
    "    observation = env.reset()\n",
    "    for steps in range(0, args.steps):\n",
    "        # use our 'expert' to predict the next action.\n",
    "        observation = torch.tensor(observation, device=\"cpu\").float()\n",
    "        action = model.forward(observation.unsqueeze(0)).detach().numpy()[0]\n",
    "        print(action)\n",
    "        observation, reward, done, info = env.step(action)\n",
    "        observations.append(observation)\n",
    "        actions.append(action)\n",
    "        env.render()\n",
    "    env.reset()\n",
    "env.close()\n"
   ]
  },
  {
   "cell_type": "code",
   "execution_count": 4,
   "metadata": {},
   "outputs": [
    {
     "data": {
      "text/plain": [
       "5.702396438546007"
      ]
     },
     "execution_count": 4,
     "metadata": {},
     "output_type": "execute_result"
    }
   ],
   "source": [
    "import torch\n",
    "actions = torch.load('data_a.pt')\n",
    "observations = torch.load('data_o.pt')\n",
    "\n",
    "actions.max()"
   ]
  },
  {
   "cell_type": "code",
   "execution_count": 14,
   "metadata": {},
   "outputs": [
    {
     "ename": "TypeError",
     "evalue": "Required argument 'object' (pos 1) not found",
     "output_type": "error",
     "traceback": [
      "\u001b[1;31m---------------------------------------------------------------------------\u001b[0m",
      "\u001b[1;31mTypeError\u001b[0m                                 Traceback (most recent call last)",
      "\u001b[1;32m<ipython-input-14-49dc838f83c3>\u001b[0m in \u001b[0;36m<module>\u001b[1;34m\u001b[0m\n\u001b[0;32m      1\u001b[0m \u001b[1;32mimport\u001b[0m \u001b[0mnumpy\u001b[0m \u001b[1;32mas\u001b[0m \u001b[0mnp\u001b[0m\u001b[1;33m\u001b[0m\u001b[1;33m\u001b[0m\u001b[0m\n\u001b[0;32m      2\u001b[0m \u001b[1;32mimport\u001b[0m \u001b[0mtorch\u001b[0m\u001b[1;33m\u001b[0m\u001b[1;33m\u001b[0m\u001b[0m\n\u001b[1;32m----> 3\u001b[1;33m \u001b[0mk\u001b[0m \u001b[1;33m=\u001b[0m \u001b[0mnp\u001b[0m\u001b[1;33m.\u001b[0m\u001b[0marray\u001b[0m\u001b[1;33m(\u001b[0m\u001b[1;33m)\u001b[0m\u001b[1;33m\u001b[0m\u001b[1;33m\u001b[0m\u001b[0m\n\u001b[0m\u001b[0;32m      4\u001b[0m \u001b[1;33m\u001b[0m\u001b[0m\n\u001b[0;32m      5\u001b[0m \u001b[0mj\u001b[0m \u001b[1;33m=\u001b[0m \u001b[0mnp\u001b[0m\u001b[1;33m.\u001b[0m\u001b[0mones\u001b[0m\u001b[1;33m(\u001b[0m\u001b[1;36m3\u001b[0m\u001b[1;33m)\u001b[0m\u001b[1;33m\u001b[0m\u001b[1;33m\u001b[0m\u001b[0m\n",
      "\u001b[1;31mTypeError\u001b[0m: Required argument 'object' (pos 1) not found"
     ]
    }
   ],
   "source": [
    "import numpy as np\n",
    "import torch\n",
    "\n",
    "j = np.ones(3)\n",
    "k+=j\n",
    "k"
   ]
  },
  {
   "cell_type": "code",
   "execution_count": 12,
   "metadata": {},
   "outputs": [
    {
     "ename": "TypeError",
     "evalue": "expected Tensor as element 0 in argument 0, but got list",
     "output_type": "error",
     "traceback": [
      "\u001b[1;31m---------------------------------------------------------------------------\u001b[0m",
      "\u001b[1;31mTypeError\u001b[0m                                 Traceback (most recent call last)",
      "\u001b[1;32m<ipython-input-12-521c323dae4f>\u001b[0m in \u001b[0;36m<module>\u001b[1;34m\u001b[0m\n\u001b[1;32m----> 1\u001b[1;33m \u001b[0mtorch\u001b[0m\u001b[1;33m.\u001b[0m\u001b[0mstack\u001b[0m\u001b[1;33m(\u001b[0m\u001b[1;33m(\u001b[0m\u001b[0mk\u001b[0m\u001b[1;33m,\u001b[0m\u001b[0mj\u001b[0m\u001b[1;33m)\u001b[0m\u001b[1;33m)\u001b[0m\u001b[1;33m\u001b[0m\u001b[1;33m\u001b[0m\u001b[0m\n\u001b[0m\u001b[0;32m      2\u001b[0m \u001b[0mk\u001b[0m\u001b[1;33m\u001b[0m\u001b[1;33m\u001b[0m\u001b[0m\n",
      "\u001b[1;31mTypeError\u001b[0m: expected Tensor as element 0 in argument 0, but got list"
     ]
    }
   ],
   "source": [
    "torch.stack((k,j))\n",
    "k"
   ]
  },
  {
   "cell_type": "code",
   "execution_count": null,
   "metadata": {},
   "outputs": [],
   "source": []
  }
 ],
 "metadata": {
  "kernelspec": {
   "display_name": "gail-env",
   "language": "python",
   "name": "gail-env"
  },
  "language_info": {
   "codemirror_mode": {
    "name": "ipython",
    "version": 3
   },
   "file_extension": ".py",
   "mimetype": "text/x-python",
   "name": "python",
   "nbconvert_exporter": "python",
   "pygments_lexer": "ipython3",
   "version": "3.6.10"
  }
 },
 "nbformat": 4,
 "nbformat_minor": 4
}
