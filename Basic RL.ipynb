{
 "cells": [
  {
   "cell_type": "code",
   "execution_count": 1,
   "metadata": {},
   "outputs": [],
   "source": [
    "import torch\n",
    "import torch.nn as nn\n",
    "import torch.nn.functional as F\n",
    "from torch.autograd import Variable\n",
    "\n",
    "class Model(nn.Module):\n",
    "    def __init__(self, action_dim, max_action):\n",
    "        super(Model, self).__init__()\n",
    "\n",
    "        # ONLY TRU IN CASE OF DUCKIETOWN:\n",
    "        flat_size = 32 * 9 * 14\n",
    "\n",
    "        self.lr = nn.LeakyReLU()\n",
    "        self.tanh = nn.Tanh()\n",
    "        self.sigm = nn.Sigmoid()\n",
    "\n",
    "        self.conv1 = nn.Conv2d(3, 32, 8, stride=2)\n",
    "        self.conv2 = nn.Conv2d(32, 32, 4, stride=2)\n",
    "        self.conv3 = nn.Conv2d(32, 32, 4, stride=2)\n",
    "        self.conv4 = nn.Conv2d(32, 32, 4, stride=1)\n",
    "\n",
    "        self.bn1 = nn.BatchNorm2d(32)\n",
    "        self.bn2 = nn.BatchNorm2d(32)\n",
    "        self.bn3 = nn.BatchNorm2d(32)\n",
    "        self.bn4 = nn.BatchNorm2d(32)\n",
    "\n",
    "        self.dropout = nn.Dropout(.5)\n",
    "\n",
    "        self.lin1 = nn.Linear(flat_size, 512)\n",
    "        self.lin2 = nn.Linear(512, action_dim)\n",
    "\n",
    "        self.max_action = max_action\n",
    "\n",
    "    def forward(self, x):\n",
    "        x = self.bn1(self.lr(self.conv1(x)))\n",
    "        x = self.bn2(self.lr(self.conv2(x)))\n",
    "        x = self.bn3(self.lr(self.conv3(x)))\n",
    "        x = self.bn4(self.lr(self.conv4(x)))\n",
    "        x = x.view(x.size(0), -1)  # flatten\n",
    "        x = self.dropout(x)\n",
    "        x = self.lr(self.lin1(x))\n",
    "\n",
    "        # because we don't want our duckie to go backwards\n",
    "        x = self.lin2(x)\n",
    "        x[:, 0] = self.max_action * self.sigm(x[:, 0])  # because we don't want the duckie to go backwards\n",
    "        x[:, 1] = self.tanh(x[:, 1])\n",
    "\n",
    "        return x"
   ]
  },
  {
   "cell_type": "code",
   "execution_count": 6,
   "metadata": {},
   "outputs": [],
   "source": [
    "import time\n",
    "import random\n",
    "import argparse\n",
    "import math\n",
    "import json\n",
    "from functools import reduce\n",
    "import operator\n",
    "\n",
    "import numpy as np\n",
    "import torch\n",
    "import torch.optim as optim\n",
    "\n",
    "from learning.utils.env import launch_env\n",
    "from learning.utils.wrappers import NormalizeWrapper, ImgWrapper, \\\n",
    "    DtRewardWrapper, ActionWrapper, ResizeWrapper\n",
    "from learning.utils.teacher import PurePursuitExpert\n",
    "\n",
    "from gail.models import *\n",
    "from torch.utils.tensorboard import SummaryWriter\n",
    "# from learning.imitation.pytorch.model import Model\n",
    "\n",
    "device = torch.device(\"cuda\" if torch.cuda.is_available() else \"cpu\")\n",
    "\n",
    "def _train(args):\n",
    "    \n",
    "    writer = SummaryWriter()\n",
    "    \n",
    "    env = launch_env()\n",
    "    env = ResizeWrapper(env)\n",
    "    env = NormalizeWrapper(env) \n",
    "    env = ImgWrapper(env)\n",
    "    env = ActionWrapper(env)\n",
    "    env = DtRewardWrapper(env)\n",
    "    print(\"Initialized Wrappers\")\n",
    "\n",
    "    observation_shape = (None, ) + env.observation_space.shape\n",
    "    action_shape = (None, ) + env.action_space.shape\n",
    "\n",
    "    # Create an imperfect demonstrator\n",
    "    expert = PurePursuitExpert(env=env)\n",
    "\n",
    "    observations = []\n",
    "    actions = []\n",
    "    \n",
    "    if args.get_samples:\n",
    "    # let's collect our samples\n",
    "        for episode in range(0, args.episodes):\n",
    "            print(\"Starting episode\", episode)\n",
    "            for steps in range(0, args.steps):\n",
    "                # use our 'expert' to predict the next action.\n",
    "                action = expert.predict(None)\n",
    "                observation, reward, done, info = env.step(action)\n",
    "                observations.append(observation)\n",
    "                actions.append(action)\n",
    "            env.reset()\n",
    "        env.close()\n",
    "        \n",
    "        actions = np.array(actions)\n",
    "        observations = np.array(observations)\n",
    "        torch.save(actions, 'data_a.pt')\n",
    "        torch.save(observations, 'data_o.pt')\n",
    "\n",
    "    else:\n",
    "        actions = torch.load('data_a.pt')\n",
    "        observations = torch.load('data_o.pt')\n",
    "\n",
    "\n",
    "    \n",
    "    model = Generator(action_dim=2)\n",
    "    model.train().to(device)\n",
    "\n",
    "    # weight_decay is L2 regularization, helps avoid overfitting\n",
    "    optimizer = optim.Adam(\n",
    "        model.parameters(),\n",
    "        lr=0.004,\n",
    "        weight_decay=1e-3\n",
    "    )\n",
    "    \n",
    "    avg_loss = 0\n",
    "    for epoch in range(args.epochs):\n",
    "        optimizer.zero_grad()\n",
    "\n",
    "        batch_indices = np.random.randint(0, observations.shape[0], (args.batch_size))\n",
    "        obs_batch = torch.from_numpy(observations[batch_indices]).float().to(device)\n",
    "        act_batch = torch.from_numpy(actions[batch_indices]).float().to(device)\n",
    "\n",
    "        model_actions = model(obs_batch)\n",
    "        \n",
    "        loss = (model_actions - act_batch).norm(2).mean()\n",
    "        loss.backward()\n",
    "        optimizer.step()\n",
    "        \n",
    "        loss = loss.data.item()\n",
    "        avg_loss = avg_loss * 0.995 + loss * 0.005\n",
    "\n",
    "#         print('epoch %d, loss=%.3f' % (epoch, avg_loss))\n",
    "        \n",
    "        writer.add_scalar('Loss/train', avg_loss, epoch)\n",
    "#         writer.add_scalar('Loss/test', np.random.random(), n_iter)\n",
    "#         writer.add_scalar('Accuracy/train', np.random.random(), n_iter)\n",
    "#         writer.add_scalar('Accuracy/test', np.random.random(), n_iter)\n",
    "        # Periodically save the trained model\n",
    "        if epoch % 200 == 0:\n",
    "            torch.save(model.state_dict(), 'test.pt')\n",
    "            print('epoch %d, loss=%.3f' % (epoch, avg_loss))\n"
   ]
  },
  {
   "cell_type": "code",
   "execution_count": 1,
   "metadata": {},
   "outputs": [
    {
     "name": "stderr",
     "output_type": "stream",
     "text": [
      "INFO:gym-duckietown:gym-duckietown 2019.0.0\n",
      "\n",
      "INFO:gym-duckietown:Registering gym environment id: Duckietown-4way-v0\n",
      "INFO:gym-duckietown:Registering gym environment id: Duckietown-loop_dyn_duckiebots-v0\n",
      "INFO:gym-duckietown:Registering gym environment id: Duckietown-loop_empty-v0\n",
      "INFO:gym-duckietown:Registering gym environment id: Duckietown-loop_obstacles-v0\n",
      "INFO:gym-duckietown:Registering gym environment id: Duckietown-loop_pedestrians-v0\n",
      "INFO:gym-duckietown:Registering gym environment id: Duckietown-small_loop-v0\n",
      "INFO:gym-duckietown:Registering gym environment id: Duckietown-small_loop_cw-v0\n",
      "INFO:gym-duckietown:Registering gym environment id: Duckietown-straight_road-v0\n",
      "INFO:gym-duckietown:Registering gym environment id: Duckietown-udem1-v0\n",
      "INFO:gym-duckietown:Registering gym environment id: Duckietown-zigzag_dists-v0\n",
      "C:\\Users\\micha\\miniconda3\\envs\\gym-duckietown\\lib\\site-packages\\gym\\logger.py:30: UserWarning: \u001b[33mWARN: Box bound precision lowered by casting to float32\u001b[0m\n",
      "  warnings.warn(colorize('%s: %s'%('WARN', msg % args), 'yellow'))\n",
      "DEBUG:gym-duckietown:loading map file \"C:\\Users\\micha\\Documents\\Projects\\gym_things\\gym-duckietown\\gym_duckietown\\maps\\loop_empty.yaml\"\n",
      "DEBUG:gym-duckietown:loading mesh \"duckiebot.obj\"\n",
      "DEBUG:gym-duckietown:loading materials from \"C:\\Users\\micha\\Documents\\Projects\\gym_things\\gym-duckietown\\gym_duckietown\\meshes\\duckiebot.mtl\"\n",
      "DEBUG:gym-duckietown:loading mesh \"duckie.obj\"\n",
      "DEBUG:gym-duckietown:loading texture \"duckie.png\"\n",
      "DEBUG:gym-duckietown:loading mesh \"cone.obj\"\n",
      "DEBUG:gym-duckietown:loading texture \"cone.png\"\n",
      "DEBUG:gym-duckietown:loading texture \"floor_1.png\"\n",
      "DEBUG:gym-duckietown:loading texture \"curve_left_1.png\"\n",
      "DEBUG:gym-duckietown:loading texture \"straight_1.png\"\n",
      "DEBUG:gym-duckietown:loading texture \"curve_right_1.png\"\n",
      "DEBUG:gym-duckietown:[4.13719561 0.         1.88880899] corresponds to tile at (7, 3) which is not drivable: {'coords': (7, 3), 'kind': 'floor', 'angle': 0, 'drivable': False, 'texture': <gym_duckietown.graphics.Texture object at 0x00000272959456A0>, 'color': array([1, 1, 1])}\n",
      "DEBUG:gym-duckietown:Invalid pose. Collision free: True On drivable area: False\n",
      "DEBUG:gym-duckietown:safety_factor: 1.3\n",
      "DEBUG:gym-duckietown:pos: [4.0873995 0.        1.9726338]\n",
      "DEBUG:gym-duckietown:l_pos: [4.03760339 0.         2.0564586 ]\n",
      "DEBUG:gym-duckietown:r_pos: [4.13719561 0.         1.88880899]\n",
      "DEBUG:gym-duckietown:f_pos: [3.98680973 0.         1.91287847]\n",
      "DEBUG:gym-duckietown:[4.10908822 0.         2.30642426] corresponds to tile at (7, 3) which is not drivable: {'coords': (7, 3), 'kind': 'floor', 'angle': 0, 'drivable': False, 'texture': <gym_duckietown.graphics.Texture object at 0x00000272959456A0>, 'color': array([1, 1, 1])}\n",
      "DEBUG:gym-duckietown:Invalid pose. Collision free: True On drivable area: False\n",
      "DEBUG:gym-duckietown:safety_factor: 1.3\n",
      "DEBUG:gym-duckietown:pos: [4.0793971  0.         2.21355507]\n",
      "DEBUG:gym-duckietown:l_pos: [4.10908822 0.         2.30642426]\n",
      "DEBUG:gym-duckietown:r_pos: [4.04970598 0.         2.12068587]\n",
      "DEBUG:gym-duckietown:f_pos: [3.96795406 0.         2.24918441]\n",
      "DEBUG:gym-duckietown:[3.47880119 0.         2.23809688] corresponds to tile at (5, 3) which is not drivable: {'coords': (5, 3), 'kind': 'floor', 'angle': 0, 'drivable': False, 'texture': <gym_duckietown.graphics.Texture object at 0x00000272959456A0>, 'color': array([1, 1, 1])}\n",
      "DEBUG:gym-duckietown:Invalid pose. Collision free: True On drivable area: False\n",
      "DEBUG:gym-duckietown:safety_factor: 1.3\n",
      "DEBUG:gym-duckietown:pos: [3.54467288 0.         2.16621385]\n",
      "DEBUG:gym-duckietown:l_pos: [3.47880119 0.         2.23809688]\n",
      "DEBUG:gym-duckietown:r_pos: [3.61054457 0.         2.09433082]\n",
      "DEBUG:gym-duckietown:f_pos: [3.45841324 0.         2.08716782]\n",
      "DEBUG:gym-duckietown:[4.11902599 0.         2.07053136] corresponds to tile at (7, 3) which is not drivable: {'coords': (7, 3), 'kind': 'floor', 'angle': 0, 'drivable': False, 'texture': <gym_duckietown.graphics.Texture object at 0x00000272959456A0>, 'color': array([1, 1, 1])}\n",
      "DEBUG:gym-duckietown:Invalid pose. Collision free: True On drivable area: False\n",
      "DEBUG:gym-duckietown:safety_factor: 1.3\n",
      "DEBUG:gym-duckietown:pos: [4.05777514 0.         2.14639032]\n",
      "DEBUG:gym-duckietown:l_pos: [4.11902599 0.         2.07053136]\n",
      "DEBUG:gym-duckietown:r_pos: [3.99652428 0.         2.22224929]\n",
      "DEBUG:gym-duckietown:f_pos: [4.14880589 0.         2.21989135]\n",
      "DEBUG:gym-duckietown:[4.11072664 0.         2.23740683] corresponds to tile at (7, 3) which is not drivable: {'coords': (7, 3), 'kind': 'floor', 'angle': 0, 'drivable': False, 'texture': <gym_duckietown.graphics.Texture object at 0x00000272959456A0>, 'color': array([1, 1, 1])}\n",
      "DEBUG:gym-duckietown:Invalid pose. Collision free: True On drivable area: False\n",
      "DEBUG:gym-duckietown:safety_factor: 1.3\n",
      "DEBUG:gym-duckietown:pos: [4.06163269 0.         2.15316887]\n",
      "DEBUG:gym-duckietown:l_pos: [4.11072664 0.         2.23740683]\n",
      "DEBUG:gym-duckietown:r_pos: [4.01253874 0.         2.0689309 ]\n",
      "DEBUG:gym-duckietown:f_pos: [3.96054713 0.         2.2120816 ]\n",
      "DEBUG:gym-duckietown:[4.09719614 0.         2.20147659] corresponds to tile at (7, 3) which is not drivable: {'coords': (7, 3), 'kind': 'floor', 'angle': 0, 'drivable': False, 'texture': <gym_duckietown.graphics.Texture object at 0x00000272959456A0>, 'color': array([1, 1, 1])}\n",
      "DEBUG:gym-duckietown:Invalid pose. Collision free: True On drivable area: False\n",
      "DEBUG:gym-duckietown:safety_factor: 1.3\n",
      "DEBUG:gym-duckietown:pos: [4.00591875 0.         2.23575032]\n",
      "DEBUG:gym-duckietown:l_pos: [4.09719614 0.         2.20147659]\n",
      "DEBUG:gym-duckietown:r_pos: [3.91464137 0.         2.27002405]\n",
      "DEBUG:gym-duckietown:f_pos: [4.04704723 0.         2.34528318]\n",
      "DEBUG:gym-duckietown:[3.48173779 0.         2.07668522] corresponds to tile at (5, 3) which is not drivable: {'coords': (5, 3), 'kind': 'floor', 'angle': 0, 'drivable': False, 'texture': <gym_duckietown.graphics.Texture object at 0x00000272959456A0>, 'color': array([1, 1, 1])}\n",
      "DEBUG:gym-duckietown:Invalid pose. Collision free: True On drivable area: False\n",
      "DEBUG:gym-duckietown:safety_factor: 1.3\n",
      "DEBUG:gym-duckietown:pos: [3.59826268 0.         2.08721855]\n",
      "DEBUG:gym-duckietown:l_pos: [3.5894849  0.         2.18432262]\n",
      "DEBUG:gym-duckietown:r_pos: [3.60704045 0.         1.99011448]\n",
      "DEBUG:gym-duckietown:f_pos: [3.48173779 0.         2.07668522]\n",
      "DEBUG:gym-duckietown:[3.48172154 0.         1.84866924] corresponds to tile at (5, 3) which is not drivable: {'coords': (5, 3), 'kind': 'floor', 'angle': 0, 'drivable': False, 'texture': <gym_duckietown.graphics.Texture object at 0x00000272959456A0>, 'color': array([1, 1, 1])}\n",
      "DEBUG:gym-duckietown:Invalid pose. Collision free: True On drivable area: False\n",
      "DEBUG:gym-duckietown:safety_factor: 1.3\n",
      "DEBUG:gym-duckietown:pos: [3.57292165 0.         1.88314807]\n",
      "DEBUG:gym-duckietown:l_pos: [3.48172154 0.         1.84866924]\n",
      "DEBUG:gym-duckietown:r_pos: [3.66412176 0.         1.91762689]\n",
      "DEBUG:gym-duckietown:f_pos: [3.61429624 0.         1.77370793]\n",
      "DEBUG:gym-duckietown:[3.50690495 0.         2.23654429] corresponds to tile at (5, 3) which is not drivable: {'coords': (5, 3), 'kind': 'floor', 'angle': 0, 'drivable': False, 'texture': <gym_duckietown.graphics.Texture object at 0x00000272959456A0>, 'color': array([1, 1, 1])}\n",
      "DEBUG:gym-duckietown:Invalid pose. Collision free: True On drivable area: False\n",
      "DEBUG:gym-duckietown:safety_factor: 1.3\n",
      "DEBUG:gym-duckietown:pos: [3.6172817  0.         2.19773742]\n",
      "DEBUG:gym-duckietown:l_pos: [3.64962075 0.         2.28971804]\n",
      "DEBUG:gym-duckietown:r_pos: [3.58494264 0.         2.10575679]\n",
      "DEBUG:gym-duckietown:f_pos: [3.50690495 0.         2.23654429]\n",
      "DEBUG:gym-duckietown:[4.11050548 0.         2.28364106] corresponds to tile at (7, 3) which is not drivable: {'coords': (7, 3), 'kind': 'floor', 'angle': 0, 'drivable': False, 'texture': <gym_duckietown.graphics.Texture object at 0x00000272959456A0>, 'color': array([1, 1, 1])}\n",
      "DEBUG:gym-duckietown:Invalid pose. Collision free: True On drivable area: False\n",
      "DEBUG:gym-duckietown:safety_factor: 1.3\n",
      "DEBUG:gym-duckietown:pos: [4.00116556 0.         2.24200236]\n",
      "DEBUG:gym-duckietown:l_pos: [4.03586448 0.         2.15088576]\n",
      "DEBUG:gym-duckietown:r_pos: [3.96646664 0.         2.33311896]\n"
     ]
    },
    {
     "name": "stderr",
     "output_type": "stream",
     "text": [
      "DEBUG:gym-duckietown:f_pos: [4.11050548 0.         2.28364106]\n",
      "DEBUG:gym-duckietown:[3.50186974 0.         2.10261411] corresponds to tile at (5, 3) which is not drivable: {'coords': (5, 3), 'kind': 'floor', 'angle': 0, 'drivable': False, 'texture': <gym_duckietown.graphics.Texture object at 0x00000272959456A0>, 'color': array([1, 1, 1])}\n",
      "DEBUG:gym-duckietown:Invalid pose. Collision free: True On drivable area: False\n",
      "DEBUG:gym-duckietown:safety_factor: 1.3\n",
      "DEBUG:gym-duckietown:pos: [3.5769519  0.         2.04041348]\n",
      "DEBUG:gym-duckietown:l_pos: [3.50186974 0.         2.10261411]\n",
      "DEBUG:gym-duckietown:r_pos: [3.65203407 0.         1.97821284]\n",
      "DEBUG:gym-duckietown:f_pos: [3.50231114 0.         1.95031488]\n",
      "DEBUG:gym-duckietown:[3.47260658 0.         1.77460142] corresponds to tile at (5, 3) which is not drivable: {'coords': (5, 3), 'kind': 'floor', 'angle': 0, 'drivable': False, 'texture': <gym_duckietown.graphics.Texture object at 0x00000272959456A0>, 'color': array([1, 1, 1])}\n",
      "DEBUG:gym-duckietown:Invalid pose. Collision free: True On drivable area: False\n",
      "DEBUG:gym-duckietown:safety_factor: 1.3\n",
      "DEBUG:gym-duckietown:pos: [3.58708306 0.         1.75043253]\n",
      "DEBUG:gym-duckietown:l_pos: [3.6072238 0.        1.8458296]\n",
      "DEBUG:gym-duckietown:r_pos: [3.56694232 0.         1.65503546]\n",
      "DEBUG:gym-duckietown:f_pos: [3.47260658 0.         1.77460142]\n",
      "DEBUG:gym-duckietown:[4.09934153 0.         1.85301864] corresponds to tile at (7, 3) which is not drivable: {'coords': (7, 3), 'kind': 'floor', 'angle': 0, 'drivable': False, 'texture': <gym_duckietown.graphics.Texture object at 0x00000272959456A0>, 'color': array([1, 1, 1])}\n",
      "DEBUG:gym-duckietown:Invalid pose. Collision free: True On drivable area: False\n",
      "DEBUG:gym-duckietown:safety_factor: 1.3\n",
      "DEBUG:gym-duckietown:pos: [4.02300463 0.         1.79236447]\n",
      "DEBUG:gym-duckietown:l_pos: [3.94666773 0.         1.7317103 ]\n",
      "DEBUG:gym-duckietown:r_pos: [4.09934153 0.         1.85301864]\n",
      "DEBUG:gym-duckietown:f_pos: [4.09578963 0.         1.70076019]\n",
      "DEBUG:gym-duckietown:[4.17105167 0.         1.80077003] corresponds to tile at (7, 3) which is not drivable: {'coords': (7, 3), 'kind': 'floor', 'angle': 0, 'drivable': False, 'texture': <gym_duckietown.graphics.Texture object at 0x00000272959456A0>, 'color': array([1, 1, 1])}\n",
      "DEBUG:gym-duckietown:Invalid pose. Collision free: True On drivable area: False\n",
      "DEBUG:gym-duckietown:safety_factor: 1.3\n",
      "DEBUG:gym-duckietown:pos: [4.09036721 0.         1.85550821]\n",
      "DEBUG:gym-duckietown:l_pos: [4.00968276 0.         1.9102464 ]\n",
      "DEBUG:gym-duckietown:r_pos: [4.17105167 0.         1.80077003]\n",
      "DEBUG:gym-duckietown:f_pos: [4.02468139 0.         1.75868687]\n",
      "DEBUG:gym-duckietown:[3.49620504 0.         2.20742184] corresponds to tile at (5, 3) which is not drivable: {'coords': (5, 3), 'kind': 'floor', 'angle': 0, 'drivable': False, 'texture': <gym_duckietown.graphics.Texture object at 0x00000272959456A0>, 'color': array([1, 1, 1])}\n",
      "DEBUG:gym-duckietown:Invalid pose. Collision free: True On drivable area: False\n",
      "DEBUG:gym-duckietown:safety_factor: 1.3\n",
      "DEBUG:gym-duckietown:pos: [3.57500004 0.         2.14999713]\n",
      "DEBUG:gym-duckietown:l_pos: [3.49620504 0.         2.20742184]\n",
      "DEBUG:gym-duckietown:r_pos: [3.65379505 0.         2.09257242]\n",
      "DEBUG:gym-duckietown:f_pos: [3.50609039 0.         2.05544313]\n",
      "DEBUG:gym-duckietown:[4.12972415 0.         2.27350789] corresponds to tile at (7, 3) which is not drivable: {'coords': (7, 3), 'kind': 'floor', 'angle': 0, 'drivable': False, 'texture': <gym_duckietown.graphics.Texture object at 0x00000272959456A0>, 'color': array([1, 1, 1])}\n",
      "DEBUG:gym-duckietown:Invalid pose. Collision free: True On drivable area: False\n",
      "DEBUG:gym-duckietown:safety_factor: 1.3\n",
      "DEBUG:gym-duckietown:pos: [4.022444   0.         2.32019802]\n",
      "DEBUG:gym-duckietown:l_pos: [3.98353555 0.         2.23079789]\n",
      "DEBUG:gym-duckietown:r_pos: [4.06135244 0.         2.40959815]\n",
      "DEBUG:gym-duckietown:f_pos: [4.12972415 0.         2.27350789]\n",
      "DEBUG:gym-duckietown:[4.14789125 0.         1.98595245] corresponds to tile at (7, 3) which is not drivable: {'coords': (7, 3), 'kind': 'floor', 'angle': 0, 'drivable': False, 'texture': <gym_duckietown.graphics.Texture object at 0x00000272959456A0>, 'color': array([1, 1, 1])}\n",
      "DEBUG:gym-duckietown:Invalid pose. Collision free: True On drivable area: False\n",
      "DEBUG:gym-duckietown:safety_factor: 1.3\n",
      "DEBUG:gym-duckietown:pos: [4.05139065 0.         1.99987665]\n",
      "DEBUG:gym-duckietown:l_pos: [3.95489004 0.         2.01380085]\n",
      "DEBUG:gym-duckietown:r_pos: [4.14789125 0.         1.98595245]\n",
      "DEBUG:gym-duckietown:f_pos: [4.0346816  0.         1.88407592]\n",
      "DEBUG:gym-duckietown:[3.50005426 0.         1.72007355] corresponds to tile at (5, 2) which is not drivable: {'coords': (5, 2), 'kind': 'floor', 'angle': 0, 'drivable': False, 'texture': <gym_duckietown.graphics.Texture object at 0x00000272959456A0>, 'color': array([1, 1, 1])}\n",
      "DEBUG:gym-duckietown:Invalid pose. Collision free: True On drivable area: False\n",
      "DEBUG:gym-duckietown:safety_factor: 1.3\n",
      "DEBUG:gym-duckietown:pos: [3.58276167 0.         1.80282911]\n",
      "DEBUG:gym-duckietown:l_pos: [3.5137987  0.         1.87175196]\n",
      "DEBUG:gym-duckietown:r_pos: [3.65172464 0.         1.73390626]\n",
      "DEBUG:gym-duckietown:f_pos: [3.50005426 0.         1.72007355]\n",
      "DEBUG:gym-duckietown:[3.49842474 0.         1.9311518 ] corresponds to tile at (5, 3) which is not drivable: {'coords': (5, 3), 'kind': 'floor', 'angle': 0, 'drivable': False, 'texture': <gym_duckietown.graphics.Texture object at 0x00000272959456A0>, 'color': array([1, 1, 1])}\n",
      "DEBUG:gym-duckietown:Invalid pose. Collision free: True On drivable area: False\n",
      "DEBUG:gym-duckietown:safety_factor: 1.3\n",
      "DEBUG:gym-duckietown:pos: [3.60040652 0.         1.87380448]\n",
      "DEBUG:gym-duckietown:l_pos: [3.64819596 0.         1.9587893 ]\n",
      "DEBUG:gym-duckietown:r_pos: [3.55261709 0.         1.78881966]\n",
      "DEBUG:gym-duckietown:f_pos: [3.49842474 0.         1.9311518 ]\n",
      "DEBUG:gym-duckietown:[4.1279325  0.         2.40562151] corresponds to tile at (7, 4) which is not drivable: {'coords': (7, 4), 'kind': 'floor', 'angle': 0, 'drivable': False, 'texture': <gym_duckietown.graphics.Texture object at 0x00000272959456A0>, 'color': array([1, 1, 1])}\n",
      "DEBUG:gym-duckietown:Invalid pose. Collision free: True On drivable area: False\n",
      "DEBUG:gym-duckietown:safety_factor: 1.3\n",
      "DEBUG:gym-duckietown:pos: [4.04505092 0.         2.35427082]\n",
      "DEBUG:gym-duckietown:l_pos: [3.96216934 0.         2.30292013]\n",
      "DEBUG:gym-duckietown:r_pos: [4.1279325  0.         2.40562151]\n",
      "DEBUG:gym-duckietown:f_pos: [4.10667175 0.         2.25481292]\n",
      "DEBUG:gym-duckietown:[3.4840149 0.        2.2828545] corresponds to tile at (5, 3) which is not drivable: {'coords': (5, 3), 'kind': 'floor', 'angle': 0, 'drivable': False, 'texture': <gym_duckietown.graphics.Texture object at 0x00000272959456A0>, 'color': array([1, 1, 1])}\n",
      "DEBUG:gym-duckietown:Invalid pose. Collision free: True On drivable area: False\n",
      "DEBUG:gym-duckietown:safety_factor: 1.3\n",
      "DEBUG:gym-duckietown:pos: [3.57730109 0.         2.31120829]\n",
      "DEBUG:gym-duckietown:l_pos: [3.4840149 0.        2.2828545]\n",
      "DEBUG:gym-duckietown:r_pos: [3.67058727 0.         2.33956208]\n",
      "DEBUG:gym-duckietown:f_pos: [3.61132563 0.         2.19926486]\n",
      "INFO:gym-duckietown:Starting at [3.89201099 0.         2.08907339] 1.6292900738092628\n",
      "INFO:gym-duckietown:Pos: [3.89201099 0.         2.08907339] angle 1.6292900738092628\n"
     ]
    },
    {
     "name": "stdout",
     "output_type": "stream",
     "text": [
      "Initialized Wrappers\n",
      "epoch 0, loss=0.063\n",
      "epoch 200, loss=27.764\n",
      "epoch 400, loss=11.000\n",
      "epoch 600, loss=4.733\n",
      "epoch 800, loss=2.409\n",
      "epoch 1000, loss=1.595\n",
      "epoch 1200, loss=1.386\n",
      "epoch 1400, loss=1.213\n",
      "epoch 1600, loss=1.169\n",
      "epoch 1800, loss=1.129\n"
     ]
    }
   ],
   "source": [
    "from gail.train import _train\n",
    "\n",
    "class Struct:\n",
    "    def __init__(self, **entries):\n",
    "        self.__dict__.update(entries)\n",
    "        \n",
    "args={'episodes':3, \n",
    "      'seed':1234, \n",
    "      'steps':50, \n",
    "      'batch_size':32,\n",
    "      'epochs':2000,\n",
    "      'model_directory':'models/',\n",
    "      'get_samples':False}\n",
    "args = Struct(**args)\n",
    "\n",
    "_train(args)"
   ]
  },
  {
   "cell_type": "code",
   "execution_count": 2,
   "metadata": {},
   "outputs": [
    {
     "name": "stderr",
     "output_type": "stream",
     "text": [
      "DEBUG:gym-duckietown:loading map file \"C:\\Users\\micha\\Documents\\Projects\\gym_things\\gym-duckietown\\gym_duckietown\\maps\\loop_empty.yaml\"\n",
      "DEBUG:gym-duckietown:[4.13719561 0.         1.88880899] corresponds to tile at (7, 3) which is not drivable: {'coords': (7, 3), 'kind': 'floor', 'angle': 0, 'drivable': False, 'texture': <gym_duckietown.graphics.Texture object at 0x00000272959456A0>, 'color': array([1, 1, 1])}\n",
      "DEBUG:gym-duckietown:Invalid pose. Collision free: True On drivable area: False\n",
      "DEBUG:gym-duckietown:safety_factor: 1.3\n",
      "DEBUG:gym-duckietown:pos: [4.0873995 0.        1.9726338]\n",
      "DEBUG:gym-duckietown:l_pos: [4.03760339 0.         2.0564586 ]\n",
      "DEBUG:gym-duckietown:r_pos: [4.13719561 0.         1.88880899]\n",
      "DEBUG:gym-duckietown:f_pos: [3.98680973 0.         1.91287847]\n",
      "DEBUG:gym-duckietown:[4.10908822 0.         2.30642426] corresponds to tile at (7, 3) which is not drivable: {'coords': (7, 3), 'kind': 'floor', 'angle': 0, 'drivable': False, 'texture': <gym_duckietown.graphics.Texture object at 0x00000272959456A0>, 'color': array([1, 1, 1])}\n",
      "DEBUG:gym-duckietown:Invalid pose. Collision free: True On drivable area: False\n",
      "DEBUG:gym-duckietown:safety_factor: 1.3\n",
      "DEBUG:gym-duckietown:pos: [4.0793971  0.         2.21355507]\n",
      "DEBUG:gym-duckietown:l_pos: [4.10908822 0.         2.30642426]\n",
      "DEBUG:gym-duckietown:r_pos: [4.04970598 0.         2.12068587]\n",
      "DEBUG:gym-duckietown:f_pos: [3.96795406 0.         2.24918441]\n",
      "DEBUG:gym-duckietown:[3.47880119 0.         2.23809688] corresponds to tile at (5, 3) which is not drivable: {'coords': (5, 3), 'kind': 'floor', 'angle': 0, 'drivable': False, 'texture': <gym_duckietown.graphics.Texture object at 0x00000272959456A0>, 'color': array([1, 1, 1])}\n",
      "DEBUG:gym-duckietown:Invalid pose. Collision free: True On drivable area: False\n",
      "DEBUG:gym-duckietown:safety_factor: 1.3\n",
      "DEBUG:gym-duckietown:pos: [3.54467288 0.         2.16621385]\n",
      "DEBUG:gym-duckietown:l_pos: [3.47880119 0.         2.23809688]\n",
      "DEBUG:gym-duckietown:r_pos: [3.61054457 0.         2.09433082]\n",
      "DEBUG:gym-duckietown:f_pos: [3.45841324 0.         2.08716782]\n",
      "DEBUG:gym-duckietown:[4.11902599 0.         2.07053136] corresponds to tile at (7, 3) which is not drivable: {'coords': (7, 3), 'kind': 'floor', 'angle': 0, 'drivable': False, 'texture': <gym_duckietown.graphics.Texture object at 0x00000272959456A0>, 'color': array([1, 1, 1])}\n",
      "DEBUG:gym-duckietown:Invalid pose. Collision free: True On drivable area: False\n",
      "DEBUG:gym-duckietown:safety_factor: 1.3\n",
      "DEBUG:gym-duckietown:pos: [4.05777514 0.         2.14639032]\n",
      "DEBUG:gym-duckietown:l_pos: [4.11902599 0.         2.07053136]\n",
      "DEBUG:gym-duckietown:r_pos: [3.99652428 0.         2.22224929]\n",
      "DEBUG:gym-duckietown:f_pos: [4.14880589 0.         2.21989135]\n",
      "DEBUG:gym-duckietown:[4.11072664 0.         2.23740683] corresponds to tile at (7, 3) which is not drivable: {'coords': (7, 3), 'kind': 'floor', 'angle': 0, 'drivable': False, 'texture': <gym_duckietown.graphics.Texture object at 0x00000272959456A0>, 'color': array([1, 1, 1])}\n",
      "DEBUG:gym-duckietown:Invalid pose. Collision free: True On drivable area: False\n",
      "DEBUG:gym-duckietown:safety_factor: 1.3\n",
      "DEBUG:gym-duckietown:pos: [4.06163269 0.         2.15316887]\n",
      "DEBUG:gym-duckietown:l_pos: [4.11072664 0.         2.23740683]\n",
      "DEBUG:gym-duckietown:r_pos: [4.01253874 0.         2.0689309 ]\n",
      "DEBUG:gym-duckietown:f_pos: [3.96054713 0.         2.2120816 ]\n",
      "DEBUG:gym-duckietown:[4.09719614 0.         2.20147659] corresponds to tile at (7, 3) which is not drivable: {'coords': (7, 3), 'kind': 'floor', 'angle': 0, 'drivable': False, 'texture': <gym_duckietown.graphics.Texture object at 0x00000272959456A0>, 'color': array([1, 1, 1])}\n",
      "DEBUG:gym-duckietown:Invalid pose. Collision free: True On drivable area: False\n",
      "DEBUG:gym-duckietown:safety_factor: 1.3\n",
      "DEBUG:gym-duckietown:pos: [4.00591875 0.         2.23575032]\n",
      "DEBUG:gym-duckietown:l_pos: [4.09719614 0.         2.20147659]\n",
      "DEBUG:gym-duckietown:r_pos: [3.91464137 0.         2.27002405]\n",
      "DEBUG:gym-duckietown:f_pos: [4.04704723 0.         2.34528318]\n",
      "DEBUG:gym-duckietown:[3.48173779 0.         2.07668522] corresponds to tile at (5, 3) which is not drivable: {'coords': (5, 3), 'kind': 'floor', 'angle': 0, 'drivable': False, 'texture': <gym_duckietown.graphics.Texture object at 0x00000272959456A0>, 'color': array([1, 1, 1])}\n",
      "DEBUG:gym-duckietown:Invalid pose. Collision free: True On drivable area: False\n",
      "DEBUG:gym-duckietown:safety_factor: 1.3\n",
      "DEBUG:gym-duckietown:pos: [3.59826268 0.         2.08721855]\n",
      "DEBUG:gym-duckietown:l_pos: [3.5894849  0.         2.18432262]\n",
      "DEBUG:gym-duckietown:r_pos: [3.60704045 0.         1.99011448]\n",
      "DEBUG:gym-duckietown:f_pos: [3.48173779 0.         2.07668522]\n",
      "DEBUG:gym-duckietown:[3.48172154 0.         1.84866924] corresponds to tile at (5, 3) which is not drivable: {'coords': (5, 3), 'kind': 'floor', 'angle': 0, 'drivable': False, 'texture': <gym_duckietown.graphics.Texture object at 0x00000272959456A0>, 'color': array([1, 1, 1])}\n",
      "DEBUG:gym-duckietown:Invalid pose. Collision free: True On drivable area: False\n",
      "DEBUG:gym-duckietown:safety_factor: 1.3\n",
      "DEBUG:gym-duckietown:pos: [3.57292165 0.         1.88314807]\n",
      "DEBUG:gym-duckietown:l_pos: [3.48172154 0.         1.84866924]\n",
      "DEBUG:gym-duckietown:r_pos: [3.66412176 0.         1.91762689]\n",
      "DEBUG:gym-duckietown:f_pos: [3.61429624 0.         1.77370793]\n",
      "DEBUG:gym-duckietown:[3.50690495 0.         2.23654429] corresponds to tile at (5, 3) which is not drivable: {'coords': (5, 3), 'kind': 'floor', 'angle': 0, 'drivable': False, 'texture': <gym_duckietown.graphics.Texture object at 0x00000272959456A0>, 'color': array([1, 1, 1])}\n",
      "DEBUG:gym-duckietown:Invalid pose. Collision free: True On drivable area: False\n",
      "DEBUG:gym-duckietown:safety_factor: 1.3\n",
      "DEBUG:gym-duckietown:pos: [3.6172817  0.         2.19773742]\n",
      "DEBUG:gym-duckietown:l_pos: [3.64962075 0.         2.28971804]\n",
      "DEBUG:gym-duckietown:r_pos: [3.58494264 0.         2.10575679]\n",
      "DEBUG:gym-duckietown:f_pos: [3.50690495 0.         2.23654429]\n",
      "DEBUG:gym-duckietown:[4.11050548 0.         2.28364106] corresponds to tile at (7, 3) which is not drivable: {'coords': (7, 3), 'kind': 'floor', 'angle': 0, 'drivable': False, 'texture': <gym_duckietown.graphics.Texture object at 0x00000272959456A0>, 'color': array([1, 1, 1])}\n",
      "DEBUG:gym-duckietown:Invalid pose. Collision free: True On drivable area: False\n",
      "DEBUG:gym-duckietown:safety_factor: 1.3\n",
      "DEBUG:gym-duckietown:pos: [4.00116556 0.         2.24200236]\n",
      "DEBUG:gym-duckietown:l_pos: [4.03586448 0.         2.15088576]\n",
      "DEBUG:gym-duckietown:r_pos: [3.96646664 0.         2.33311896]\n",
      "DEBUG:gym-duckietown:f_pos: [4.11050548 0.         2.28364106]\n",
      "DEBUG:gym-duckietown:[3.50186974 0.         2.10261411] corresponds to tile at (5, 3) which is not drivable: {'coords': (5, 3), 'kind': 'floor', 'angle': 0, 'drivable': False, 'texture': <gym_duckietown.graphics.Texture object at 0x00000272959456A0>, 'color': array([1, 1, 1])}\n",
      "DEBUG:gym-duckietown:Invalid pose. Collision free: True On drivable area: False\n",
      "DEBUG:gym-duckietown:safety_factor: 1.3\n",
      "DEBUG:gym-duckietown:pos: [3.5769519  0.         2.04041348]\n",
      "DEBUG:gym-duckietown:l_pos: [3.50186974 0.         2.10261411]\n",
      "DEBUG:gym-duckietown:r_pos: [3.65203407 0.         1.97821284]\n",
      "DEBUG:gym-duckietown:f_pos: [3.50231114 0.         1.95031488]\n",
      "DEBUG:gym-duckietown:[3.47260658 0.         1.77460142] corresponds to tile at (5, 3) which is not drivable: {'coords': (5, 3), 'kind': 'floor', 'angle': 0, 'drivable': False, 'texture': <gym_duckietown.graphics.Texture object at 0x00000272959456A0>, 'color': array([1, 1, 1])}\n",
      "DEBUG:gym-duckietown:Invalid pose. Collision free: True On drivable area: False\n",
      "DEBUG:gym-duckietown:safety_factor: 1.3\n",
      "DEBUG:gym-duckietown:pos: [3.58708306 0.         1.75043253]\n",
      "DEBUG:gym-duckietown:l_pos: [3.6072238 0.        1.8458296]\n",
      "DEBUG:gym-duckietown:r_pos: [3.56694232 0.         1.65503546]\n",
      "DEBUG:gym-duckietown:f_pos: [3.47260658 0.         1.77460142]\n",
      "DEBUG:gym-duckietown:[4.09934153 0.         1.85301864] corresponds to tile at (7, 3) which is not drivable: {'coords': (7, 3), 'kind': 'floor', 'angle': 0, 'drivable': False, 'texture': <gym_duckietown.graphics.Texture object at 0x00000272959456A0>, 'color': array([1, 1, 1])}\n",
      "DEBUG:gym-duckietown:Invalid pose. Collision free: True On drivable area: False\n"
     ]
    },
    {
     "name": "stderr",
     "output_type": "stream",
     "text": [
      "DEBUG:gym-duckietown:safety_factor: 1.3\n",
      "DEBUG:gym-duckietown:pos: [4.02300463 0.         1.79236447]\n",
      "DEBUG:gym-duckietown:l_pos: [3.94666773 0.         1.7317103 ]\n",
      "DEBUG:gym-duckietown:r_pos: [4.09934153 0.         1.85301864]\n",
      "DEBUG:gym-duckietown:f_pos: [4.09578963 0.         1.70076019]\n",
      "DEBUG:gym-duckietown:[4.17105167 0.         1.80077003] corresponds to tile at (7, 3) which is not drivable: {'coords': (7, 3), 'kind': 'floor', 'angle': 0, 'drivable': False, 'texture': <gym_duckietown.graphics.Texture object at 0x00000272959456A0>, 'color': array([1, 1, 1])}\n",
      "DEBUG:gym-duckietown:Invalid pose. Collision free: True On drivable area: False\n",
      "DEBUG:gym-duckietown:safety_factor: 1.3\n",
      "DEBUG:gym-duckietown:pos: [4.09036721 0.         1.85550821]\n",
      "DEBUG:gym-duckietown:l_pos: [4.00968276 0.         1.9102464 ]\n",
      "DEBUG:gym-duckietown:r_pos: [4.17105167 0.         1.80077003]\n",
      "DEBUG:gym-duckietown:f_pos: [4.02468139 0.         1.75868687]\n",
      "DEBUG:gym-duckietown:[3.49620504 0.         2.20742184] corresponds to tile at (5, 3) which is not drivable: {'coords': (5, 3), 'kind': 'floor', 'angle': 0, 'drivable': False, 'texture': <gym_duckietown.graphics.Texture object at 0x00000272959456A0>, 'color': array([1, 1, 1])}\n",
      "DEBUG:gym-duckietown:Invalid pose. Collision free: True On drivable area: False\n",
      "DEBUG:gym-duckietown:safety_factor: 1.3\n",
      "DEBUG:gym-duckietown:pos: [3.57500004 0.         2.14999713]\n",
      "DEBUG:gym-duckietown:l_pos: [3.49620504 0.         2.20742184]\n",
      "DEBUG:gym-duckietown:r_pos: [3.65379505 0.         2.09257242]\n",
      "DEBUG:gym-duckietown:f_pos: [3.50609039 0.         2.05544313]\n",
      "DEBUG:gym-duckietown:[4.12972415 0.         2.27350789] corresponds to tile at (7, 3) which is not drivable: {'coords': (7, 3), 'kind': 'floor', 'angle': 0, 'drivable': False, 'texture': <gym_duckietown.graphics.Texture object at 0x00000272959456A0>, 'color': array([1, 1, 1])}\n",
      "DEBUG:gym-duckietown:Invalid pose. Collision free: True On drivable area: False\n",
      "DEBUG:gym-duckietown:safety_factor: 1.3\n",
      "DEBUG:gym-duckietown:pos: [4.022444   0.         2.32019802]\n",
      "DEBUG:gym-duckietown:l_pos: [3.98353555 0.         2.23079789]\n",
      "DEBUG:gym-duckietown:r_pos: [4.06135244 0.         2.40959815]\n",
      "DEBUG:gym-duckietown:f_pos: [4.12972415 0.         2.27350789]\n",
      "DEBUG:gym-duckietown:[4.14789125 0.         1.98595245] corresponds to tile at (7, 3) which is not drivable: {'coords': (7, 3), 'kind': 'floor', 'angle': 0, 'drivable': False, 'texture': <gym_duckietown.graphics.Texture object at 0x00000272959456A0>, 'color': array([1, 1, 1])}\n",
      "DEBUG:gym-duckietown:Invalid pose. Collision free: True On drivable area: False\n",
      "DEBUG:gym-duckietown:safety_factor: 1.3\n",
      "DEBUG:gym-duckietown:pos: [4.05139065 0.         1.99987665]\n",
      "DEBUG:gym-duckietown:l_pos: [3.95489004 0.         2.01380085]\n",
      "DEBUG:gym-duckietown:r_pos: [4.14789125 0.         1.98595245]\n",
      "DEBUG:gym-duckietown:f_pos: [4.0346816  0.         1.88407592]\n",
      "DEBUG:gym-duckietown:[3.50005426 0.         1.72007355] corresponds to tile at (5, 2) which is not drivable: {'coords': (5, 2), 'kind': 'floor', 'angle': 0, 'drivable': False, 'texture': <gym_duckietown.graphics.Texture object at 0x00000272959456A0>, 'color': array([1, 1, 1])}\n",
      "DEBUG:gym-duckietown:Invalid pose. Collision free: True On drivable area: False\n",
      "DEBUG:gym-duckietown:safety_factor: 1.3\n",
      "DEBUG:gym-duckietown:pos: [3.58276167 0.         1.80282911]\n",
      "DEBUG:gym-duckietown:l_pos: [3.5137987  0.         1.87175196]\n",
      "DEBUG:gym-duckietown:r_pos: [3.65172464 0.         1.73390626]\n",
      "DEBUG:gym-duckietown:f_pos: [3.50005426 0.         1.72007355]\n",
      "DEBUG:gym-duckietown:[3.49842474 0.         1.9311518 ] corresponds to tile at (5, 3) which is not drivable: {'coords': (5, 3), 'kind': 'floor', 'angle': 0, 'drivable': False, 'texture': <gym_duckietown.graphics.Texture object at 0x00000272959456A0>, 'color': array([1, 1, 1])}\n",
      "DEBUG:gym-duckietown:Invalid pose. Collision free: True On drivable area: False\n",
      "DEBUG:gym-duckietown:safety_factor: 1.3\n",
      "DEBUG:gym-duckietown:pos: [3.60040652 0.         1.87380448]\n",
      "DEBUG:gym-duckietown:l_pos: [3.64819596 0.         1.9587893 ]\n",
      "DEBUG:gym-duckietown:r_pos: [3.55261709 0.         1.78881966]\n",
      "DEBUG:gym-duckietown:f_pos: [3.49842474 0.         1.9311518 ]\n",
      "DEBUG:gym-duckietown:[4.1279325  0.         2.40562151] corresponds to tile at (7, 4) which is not drivable: {'coords': (7, 4), 'kind': 'floor', 'angle': 0, 'drivable': False, 'texture': <gym_duckietown.graphics.Texture object at 0x00000272959456A0>, 'color': array([1, 1, 1])}\n",
      "DEBUG:gym-duckietown:Invalid pose. Collision free: True On drivable area: False\n",
      "DEBUG:gym-duckietown:safety_factor: 1.3\n",
      "DEBUG:gym-duckietown:pos: [4.04505092 0.         2.35427082]\n",
      "DEBUG:gym-duckietown:l_pos: [3.96216934 0.         2.30292013]\n",
      "DEBUG:gym-duckietown:r_pos: [4.1279325  0.         2.40562151]\n",
      "DEBUG:gym-duckietown:f_pos: [4.10667175 0.         2.25481292]\n",
      "DEBUG:gym-duckietown:[3.4840149 0.        2.2828545] corresponds to tile at (5, 3) which is not drivable: {'coords': (5, 3), 'kind': 'floor', 'angle': 0, 'drivable': False, 'texture': <gym_duckietown.graphics.Texture object at 0x00000272959456A0>, 'color': array([1, 1, 1])}\n",
      "DEBUG:gym-duckietown:Invalid pose. Collision free: True On drivable area: False\n",
      "DEBUG:gym-duckietown:safety_factor: 1.3\n",
      "DEBUG:gym-duckietown:pos: [3.57730109 0.         2.31120829]\n",
      "DEBUG:gym-duckietown:l_pos: [3.4840149 0.        2.2828545]\n",
      "DEBUG:gym-duckietown:r_pos: [3.67058727 0.         2.33956208]\n",
      "DEBUG:gym-duckietown:f_pos: [3.61132563 0.         2.19926486]\n",
      "INFO:gym-duckietown:Starting at [3.89201099 0.         2.08907339] 1.6292900738092628\n",
      "INFO:gym-duckietown:Pos: [3.89201099 0.         2.08907339] angle 1.6292900738092628\n"
     ]
    },
    {
     "name": "stdout",
     "output_type": "stream",
     "text": [
      "Initialized Wrappers\n"
     ]
    },
    {
     "name": "stderr",
     "output_type": "stream",
     "text": [
      "DEBUG:gym-duckietown:[2.33703727 0.         2.57700384] corresponds to tile at (3, 4) which is not drivable: {'coords': (3, 4), 'kind': 'floor', 'angle': 0, 'drivable': False, 'texture': <gym_duckietown.graphics.Texture object at 0x00000272959456A0>, 'color': array([1, 1, 1])}\n",
      "DEBUG:gym-duckietown:Invalid pose. Collision free: True On drivable area: False\n",
      "DEBUG:gym-duckietown:safety_factor: 1.3\n",
      "DEBUG:gym-duckietown:pos: [2.33703727 0.         2.57700384]\n",
      "DEBUG:gym-duckietown:l_pos: [2.24568806 0.         2.542922  ]\n",
      "DEBUG:gym-duckietown:r_pos: [2.42838647 0.         2.61108568]\n",
      "DEBUG:gym-duckietown:f_pos: [2.37793548 0.         2.46738479]\n",
      "DEBUG:gym-duckietown:[2.28873639 0.         2.68406941] corresponds to tile at (3, 4) which is not drivable: {'coords': (3, 4), 'kind': 'floor', 'angle': 0, 'drivable': False, 'texture': <gym_duckietown.graphics.Texture object at 0x00000272959456A0>, 'color': array([1, 1, 1])}\n",
      "DEBUG:gym-duckietown:Invalid pose. Collision free: True On drivable area: False\n",
      "DEBUG:gym-duckietown:safety_factor: 1.3\n",
      "DEBUG:gym-duckietown:pos: [2.38071712 0.         2.71640816]\n",
      "DEBUG:gym-duckietown:l_pos: [2.28873639 0.         2.68406941]\n",
      "DEBUG:gym-duckietown:r_pos: [2.47269785 0.         2.74874692]\n",
      "DEBUG:gym-duckietown:f_pos: [2.41952363 0.         2.60603129]\n",
      "INFO:gym-duckietown:Starting at [2.64153703 0.         2.88468928] 4.836049502872963\n",
      "INFO:gym-duckietown:Pos: [2.64153703 0.         2.88468928] angle 4.836049502872963\n"
     ]
    },
    {
     "name": "stdout",
     "output_type": "stream",
     "text": [
      "Starting episode 0\n"
     ]
    },
    {
     "name": "stderr",
     "output_type": "stream",
     "text": [
      "INFO:gym-duckietown:Pos: [2.64733709 0.         2.91948045] angle 4.919111633514277\n",
      "INFO:gym-duckietown:Pos: [2.64733709 0.         2.91948045] angle 4.919111633514277\n"
     ]
    },
    {
     "name": "stdout",
     "output_type": "stream",
     "text": [
      "[0.7761323  0.98794067]\n"
     ]
    },
    {
     "name": "stderr",
     "output_type": "stream",
     "text": [
      "INFO:gym-duckietown:Pos: [2.65614005 0.         2.95392939] angle 5.006031333912441\n",
      "INFO:gym-duckietown:Pos: [2.65614005 0.         2.95392939] angle 5.006031333912441\n"
     ]
    },
    {
     "name": "stdout",
     "output_type": "stream",
     "text": [
      "[0.77835476 1.1315216 ]\n",
      "[0.77886784 1.24916   ]"
     ]
    },
    {
     "name": "stderr",
     "output_type": "stream",
     "text": [
      "INFO:gym-duckietown:Pos: [2.66790033 0.         2.98749502] angle 5.092749839416525\n",
      "INFO:gym-duckietown:Pos: [2.66790033 0.         2.98749502] angle 5.092749839416525\n"
     ]
    },
    {
     "name": "stdout",
     "output_type": "stream",
     "text": [
      "\n",
      "[0.77265495 1.511673  ]"
     ]
    },
    {
     "name": "stderr",
     "output_type": "stream",
     "text": [
      "INFO:gym-duckietown:Pos: [2.68251155 0.         3.01978437] angle 5.181904772429693\n",
      "INFO:gym-duckietown:Pos: [2.68251155 0.         3.01978437] angle 5.181904772429693\n"
     ]
    },
    {
     "name": "stdout",
     "output_type": "stream",
     "text": [
      "\n",
      "[0.77297056 1.3686436 ]\n"
     ]
    },
    {
     "name": "stderr",
     "output_type": "stream",
     "text": [
      "INFO:gym-duckietown:Pos: [2.69994089 0.         3.05065114] angle 5.270935938151062\n",
      "INFO:gym-duckietown:Pos: [2.69994089 0.         3.05065114] angle 5.270935938151062\n",
      "INFO:gym-duckietown:Pos: [2.72009355 0.         3.08001998] angle 5.3566391973511145\n",
      "INFO:gym-duckietown:Pos: [2.72009355 0.         3.08001998] angle 5.3566391973511145\n"
     ]
    },
    {
     "name": "stdout",
     "output_type": "stream",
     "text": [
      "[0.7814567 1.6912609]\n"
     ]
    },
    {
     "name": "stderr",
     "output_type": "stream",
     "text": [
      "INFO:gym-duckietown:Pos: [2.74279142 0.         3.10784443] angle 5.436684222684195\n",
      "INFO:gym-duckietown:Pos: [2.74279142 0.         3.10784443] angle 5.436684222684195\n"
     ]
    },
    {
     "name": "stdout",
     "output_type": "stream",
     "text": [
      "[0.7958852 1.7896099]\n",
      "[0.7977262 2.04106  ]"
     ]
    },
    {
     "name": "stderr",
     "output_type": "stream",
     "text": [
      "INFO:gym-duckietown:Pos: [2.76765766 0.         3.13380055] angle 5.516007272148452\n",
      "INFO:gym-duckietown:Pos: [2.76765766 0.         3.13380055] angle 5.516007272148452\n"
     ]
    },
    {
     "name": "stdout",
     "output_type": "stream",
     "text": [
      "\n",
      "[0.7987048 1.9280025]"
     ]
    },
    {
     "name": "stderr",
     "output_type": "stream",
     "text": [
      "INFO:gym-duckietown:Pos: [2.79451257 0.         3.15772287] angle 5.594946572885023\n",
      "INFO:gym-duckietown:Pos: [2.79451257 0.         3.15772287] angle 5.594946572885023\n"
     ]
    },
    {
     "name": "stdout",
     "output_type": "stream",
     "text": [
      "\n"
     ]
    },
    {
     "name": "stderr",
     "output_type": "stream",
     "text": [
      "INFO:gym-duckietown:Pos: [2.82310843 0.         3.17935967] angle 5.675948700775517\n",
      "INFO:gym-duckietown:Pos: [2.82310843 0.         3.17935967] angle 5.675948700775517\n",
      "INFO:gym-duckietown:Pos: [2.85330888 0.         3.19854538] angle 5.758508262972435\n",
      "INFO:gym-duckietown:Pos: [2.85330888 0.         3.19854538] angle 5.758508262972435\n"
     ]
    },
    {
     "name": "stdout",
     "output_type": "stream",
     "text": [
      "[0.7934446 1.9757929]\n",
      "[0.7894731 1.9603585]\n"
     ]
    },
    {
     "name": "stderr",
     "output_type": "stream",
     "text": [
      "INFO:gym-duckietown:Pos: [2.88486824 0.         3.21504678] angle 5.844312616324901\n",
      "DEBUG:gym-duckietown:[2.9446135  0.         3.24309145] corresponds to tile at (5, 5) which is not drivable: {'coords': (5, 5), 'kind': 'floor', 'angle': 0, 'drivable': False, 'texture': <gym_duckietown.graphics.Texture object at 0x00000272959456A0>, 'color': array([1, 1, 1])}\n",
      "DEBUG:gym-duckietown:Invalid pose. Collision free: True On drivable area: False\n",
      "DEBUG:gym-duckietown:safety_factor: 1.0\n",
      "DEBUG:gym-duckietown:pos: [2.86314269 0.         3.20484872]\n",
      "DEBUG:gym-duckietown:l_pos: [2.89501163 0.         3.13695637]\n",
      "DEBUG:gym-duckietown:r_pos: [2.83127374 0.         3.27274106]\n",
      "DEBUG:gym-duckietown:f_pos: [2.9446135  0.         3.24309145]\n",
      "INFO:gym-duckietown:Stopping the simulator because we are at an invalid pose.\n",
      "INFO:gym-duckietown:Pos: [2.88486824 0.         3.21504678] angle 5.844312616324901\n"
     ]
    },
    {
     "name": "stdout",
     "output_type": "stream",
     "text": [
      "[0.7811989 1.78858  ]\n",
      "[0.77335554 1.5246345 ]"
     ]
    },
    {
     "name": "stderr",
     "output_type": "stream",
     "text": [
      "INFO:gym-duckietown:Pos: [2.91760122 0.         3.22867175] angle 5.933192803091481\n",
      "DEBUG:gym-duckietown:[2.97959999 0.         3.25130254] corresponds to tile at (5, 5) which is not drivable: {'coords': (5, 5), 'kind': 'floor', 'angle': 0, 'drivable': False, 'texture': <gym_duckietown.graphics.Texture object at 0x00000272959456A0>, 'color': array([1, 1, 1])}\n",
      "DEBUG:gym-duckietown:Invalid pose. Collision free: True On drivable area: False\n",
      "DEBUG:gym-duckietown:safety_factor: 1.0\n",
      "DEBUG:gym-duckietown:pos: [2.89505622 0.         3.22044238]\n",
      "DEBUG:gym-duckietown:l_pos: [2.92077302 0.         3.14998923]\n",
      "DEBUG:gym-duckietown:r_pos: [2.86933941 0.         3.29089552]\n",
      "DEBUG:gym-duckietown:f_pos: [2.97959999 0.         3.25130254]\n",
      "INFO:gym-duckietown:Stopping the simulator because we are at an invalid pose.\n",
      "INFO:gym-duckietown:Pos: [2.91760122 0.         3.22867175] angle 5.933192803091481\n"
     ]
    },
    {
     "name": "stdout",
     "output_type": "stream",
     "text": [
      "\n"
     ]
    },
    {
     "name": "stderr",
     "output_type": "stream",
     "text": [
      "INFO:gym-duckietown:Pos: [2.9513591  0.         3.23929646] angle 6.02334268566363\n",
      "DEBUG:gym-duckietown:[2.92816477 0.         3.23313017] corresponds to tile at (5, 5) which is not drivable: {'coords': (5, 5), 'kind': 'floor', 'angle': 0, 'drivable': False, 'texture': <gym_duckietown.graphics.Texture object at 0x00000272959456A0>, 'color': array([1, 1, 1])}\n",
      "DEBUG:gym-duckietown:Invalid pose. Collision free: True On drivable area: False\n",
      "DEBUG:gym-duckietown:safety_factor: 1.0\n",
      "DEBUG:gym-duckietown:pos: [2.92816477 0.         3.23313017]\n",
      "DEBUG:gym-duckietown:l_pos: [2.9474344  0.         3.16064789]\n",
      "DEBUG:gym-duckietown:r_pos: [2.90889513 0.         3.30561246]\n",
      "DEBUG:gym-duckietown:f_pos: [3.0151435  0.         3.25625374]\n",
      "INFO:gym-duckietown:Stopping the simulator because we are at an invalid pose.\n",
      "INFO:gym-duckietown:Pos: [2.9513591  0.         3.23929646] angle 6.02334268566363\n"
     ]
    },
    {
     "name": "stdout",
     "output_type": "stream",
     "text": [
      "[0.7701178 1.3489877]\n",
      "[0.7649464 1.2707186]"
     ]
    },
    {
     "name": "stderr",
     "output_type": "stream",
     "text": [
      "INFO:gym-duckietown:Pos: [2.98584246 0.         3.24678176] angle 6.115520567577657\n",
      "DEBUG:gym-duckietown:[2.96217901 0.         3.24277663] corresponds to tile at (5, 5) which is not drivable: {'coords': (5, 5), 'kind': 'floor', 'angle': 0, 'drivable': False, 'texture': <gym_duckietown.graphics.Texture object at 0x00000272959456A0>, 'color': array([1, 1, 1])}\n",
      "DEBUG:gym-duckietown:Invalid pose. Collision free: True On drivable area: False\n",
      "DEBUG:gym-duckietown:safety_factor: 1.0\n",
      "DEBUG:gym-duckietown:pos: [2.96217901 0.         3.24277663]\n",
      "DEBUG:gym-duckietown:l_pos: [2.97469503 0.         3.16882834]\n",
      "DEBUG:gym-duckietown:r_pos: [2.94966299 0.         3.31672492]\n",
      "DEBUG:gym-duckietown:f_pos: [3.05091696 0.         3.25779585]\n",
      "INFO:gym-duckietown:Stopping the simulator because we are at an invalid pose.\n",
      "INFO:gym-duckietown:Pos: [2.98584246 0.         3.24678176] angle 6.115520567577657\n"
     ]
    },
    {
     "name": "stdout",
     "output_type": "stream",
     "text": [
      "\n",
      "[0.7620032 1.0539234]\n"
     ]
    },
    {
     "name": "stderr",
     "output_type": "stream",
     "text": [
      "INFO:gym-duckietown:Pos: [3.02081218 0.         3.25103382] angle 6.208852656428339\n",
      "DEBUG:gym-duckietown:[2.99687845 0.         3.24925148] corresponds to tile at (5, 5) which is not drivable: {'coords': (5, 5), 'kind': 'floor', 'angle': 0, 'drivable': False, 'texture': <gym_duckietown.graphics.Texture object at 0x00000272959456A0>, 'color': array([1, 1, 1])}\n",
      "DEBUG:gym-duckietown:Invalid pose. Collision free: True On drivable area: False\n",
      "DEBUG:gym-duckietown:safety_factor: 1.0\n",
      "DEBUG:gym-duckietown:pos: [2.99687845 0.         3.24925148]\n",
      "DEBUG:gym-duckietown:l_pos: [3.00244827 0.         3.17445858]\n",
      "DEBUG:gym-duckietown:r_pos: [2.99130864 0.         3.32404437]\n",
      "DEBUG:gym-duckietown:f_pos: [3.08662993 0.         3.25593526]\n",
      "INFO:gym-duckietown:Stopping the simulator because we are at an invalid pose.\n",
      "INFO:gym-duckietown:Pos: [3.02081218 0.         3.25103382] angle 6.208852656428339\n",
      "INFO:gym-duckietown:Pos: [3.05397657 0.         3.25261245] angle 6.262389256185963\n",
      "DEBUG:gym-duckietown:[3.02998175 0.         3.25211338] corresponds to tile at (5, 5) which is not drivable: {'coords': (5, 5), 'kind': 'floor', 'angle': 0, 'drivable': False, 'texture': <gym_duckietown.graphics.Texture object at 0x00000272959456A0>, 'color': array([1, 1, 1])}\n",
      "DEBUG:gym-duckietown:Invalid pose. Collision free: True On drivable area: False\n",
      "DEBUG:gym-duckietown:safety_factor: 1.0\n",
      "DEBUG:gym-duckietown:pos: [3.02998175 0.         3.25211338]\n",
      "DEBUG:gym-duckietown:l_pos: [3.03154135 0.         3.1771296 ]\n",
      "DEBUG:gym-duckietown:r_pos: [3.02842216 0.         3.32709716]\n",
      "DEBUG:gym-duckietown:f_pos: [3.11996229 0.         3.25398489]\n",
      "INFO:gym-duckietown:Stopping the simulator because we are at an invalid pose.\n",
      "INFO:gym-duckietown:Pos: [3.05397657 0.         3.25261245] angle 6.262389256185963\n"
     ]
    },
    {
     "name": "stdout",
     "output_type": "stream",
     "text": [
      "[0.7618883 0.8984067]\n"
     ]
    },
    {
     "name": "stderr",
     "output_type": "stream",
     "text": [
      "INFO:gym-duckietown:Pos: [3.08437561 0.         3.2532329 ] angle 6.263166512441019\n",
      "DEBUG:gym-duckietown:[3.06038042 0.         3.25275248] corresponds to tile at (5, 5) which is not drivable: {'coords': (5, 5), 'kind': 'floor', 'angle': 0, 'drivable': False, 'texture': <gym_duckietown.graphics.Texture object at 0x00000272959456A0>, 'color': array([1, 1, 1])}\n",
      "DEBUG:gym-duckietown:Invalid pose. Collision free: True On drivable area: False\n",
      "DEBUG:gym-duckietown:safety_factor: 1.0\n",
      "DEBUG:gym-duckietown:pos: [3.06038042 0.         3.25275248]\n",
      "DEBUG:gym-duckietown:l_pos: [3.06188173 0.         3.17776751]\n",
      "DEBUG:gym-duckietown:r_pos: [3.05887911 0.         3.32773746]\n",
      "DEBUG:gym-duckietown:f_pos: [3.15036239 0.         3.25455405]\n",
      "INFO:gym-duckietown:Stopping the simulator because we are at an invalid pose.\n",
      "INFO:gym-duckietown:Pos: [3.08437561 0.         3.2532329 ] angle 6.263166512441019\n"
     ]
    },
    {
     "name": "stdout",
     "output_type": "stream",
     "text": [
      "[0.7591435  0.76112545]\n",
      "[0.7594991  0.89979106]"
     ]
    },
    {
     "name": "stderr",
     "output_type": "stream",
     "text": [
      "INFO:gym-duckietown:Pos: [3.1175563  0.         3.25298439] angle 6.318182982552293\n",
      "DEBUG:gym-duckietown:[3.093571   0.         3.25382417] corresponds to tile at (5, 5) which is not drivable: {'coords': (5, 5), 'kind': 'floor', 'angle': 0, 'drivable': False, 'texture': <gym_duckietown.graphics.Texture object at 0x00000272959456A0>, 'color': array([1, 1, 1])}\n",
      "DEBUG:gym-duckietown:Invalid pose. Collision free: True On drivable area: False\n",
      "DEBUG:gym-duckietown:safety_factor: 1.0\n",
      "DEBUG:gym-duckietown:pos: [3.093571   0.         3.25382417]\n",
      "DEBUG:gym-duckietown:l_pos: [3.09094671 0.         3.17887009]\n",
      "DEBUG:gym-duckietown:r_pos: [3.09619529 0.         3.32877824]\n",
      "DEBUG:gym-duckietown:f_pos: [3.18351588 0.         3.25067502]\n",
      "INFO:gym-duckietown:Stopping the simulator because we are at an invalid pose.\n",
      "INFO:gym-duckietown:Pos: [3.1175563  0.         3.25298439] angle 6.318182982552293\n"
     ]
    },
    {
     "name": "stdout",
     "output_type": "stream",
     "text": [
      "\n",
      "[0.7597476 0.8988592]"
     ]
    },
    {
     "name": "stderr",
     "output_type": "stream",
     "text": [
      "INFO:gym-duckietown:Pos: [3.15066003 0.         3.25092021] angle 6.372736523255811\n",
      "DEBUG:gym-duckietown:[3.1267562  0.         3.25306657] corresponds to tile at (5, 5) which is not drivable: {'coords': (5, 5), 'kind': 'floor', 'angle': 0, 'drivable': False, 'texture': <gym_duckietown.graphics.Texture object at 0x00000272959456A0>, 'color': array([1, 1, 1])}\n",
      "DEBUG:gym-duckietown:Invalid pose. Collision free: True On drivable area: False\n",
      "DEBUG:gym-duckietown:safety_factor: 1.0\n",
      "DEBUG:gym-duckietown:pos: [3.1267562  0.         3.25306657]\n",
      "DEBUG:gym-duckietown:l_pos: [3.12004883 0.         3.17836709]\n",
      "DEBUG:gym-duckietown:r_pos: [3.13346357 0.         3.32776604]\n",
      "DEBUG:gym-duckietown:f_pos: [3.21639557 0.         3.24501772]\n",
      "INFO:gym-duckietown:Stopping the simulator because we are at an invalid pose.\n",
      "INFO:gym-duckietown:Pos: [3.15066003 0.         3.25092021] angle 6.372736523255811\n"
     ]
    },
    {
     "name": "stdout",
     "output_type": "stream",
     "text": [
      "\n"
     ]
    },
    {
     "name": "stderr",
     "output_type": "stream",
     "text": [
      "INFO:gym-duckietown:Pos: [3.18554249 0.         3.24613282] angle 6.4664165201327455\n",
      "DEBUG:gym-duckietown:[3.16194425 0.         3.25050581] corresponds to tile at (5, 5) which is not drivable: {'coords': (5, 5), 'kind': 'floor', 'angle': 0, 'drivable': False, 'texture': <gym_duckietown.graphics.Texture object at 0x00000272959456A0>, 'color': array([1, 1, 1])}\n",
      "DEBUG:gym-duckietown:Invalid pose. Collision free: True On drivable area: False\n",
      "DEBUG:gym-duckietown:safety_factor: 1.0\n",
      "DEBUG:gym-duckietown:pos: [3.16194425 0.         3.25050581]\n",
      "DEBUG:gym-duckietown:l_pos: [3.14827868 0.         3.1767613 ]\n",
      "DEBUG:gym-duckietown:r_pos: [3.17560982 0.         3.32425031]\n",
      "DEBUG:gym-duckietown:f_pos: [3.25043766 0.         3.23410712]\n",
      "INFO:gym-duckietown:Stopping the simulator because we are at an invalid pose.\n",
      "INFO:gym-duckietown:Pos: [3.18554249 0.         3.24613282] angle 6.4664165201327455\n"
     ]
    },
    {
     "name": "stdout",
     "output_type": "stream",
     "text": [
      "[0.761116  1.1177588]\n",
      "[0.76521015 1.2048863 ]"
     ]
    },
    {
     "name": "stderr",
     "output_type": "stream",
     "text": [
      "INFO:gym-duckietown:Pos: [3.21991074 0.         3.23811224] angle 6.558490970457309\n",
      "DEBUG:gym-duckietown:[3.19681453 0.         3.24463643] corresponds to tile at (5, 5) which is not drivable: {'coords': (5, 5), 'kind': 'floor', 'angle': 0, 'drivable': False, 'texture': <gym_duckietown.graphics.Texture object at 0x00000272959456A0>, 'color': array([1, 1, 1])}\n",
      "DEBUG:gym-duckietown:Invalid pose. Collision free: True On drivable area: False\n",
      "DEBUG:gym-duckietown:safety_factor: 1.0\n",
      "DEBUG:gym-duckietown:pos: [3.19681453 0.         3.24463643]\n",
      "DEBUG:gym-duckietown:l_pos: [3.17642645 0.         3.17246077]\n",
      "DEBUG:gym-duckietown:r_pos: [3.21720262 0.         3.31681209]\n",
      "DEBUG:gym-duckietown:f_pos: [3.28342533 0.         3.22017073]\n",
      "INFO:gym-duckietown:Stopping the simulator because we are at an invalid pose.\n",
      "INFO:gym-duckietown:Pos: [3.21991074 0.         3.23811224] angle 6.558490970457309\n"
     ]
    },
    {
     "name": "stdout",
     "output_type": "stream",
     "text": [
      "\n"
     ]
    },
    {
     "name": "stderr",
     "output_type": "stream",
     "text": [
      "INFO:gym-duckietown:Pos: [3.25353535 0.         3.22696726] angle 6.647994220548213\n",
      "DEBUG:gym-duckietown:[3.23111475 0.         3.23552976] corresponds to tile at (5, 5) which is not drivable: {'coords': (5, 5), 'kind': 'floor', 'angle': 0, 'drivable': False, 'texture': <gym_duckietown.graphics.Texture object at 0x00000272959456A0>, 'color': array([1, 1, 1])}\n",
      "DEBUG:gym-duckietown:Invalid pose. Collision free: True On drivable area: False\n",
      "DEBUG:gym-duckietown:safety_factor: 1.0\n",
      "DEBUG:gym-duckietown:pos: [3.23111475 0.         3.23552976]\n",
      "DEBUG:gym-duckietown:l_pos: [3.20435694 0.         3.16546537]\n",
      "DEBUG:gym-duckietown:r_pos: [3.25787256 0.         3.30559416]\n",
      "DEBUG:gym-duckietown:f_pos: [3.31519202 0.         3.20342039]\n",
      "INFO:gym-duckietown:Stopping the simulator because we are at an invalid pose.\n",
      "INFO:gym-duckietown:Pos: [3.25353535 0.         3.22696726] angle 6.647994220548213\n"
     ]
    },
    {
     "name": "stdout",
     "output_type": "stream",
     "text": [
      "[0.7717667 1.5040579]\n",
      "[0.76612973 1.6387781 ]"
     ]
    },
    {
     "name": "stderr",
     "output_type": "stream",
     "text": [
      "INFO:gym-duckietown:Pos: [3.28590971 0.         3.21287072] angle 6.739708062771886\n",
      "DEBUG:gym-duckietown:[3.26436753 0.         3.22345063] corresponds to tile at (5, 5) which is not drivable: {'coords': (5, 5), 'kind': 'floor', 'angle': 0, 'drivable': False, 'texture': <gym_duckietown.graphics.Texture object at 0x00000272959456A0>, 'color': array([1, 1, 1])}\n",
      "DEBUG:gym-duckietown:Invalid pose. Collision free: True On drivable area: False\n",
      "DEBUG:gym-duckietown:safety_factor: 1.0\n",
      "DEBUG:gym-duckietown:pos: [3.26436753 0.         3.22345063]\n",
      "DEBUG:gym-duckietown:l_pos: [3.23130531 0.         3.15613133]\n",
      "DEBUG:gym-duckietown:r_pos: [3.29742975 0.         3.29076994]\n",
      "DEBUG:gym-duckietown:f_pos: [3.3451507  0.         3.18377597]\n",
      "INFO:gym-duckietown:Stopping the simulator because we are at an invalid pose.\n",
      "INFO:gym-duckietown:Pos: [3.28590971 0.         3.21287072] angle 6.739708062771886\n"
     ]
    },
    {
     "name": "stdout",
     "output_type": "stream",
     "text": [
      "\n",
      "[0.75705683 1.5303366 ]"
     ]
    },
    {
     "name": "stderr",
     "output_type": "stream",
     "text": [
      "INFO:gym-duckietown:Pos: [3.316667   0.         3.19590148] angle 6.834979893237165\n",
      "DEBUG:gym-duckietown:[3.29622895 0.         3.20848267] corresponds to tile at (5, 5) which is not drivable: {'coords': (5, 5), 'kind': 'floor', 'angle': 0, 'drivable': False, 'texture': <gym_duckietown.graphics.Texture object at 0x00000272959456A0>, 'color': array([1, 1, 1])}\n",
      "DEBUG:gym-duckietown:Invalid pose. Collision free: True On drivable area: False\n",
      "DEBUG:gym-duckietown:safety_factor: 1.0\n",
      "DEBUG:gym-duckietown:pos: [3.29622895 0.         3.20848267]\n",
      "DEBUG:gym-duckietown:l_pos: [3.25691273 0.         3.14461379]\n",
      "DEBUG:gym-duckietown:r_pos: [3.33554518 0.         3.27235156]\n",
      "DEBUG:gym-duckietown:f_pos: [3.37287161 0.         3.1613032 ]\n",
      "INFO:gym-duckietown:Stopping the simulator because we are at an invalid pose.\n",
      "INFO:gym-duckietown:Pos: [3.316667   0.         3.19590148] angle 6.834979893237165\n"
     ]
    },
    {
     "name": "stdout",
     "output_type": "stream",
     "text": [
      "\n",
      "[0.755757  1.5785074]"
     ]
    },
    {
     "name": "stderr",
     "output_type": "stream",
     "text": [
      "INFO:gym-duckietown:Pos: [3.34564393 0.         3.17609067] angle 6.930761479765768\n",
      "DEBUG:gym-duckietown:[3.32650277 0.         3.1905688 ] corresponds to tile at (5, 5) which is not drivable: {'coords': (5, 5), 'kind': 'floor', 'angle': 0, 'drivable': False, 'texture': <gym_duckietown.graphics.Texture object at 0x00000272959456A0>, 'color': array([1, 1, 1])}\n",
      "DEBUG:gym-duckietown:Invalid pose. Collision free: True On drivable area: False\n",
      "DEBUG:gym-duckietown:safety_factor: 1.0\n",
      "DEBUG:gym-duckietown:pos: [3.32650277 0.         3.1905688 ]\n",
      "DEBUG:gym-duckietown:l_pos: [3.28125864 0.         3.13075267]\n",
      "DEBUG:gym-duckietown:r_pos: [3.3717469  0.         3.25038492]\n",
      "DEBUG:gym-duckietown:f_pos: [3.39828212 0.         3.13627584]\n",
      "INFO:gym-duckietown:Stopping the simulator because we are at an invalid pose.\n",
      "INFO:gym-duckietown:Pos: [3.34564393 0.         3.17609067] angle 6.930761479765768\n"
     ]
    },
    {
     "name": "stdout",
     "output_type": "stream",
     "text": [
      "\n",
      "[0.75020194 1.4544022 ]"
     ]
    },
    {
     "name": "stderr",
     "output_type": "stream",
     "text": [
      "INFO:gym-duckietown:Pos: [3.37248326 0.         3.15364177] angle 7.02872149918906\n",
      "DEBUG:gym-duckietown:[3.35484988 0.         3.16992255] corresponds to tile at (5, 5) which is not drivable: {'coords': (5, 5), 'kind': 'floor', 'angle': 0, 'drivable': False, 'texture': <gym_duckietown.graphics.Texture object at 0x00000272959456A0>, 'color': array([1, 1, 1])}\n",
      "DEBUG:gym-duckietown:Invalid pose. Collision free: True On drivable area: False\n",
      "DEBUG:gym-duckietown:safety_factor: 1.0\n",
      "DEBUG:gym-duckietown:pos: [3.35484988 0.         3.16992255]\n",
      "DEBUG:gym-duckietown:l_pos: [3.30397244 0.         3.11481823]\n",
      "DEBUG:gym-duckietown:r_pos: [3.40572732 0.         3.22502687]\n",
      "DEBUG:gym-duckietown:f_pos: [3.42097506 0.         3.10886962]\n",
      "INFO:gym-duckietown:Stopping the simulator because we are at an invalid pose.\n",
      "INFO:gym-duckietown:Pos: [3.37248326 0.         3.15364177] angle 7.02872149918906\n"
     ]
    },
    {
     "name": "stdout",
     "output_type": "stream",
     "text": [
      "\n",
      "[0.7522135 2.061348 ]"
     ]
    },
    {
     "name": "stderr",
     "output_type": "stream",
     "text": [
      "INFO:gym-duckietown:Pos: [3.39703653 0.         3.12865633] angle 7.125892692043897\n",
      "DEBUG:gym-duckietown:[3.38106586 0.         3.14657107] corresponds to tile at (5, 5) which is not drivable: {'coords': (5, 5), 'kind': 'floor', 'angle': 0, 'drivable': False, 'texture': <gym_duckietown.graphics.Texture object at 0x00000272959456A0>, 'color': array([1, 1, 1])}\n",
      "DEBUG:gym-duckietown:Invalid pose. Collision free: True On drivable area: False\n",
      "DEBUG:gym-duckietown:safety_factor: 1.0\n",
      "DEBUG:gym-duckietown:pos: [3.38106586 0.         3.14657107]\n",
      "DEBUG:gym-duckietown:l_pos: [3.3250823  0.         3.09666274]\n",
      "DEBUG:gym-duckietown:r_pos: [3.43704942 0.         3.19647939]\n",
      "DEBUG:gym-duckietown:f_pos: [3.44095585 0.         3.0793908 ]\n",
      "INFO:gym-duckietown:Stopping the simulator because we are at an invalid pose.\n",
      "INFO:gym-duckietown:Pos: [3.39703653 0.         3.12865633] angle 7.125892692043897\n"
     ]
    },
    {
     "name": "stdout",
     "output_type": "stream",
     "text": [
      "\n",
      "[0.7651416 1.7367089]"
     ]
    },
    {
     "name": "stderr",
     "output_type": "stream",
     "text": [
      "INFO:gym-duckietown:Pos: [3.41928274 0.         3.1012608 ] angle 7.217994022894536\n",
      "DEBUG:gym-duckietown:[3.40502741 0.         3.12056845] corresponds to tile at (5, 5) which is not drivable: {'coords': (5, 5), 'kind': 'floor', 'angle': 0, 'drivable': False, 'texture': <gym_duckietown.graphics.Texture object at 0x00000272959456A0>, 'color': array([1, 1, 1])}\n",
      "DEBUG:gym-duckietown:Invalid pose. Collision free: True On drivable area: False\n",
      "DEBUG:gym-duckietown:safety_factor: 1.0\n",
      "DEBUG:gym-duckietown:pos: [3.40502741 0.         3.12056845]\n",
      "DEBUG:gym-duckietown:l_pos: [3.344691   0.         3.07602052]\n",
      "DEBUG:gym-duckietown:r_pos: [3.46536382 0.         3.16511637]\n",
      "DEBUG:gym-duckietown:f_pos: [3.45848492 0.         3.04816476]\n",
      "INFO:gym-duckietown:Stopping the simulator because we are at an invalid pose.\n",
      "INFO:gym-duckietown:Pos: [3.41928274 0.         3.1012608 ] angle 7.217994022894536\n"
     ]
    },
    {
     "name": "stdout",
     "output_type": "stream",
     "text": [
      "\n",
      "[0.77607846 1.7769688 ]"
     ]
    },
    {
     "name": "stderr",
     "output_type": "stream",
     "text": [
      "INFO:gym-duckietown:Pos: [3.43910059 0.         3.07179515] angle 7.305806390502101\n",
      "DEBUG:gym-duckietown:[3.42659345 0.         3.09227859] corresponds to tile at (5, 5) which is not drivable: {'coords': (5, 5), 'kind': 'floor', 'angle': 0, 'drivable': False, 'texture': <gym_duckietown.graphics.Texture object at 0x00000272959456A0>, 'color': array([1, 1, 1])}\n",
      "DEBUG:gym-duckietown:Invalid pose. Collision free: True On drivable area: False\n",
      "DEBUG:gym-duckietown:safety_factor: 1.0\n",
      "DEBUG:gym-duckietown:pos: [3.42659345 0.         3.09227859]\n",
      "DEBUG:gym-duckietown:l_pos: [3.36258268 0.         3.05319379]\n",
      "DEBUG:gym-duckietown:r_pos: [3.49060421 0.         3.13136339]\n",
      "DEBUG:gym-duckietown:f_pos: [3.47349521 0.         3.01546567]\n",
      "INFO:gym-duckietown:Stopping the simulator because we are at an invalid pose.\n",
      "INFO:gym-duckietown:Pos: [3.43910059 0.         3.07179515] angle 7.305806390502101\n"
     ]
    },
    {
     "name": "stdout",
     "output_type": "stream",
     "text": [
      "\n",
      "[0.7772623 2.3388472]"
     ]
    },
    {
     "name": "stderr",
     "output_type": "stream",
     "text": [
      "INFO:gym-duckietown:Pos: [3.45627666 0.         3.04068817] angle 7.393154523632892\n",
      "DEBUG:gym-duckietown:[3.44560412 0.         3.06218461] corresponds to tile at (5, 5) which is not drivable: {'coords': (5, 5), 'kind': 'floor', 'angle': 0, 'drivable': False, 'texture': <gym_duckietown.graphics.Texture object at 0x00000272959456A0>, 'color': array([1, 1, 1])}\n",
      "DEBUG:gym-duckietown:Invalid pose. Collision free: True On drivable area: False\n",
      "DEBUG:gym-duckietown:safety_factor: 1.0\n",
      "DEBUG:gym-duckietown:pos: [3.44560412 0.         3.06218461]\n",
      "DEBUG:gym-duckietown:l_pos: [3.37842775 0.         3.02883293]\n",
      "DEBUG:gym-duckietown:r_pos: [3.5127805  0.         3.09553629]\n",
      "DEBUG:gym-duckietown:f_pos: [3.48562614 0.         2.98157296]\n",
      "INFO:gym-duckietown:Stopping the simulator because we are at an invalid pose.\n",
      "INFO:gym-duckietown:Pos: [3.45627666 0.         3.04068817] angle 7.393154523632892\n"
     ]
    },
    {
     "name": "stdout",
     "output_type": "stream",
     "text": [
      "\n",
      "[0.78140974 1.7218103 ]"
     ]
    },
    {
     "name": "stderr",
     "output_type": "stream",
     "text": [
      "INFO:gym-duckietown:Pos: [3.47073381 0.         3.00813695] angle 7.478876190149713\n",
      "DEBUG:gym-duckietown:[3.46194091 0.         3.03046821] corresponds to tile at (5, 5) which is not drivable: {'coords': (5, 5), 'kind': 'floor', 'angle': 0, 'drivable': False, 'texture': <gym_duckietown.graphics.Texture object at 0x00000272959456A0>, 'color': array([1, 1, 1])}\n",
      "DEBUG:gym-duckietown:Invalid pose. Collision free: True On drivable area: False\n",
      "DEBUG:gym-duckietown:safety_factor: 1.0\n",
      "DEBUG:gym-duckietown:pos: [3.46194091 0.         3.03046821]\n",
      "DEBUG:gym-duckietown:l_pos: [3.39215574 0.         3.00299041]\n",
      "DEBUG:gym-duckietown:r_pos: [3.53172609 0.         3.057946  ]\n",
      "DEBUG:gym-duckietown:f_pos: [3.49491427 0.         2.946726  ]\n",
      "INFO:gym-duckietown:Stopping the simulator because we are at an invalid pose.\n",
      "INFO:gym-duckietown:Pos: [3.47073381 0.         3.00813695] angle 7.478876190149713\n"
     ]
    },
    {
     "name": "stdout",
     "output_type": "stream",
     "text": [
      "\n",
      "[0.7783746 2.4576828]"
     ]
    },
    {
     "name": "stderr",
     "output_type": "stream",
     "text": [
      "INFO:gym-duckietown:Pos: [3.48231105 0.         2.97451823] angle 7.565788118569687\n",
      "DEBUG:gym-duckietown:[3.47548975 0.         2.99752845] corresponds to tile at (5, 5) which is not drivable: {'coords': (5, 5), 'kind': 'floor', 'angle': 0, 'drivable': False, 'texture': <gym_duckietown.graphics.Texture object at 0x00000272959456A0>, 'color': array([1, 1, 1])}\n",
      "DEBUG:gym-duckietown:Invalid pose. Collision free: True On drivable area: False\n",
      "DEBUG:gym-duckietown:safety_factor: 1.0\n",
      "DEBUG:gym-duckietown:pos: [3.47548975 0.         2.99752845]\n",
      "DEBUG:gym-duckietown:l_pos: [3.40358284 0.         2.97621189]\n",
      "DEBUG:gym-duckietown:r_pos: [3.54739667 0.         3.018845  ]\n",
      "DEBUG:gym-duckietown:f_pos: [3.50106962 0.         2.91124015]\n",
      "INFO:gym-duckietown:Stopping the simulator because we are at an invalid pose.\n",
      "INFO:gym-duckietown:Pos: [3.48231105 0.         2.97451823] angle 7.565788118569687\n"
     ]
    },
    {
     "name": "stdout",
     "output_type": "stream",
     "text": [
      "\n"
     ]
    },
    {
     "name": "stderr",
     "output_type": "stream",
     "text": [
      "INFO:gym-duckietown:Pos: [3.49096131 0.         2.93996811] angle 7.651524471982639\n",
      "DEBUG:gym-duckietown:[3.48613546 0.         2.96347793] corresponds to tile at (5, 5) which is not drivable: {'coords': (5, 5), 'kind': 'floor', 'angle': 0, 'drivable': False, 'texture': <gym_duckietown.graphics.Texture object at 0x00000272959456A0>, 'color': array([1, 1, 1])}\n",
      "DEBUG:gym-duckietown:Invalid pose. Collision free: True On drivable area: False\n",
      "DEBUG:gym-duckietown:safety_factor: 1.0\n",
      "DEBUG:gym-duckietown:pos: [3.48613546 0.         2.96347793]\n",
      "DEBUG:gym-duckietown:l_pos: [3.4126673  0.         2.94839716]\n",
      "DEBUG:gym-duckietown:r_pos: [3.55960362 0.         2.97855869]\n",
      "DEBUG:gym-duckietown:f_pos: [3.50423238 0.         2.87531613]\n",
      "INFO:gym-duckietown:Stopping the simulator because we are at an invalid pose.\n",
      "INFO:gym-duckietown:Pos: [3.49096131 0.         2.93996811] angle 7.651524471982639\n"
     ]
    },
    {
     "name": "stdout",
     "output_type": "stream",
     "text": [
      "[0.7813723 1.9626288]\n",
      "[0.77897614 1.9442594 ]"
     ]
    },
    {
     "name": "stderr",
     "output_type": "stream",
     "text": [
      "INFO:gym-duckietown:Pos: [3.49659707 0.         2.90484906] angle 7.738200494568339\n",
      "DEBUG:gym-duckietown:[3.49382452 0.         2.92868837] corresponds to tile at (5, 5) which is not drivable: {'coords': (5, 5), 'kind': 'floor', 'angle': 0, 'drivable': False, 'texture': <gym_duckietown.graphics.Texture object at 0x00000272959456A0>, 'color': array([1, 1, 1])}\n",
      "DEBUG:gym-duckietown:Invalid pose. Collision free: True On drivable area: False\n",
      "DEBUG:gym-duckietown:safety_factor: 1.0\n",
      "DEBUG:gym-duckietown:pos: [3.49382452 0.         2.92868837]\n",
      "DEBUG:gym-duckietown:l_pos: [3.41932666 0.         2.92002417]\n",
      "DEBUG:gym-duckietown:r_pos: [3.56832239 0.         2.93735257]\n",
      "DEBUG:gym-duckietown:f_pos: [3.50422156 0.         2.83929094]\n",
      "INFO:gym-duckietown:Stopping the simulator because we are at an invalid pose.\n",
      "INFO:gym-duckietown:Pos: [3.49659707 0.         2.90484906] angle 7.738200494568339\n"
     ]
    },
    {
     "name": "stdout",
     "output_type": "stream",
     "text": [
      "\n",
      "[0.7749849 2.115215 ]"
     ]
    },
    {
     "name": "stderr",
     "output_type": "stream",
     "text": [
      "INFO:gym-duckietown:Pos: [3.49913799 0.         2.86945195] angle 7.8264417234386565\n",
      "INFO:gym-duckietown:Pos: [3.49913799 0.         2.86945195] angle 7.8264417234386565\n"
     ]
    },
    {
     "name": "stdout",
     "output_type": "stream",
     "text": [
      "\n",
      "[0.7803895 1.7353091]"
     ]
    },
    {
     "name": "stderr",
     "output_type": "stream",
     "text": [
      "INFO:gym-duckietown:Pos: [3.49858552 0.         2.83385945] angle 7.912563500742515\n",
      "INFO:gym-duckietown:Pos: [3.49858552 0.         2.83385945] angle 7.912563500742515\n",
      "INFO:gym-duckietown:Pos: [3.49492743 0.         2.79864273] angle 8.002404510487146\n",
      "INFO:gym-duckietown:Pos: [3.49492743 0.         2.79864273] angle 8.002404510487146"
     ]
    },
    {
     "name": "stdout",
     "output_type": "stream",
     "text": [
      "\n",
      "[0.77090544 1.9095525 ]\n"
     ]
    },
    {
     "name": "stderr",
     "output_type": "stream",
     "text": [
      "\n",
      "INFO:gym-duckietown:Pos: [3.48808441 0.         2.76418739] angle 8.097667556084845\n",
      "INFO:gym-duckietown:Pos: [3.48808441 0.         2.76418739] angle 8.097667556084845\n",
      "INFO:gym-duckietown:Pos: [3.4779772  0.         2.73106152] angle 8.202581548125142\n",
      "INFO:gym-duckietown:Pos: [3.4779772  0.         2.73106152] angle 8.202581548125142"
     ]
    },
    {
     "name": "stdout",
     "output_type": "stream",
     "text": [
      "[0.75707924 1.710397  ]\n",
      "[0.7324693 2.0273812]\n"
     ]
    },
    {
     "name": "stderr",
     "output_type": "stream",
     "text": [
      "\n",
      "INFO:gym-duckietown:Pos: [3.46453238 0.         2.70008233] angle 8.32431189988486\n",
      "INFO:gym-duckietown:Pos: [3.46453238 0.         2.70008233] angle 8.32431189988486\n"
     ]
    },
    {
     "name": "stdout",
     "output_type": "stream",
     "text": [
      "[0.6895876 1.7124114]\n",
      "[0.6684191 1.5349054]"
     ]
    },
    {
     "name": "stderr",
     "output_type": "stream",
     "text": [
      "INFO:gym-duckietown:Pos: [3.44752186 0.         2.67140266] angle 8.454343620370423\n",
      "INFO:gym-duckietown:Pos: [3.44752186 0.         2.67140266] angle 8.454343620370423\n"
     ]
    },
    {
     "name": "stdout",
     "output_type": "stream",
     "text": [
      "\n",
      "[0.6824699 1.892341 ]"
     ]
    },
    {
     "name": "stderr",
     "output_type": "stream",
     "text": [
      "INFO:gym-duckietown:Pos: [3.42683457 0.         2.64489123] angle 8.578865222583417\n",
      "INFO:gym-duckietown:Pos: [3.42683457 0.         2.64489123] angle 8.578865222583417\n",
      "INFO:gym-duckietown:Pos: [3.40283079 0.         2.62078951] angle 8.695822138314162\n"
     ]
    },
    {
     "name": "stdout",
     "output_type": "stream",
     "text": [
      "\n",
      "[0.7017599 1.746283 ]\n"
     ]
    },
    {
     "name": "stderr",
     "output_type": "stream",
     "text": [
      "INFO:gym-duckietown:Pos: [3.40283079 0.         2.62078951] angle 8.695822138314162\n",
      "INFO:gym-duckietown:Pos: [3.37610882 0.         2.5995468 ] angle 8.810421865651819\n",
      "INFO:gym-duckietown:Pos: [3.37610882 0.         2.5995468 ] angle 8.810421865651819\n",
      "INFO:gym-duckietown:Pos: [3.34692243 0.         2.58124365] angle 8.918900332321536\n",
      "INFO:gym-duckietown:Pos: [3.34692243 0.         2.58124365] angle 8.918900332321536"
     ]
    },
    {
     "name": "stdout",
     "output_type": "stream",
     "text": [
      "[0.7077707 1.510417 ]\n",
      "[0.7233799 1.076346 ]\n"
     ]
    },
    {
     "name": "stderr",
     "output_type": "stream",
     "text": [
      "\n",
      "INFO:gym-duckietown:Pos: [3.31564443 0.         2.5659299 ] angle 9.020067373813376\n",
      "INFO:gym-duckietown:Pos: [3.31564443 0.         2.5659299 ] angle 9.020067373813376\n",
      "INFO:gym-duckietown:Pos: [3.28252948 0.         2.55348424] angle 9.110488632827032\n",
      "INFO:gym-duckietown:Pos: [3.28252948 0.         2.55348424] angle 9.110488632827032"
     ]
    },
    {
     "name": "stdout",
     "output_type": "stream",
     "text": [
      "[0.74202406 1.1301792 ]\n",
      "[0.7694258 1.1982367]\n"
     ]
    },
    {
     "name": "stderr",
     "output_type": "stream",
     "text": [
      "\n",
      "INFO:gym-duckietown:Pos: [3.24802269 0.         2.5438003 ] angle 9.191865627184422\n",
      "INFO:gym-duckietown:Pos: [3.24802269 0.         2.5438003 ] angle 9.191865627184422\n"
     ]
    },
    {
     "name": "stdout",
     "output_type": "stream",
     "text": [
      "[0.7924887 1.4365289]\n",
      "[0.81354874 1.9187808 ]\n"
     ]
    },
    {
     "name": "stderr",
     "output_type": "stream",
     "text": [
      "INFO:gym-duckietown:Pos: [3.2124566  0.         2.53672563] angle 9.264983774691634\n",
      "INFO:gym-duckietown:Pos: [3.2124566  0.         2.53672563] angle 9.264983774691634\n",
      "DEBUG:gym-duckietown:[3.18711159 0.         1.2525156 ] corresponds to tile at (5, 2) which is not drivable: {'coords': (5, 2), 'kind': 'floor', 'angle': 0, 'drivable': False, 'texture': <gym_duckietown.graphics.Texture object at 0x00000272959456A0>, 'color': array([1, 1, 1])}\n",
      "DEBUG:gym-duckietown:Invalid pose. Collision free: True On drivable area: False\n",
      "DEBUG:gym-duckietown:safety_factor: 1.3\n",
      "DEBUG:gym-duckietown:pos: [3.15771193 0.         1.13926959]\n",
      "DEBUG:gym-duckietown:l_pos: [3.25208361 0.         1.11476987]\n",
      "DEBUG:gym-duckietown:r_pos: [3.06334025 0.         1.1637693 ]\n",
      "DEBUG:gym-duckietown:f_pos: [3.18711159 0.         1.2525156 ]\n",
      "DEBUG:gym-duckietown:[3.41116269 0.         1.23946167] corresponds to tile at (5, 2) which is not drivable: {'coords': (5, 2), 'kind': 'floor', 'angle': 0, 'drivable': False, 'texture': <gym_duckietown.graphics.Texture object at 0x00000272959456A0>, 'color': array([1, 1, 1])}\n",
      "DEBUG:gym-duckietown:Invalid pose. Collision free: True On drivable area: False\n",
      "DEBUG:gym-duckietown:safety_factor: 1.3\n",
      "DEBUG:gym-duckietown:pos: [3.35729556 0.         1.15819308]\n",
      "DEBUG:gym-duckietown:l_pos: [3.30342844 0.         1.0769245 ]\n",
      "DEBUG:gym-duckietown:r_pos: [3.41116269 0.         1.23946167]\n",
      "DEBUG:gym-duckietown:f_pos: [3.45481786 0.         1.09355253]\n",
      "DEBUG:gym-duckietown:[2.98509747 0.         1.19273652] corresponds to tile at (5, 2) which is not drivable: {'coords': (5, 2), 'kind': 'floor', 'angle': 0, 'drivable': False, 'texture': <gym_duckietown.graphics.Texture object at 0x00000272959456A0>, 'color': array([1, 1, 1])}\n",
      "DEBUG:gym-duckietown:Invalid pose. Collision free: True On drivable area: False\n",
      "DEBUG:gym-duckietown:safety_factor: 1.3\n",
      "DEBUG:gym-duckietown:pos: [3.05094654 0.         1.12083277]\n",
      "DEBUG:gym-duckietown:l_pos: [3.11679562 0.         1.04892902]\n",
      "DEBUG:gym-duckietown:r_pos: [2.98509747 0.         1.19273652]\n",
      "DEBUG:gym-duckietown:f_pos: [3.13723104 0.         1.19985166]\n",
      "DEBUG:gym-duckietown:[3.40519482 0.         1.20966763] corresponds to tile at (5, 2) which is not drivable: {'coords': (5, 2), 'kind': 'floor', 'angle': 0, 'drivable': False, 'texture': <gym_duckietown.graphics.Texture object at 0x00000272959456A0>, 'color': array([1, 1, 1])}\n",
      "DEBUG:gym-duckietown:Invalid pose. Collision free: True On drivable area: False\n",
      "DEBUG:gym-duckietown:safety_factor: 1.3\n",
      "DEBUG:gym-duckietown:pos: [3.37939712 0.         1.11564249]\n",
      "DEBUG:gym-duckietown:l_pos: [3.40519482 0.         1.20966763]\n",
      "DEBUG:gym-duckietown:r_pos: [3.35359941 0.         1.02161734]\n",
      "DEBUG:gym-duckietown:f_pos: [3.26656694 0.         1.14659973]\n",
      "DEBUG:gym-duckietown:[3.28669595 0.         1.2239658 ] corresponds to tile at (5, 2) which is not drivable: {'coords': (5, 2), 'kind': 'floor', 'angle': 0, 'drivable': False, 'texture': <gym_duckietown.graphics.Texture object at 0x00000272959456A0>, 'color': array([1, 1, 1])}\n",
      "DEBUG:gym-duckietown:Invalid pose. Collision free: True On drivable area: False\n",
      "DEBUG:gym-duckietown:safety_factor: 1.3\n",
      "DEBUG:gym-duckietown:pos: [3.31772931 0.         1.13153647]\n",
      "DEBUG:gym-duckietown:l_pos: [3.28669595 0.         1.2239658 ]\n",
      "DEBUG:gym-duckietown:r_pos: [3.34876267 0.         1.03910715]\n",
      "DEBUG:gym-duckietown:f_pos: [3.20681412 0.         1.09429644]\n",
      "DEBUG:gym-duckietown:[3.32870397 0.         0.56173371] corresponds to tile at (5, 0) which is not drivable: {'coords': (5, 0), 'kind': 'floor', 'angle': 0, 'drivable': False, 'texture': <gym_duckietown.graphics.Texture object at 0x00000272959456A0>, 'color': array([1, 1, 1])}\n",
      "DEBUG:gym-duckietown:Invalid pose. Collision free: True On drivable area: False\n",
      "DEBUG:gym-duckietown:safety_factor: 1.3\n",
      "DEBUG:gym-duckietown:pos: [3.34768548 0.         0.65736818]\n",
      "DEBUG:gym-duckietown:l_pos: [3.36666698 0.         0.75300265]\n",
      "DEBUG:gym-duckietown:r_pos: [3.32870397 0.         0.56173371]\n",
      "DEBUG:gym-duckietown:f_pos: [3.23292411 0.         0.68014598]\n",
      "DEBUG:gym-duckietown:[3.30655235 0.         1.18763146] corresponds to tile at (5, 2) which is not drivable: {'coords': (5, 2), 'kind': 'floor', 'angle': 0, 'drivable': False, 'texture': <gym_duckietown.graphics.Texture object at 0x00000272959456A0>, 'color': array([1, 1, 1])}\n",
      "DEBUG:gym-duckietown:Invalid pose. Collision free: True On drivable area: False\n",
      "DEBUG:gym-duckietown:safety_factor: 1.3\n",
      "DEBUG:gym-duckietown:pos: [3.22934714 0.         1.12808647]\n",
      "DEBUG:gym-duckietown:l_pos: [3.30655235 0.         1.18763146]\n",
      "DEBUG:gym-duckietown:r_pos: [3.15214192 0.         1.06854149]\n",
      "DEBUG:gym-duckietown:f_pos: [3.15789316 0.         1.22073273]\n",
      "DEBUG:gym-duckietown:[3.43806951 0.         0.50424435] corresponds to tile at (5, 0) which is not drivable: {'coords': (5, 0), 'kind': 'floor', 'angle': 0, 'drivable': False, 'texture': <gym_duckietown.graphics.Texture object at 0x00000272959456A0>, 'color': array([1, 1, 1])}\n",
      "DEBUG:gym-duckietown:Invalid pose. Collision free: True On drivable area: False\n",
      "DEBUG:gym-duckietown:safety_factor: 1.3\n",
      "DEBUG:gym-duckietown:pos: [3.46047635 0.         0.59913473]\n",
      "DEBUG:gym-duckietown:l_pos: [3.43806951 0.         0.50424435]\n",
      "DEBUG:gym-duckietown:r_pos: [3.48288319 0.         0.6940251 ]\n",
      "DEBUG:gym-duckietown:f_pos: [3.5743448  0.         0.57224652]\n",
      "DEBUG:gym-duckietown:[3.07292186 0.         0.58314652] corresponds to tile at (5, 0) which is not drivable: {'coords': (5, 0), 'kind': 'floor', 'angle': 0, 'drivable': False, 'texture': <gym_duckietown.graphics.Texture object at 0x00000272959456A0>, 'color': array([1, 1, 1])}\n",
      "DEBUG:gym-duckietown:Invalid pose. Collision free: True On drivable area: False\n",
      "DEBUG:gym-duckietown:safety_factor: 1.3\n",
      "DEBUG:gym-duckietown:pos: [3.07292186 0.         0.58314652]\n",
      "DEBUG:gym-duckietown:l_pos: [3.09477079 0.         0.48812613]\n",
      "DEBUG:gym-duckietown:r_pos: [3.05107293 0.         0.67816691]\n",
      "DEBUG:gym-duckietown:f_pos: [3.18694633 0.         0.60936523]\n",
      "DEBUG:gym-duckietown:[3.13790972 0.         1.18451757] corresponds to tile at (5, 2) which is not drivable: {'coords': (5, 2), 'kind': 'floor', 'angle': 0, 'drivable': False, 'texture': <gym_duckietown.graphics.Texture object at 0x00000272959456A0>, 'color': array([1, 1, 1])}\n",
      "DEBUG:gym-duckietown:Invalid pose. Collision free: True On drivable area: False\n",
      "DEBUG:gym-duckietown:safety_factor: 1.3\n",
      "DEBUG:gym-duckietown:pos: [3.2163532  0.         1.12661359]\n",
      "DEBUG:gym-duckietown:l_pos: [3.13790972 0.         1.18451757]\n",
      "DEBUG:gym-duckietown:r_pos: [3.29479668 0.         1.06870962]\n",
      "DEBUG:gym-duckietown:f_pos: [3.14686844 0.         1.03248141]\n",
      "INFO:gym-duckietown:Starting at [3.42800181 0.         0.96675439] 0.03283258105572982\n",
      "INFO:gym-duckietown:Pos: [3.42800181 0.         0.96675439] angle 0.03283258105572982\n",
      "DEBUG:gym-duckietown:[3.4676157 0.        2.292189 ] corresponds to tile at (5, 3) which is not drivable: {'coords': (5, 3), 'kind': 'floor', 'angle': 0, 'drivable': False, 'texture': <gym_duckietown.graphics.Texture object at 0x00000272959456A0>, 'color': array([1, 1, 1])}\n",
      "DEBUG:gym-duckietown:Invalid pose. Collision free: True On drivable area: False\n",
      "DEBUG:gym-duckietown:safety_factor: 1.3\n",
      "DEBUG:gym-duckietown:pos: [3.56257382 0.         2.27007103]\n",
      "DEBUG:gym-duckietown:l_pos: [3.4676157 0.        2.292189 ]\n",
      "DEBUG:gym-duckietown:r_pos: [3.65753195 0.         2.24795305]\n",
      "DEBUG:gym-duckietown:f_pos: [3.53603226 0.         2.15612128]\n",
      "DEBUG:gym-duckietown:[3.46048146 0.         1.76935342] corresponds to tile at (5, 3) which is not drivable: {'coords': (5, 3), 'kind': 'floor', 'angle': 0, 'drivable': False, 'texture': <gym_duckietown.graphics.Texture object at 0x00000272959456A0>, 'color': array([1, 1, 1])}\n",
      "DEBUG:gym-duckietown:Invalid pose. Collision free: True On drivable area: False\n",
      "DEBUG:gym-duckietown:safety_factor: 1.3\n",
      "DEBUG:gym-duckietown:pos: [3.55724035 0.         1.78135208]\n",
      "DEBUG:gym-duckietown:l_pos: [3.46048146 0.         1.76935342]\n",
      "DEBUG:gym-duckietown:r_pos: [3.65399924 0.         1.79335074]\n",
      "DEBUG:gym-duckietown:f_pos: [3.57163874 0.         1.66524142]\n",
      "DEBUG:gym-duckietown:[3.49681812 0.         1.96007661] corresponds to tile at (5, 3) which is not drivable: {'coords': (5, 3), 'kind': 'floor', 'angle': 0, 'drivable': False, 'texture': <gym_duckietown.graphics.Texture object at 0x00000272959456A0>, 'color': array([1, 1, 1])}\n"
     ]
    },
    {
     "name": "stderr",
     "output_type": "stream",
     "text": [
      "DEBUG:gym-duckietown:Invalid pose. Collision free: True On drivable area: False\n",
      "DEBUG:gym-duckietown:safety_factor: 1.3\n",
      "DEBUG:gym-duckietown:pos: [3.61244082 0.         1.97797609]\n",
      "DEBUG:gym-duckietown:l_pos: [3.59752459 0.         2.07432834]\n",
      "DEBUG:gym-duckietown:r_pos: [3.62735705 0.         1.88162384]\n",
      "DEBUG:gym-duckietown:f_pos: [3.49681812 0.         1.96007661]\n",
      "DEBUG:gym-duckietown:[4.13745281 0.         1.92328956] corresponds to tile at (7, 3) which is not drivable: {'coords': (7, 3), 'kind': 'floor', 'angle': 0, 'drivable': False, 'texture': <gym_duckietown.graphics.Texture object at 0x00000272959456A0>, 'color': array([1, 1, 1])}\n",
      "DEBUG:gym-duckietown:Invalid pose. Collision free: True On drivable area: False\n",
      "DEBUG:gym-duckietown:safety_factor: 1.3\n",
      "DEBUG:gym-duckietown:pos: [4.02489068 0.         1.95520771]\n",
      "DEBUG:gym-duckietown:l_pos: [3.99829223 0.         1.86140594]\n",
      "DEBUG:gym-duckietown:r_pos: [4.05148914 0.         2.04900948]\n",
      "DEBUG:gym-duckietown:f_pos: [4.13745281 0.         1.92328956]\n",
      "DEBUG:gym-duckietown:[4.17586612 0.         2.19740593] corresponds to tile at (7, 3) which is not drivable: {'coords': (7, 3), 'kind': 'floor', 'angle': 0, 'drivable': False, 'texture': <gym_duckietown.graphics.Texture object at 0x00000272959456A0>, 'color': array([1, 1, 1])}\n",
      "DEBUG:gym-duckietown:Invalid pose. Collision free: True On drivable area: False\n",
      "DEBUG:gym-duckietown:safety_factor: 1.3\n",
      "DEBUG:gym-duckietown:pos: [4.08214811 0.         2.22429802]\n",
      "DEBUG:gym-duckietown:l_pos: [3.98843009 0.         2.2511901 ]\n",
      "DEBUG:gym-duckietown:r_pos: [4.17586612 0.         2.19740593]\n",
      "DEBUG:gym-duckietown:f_pos: [4.04987761 0.         2.1118364 ]\n",
      "DEBUG:gym-duckietown:[3.49443435 0.         2.1237678 ] corresponds to tile at (5, 3) which is not drivable: {'coords': (5, 3), 'kind': 'floor', 'angle': 0, 'drivable': False, 'texture': <gym_duckietown.graphics.Texture object at 0x00000272959456A0>, 'color': array([1, 1, 1])}\n",
      "DEBUG:gym-duckietown:Invalid pose. Collision free: True On drivable area: False\n",
      "DEBUG:gym-duckietown:safety_factor: 1.3\n",
      "DEBUG:gym-duckietown:pos: [3.59161455 0.         2.13165825]\n",
      "DEBUG:gym-duckietown:l_pos: [3.49443435 0.         2.1237678 ]\n",
      "DEBUG:gym-duckietown:r_pos: [3.68879475 0.         2.1395487 ]\n",
      "DEBUG:gym-duckietown:f_pos: [3.60108309 0.         2.01504201]\n",
      "DEBUG:gym-duckietown:[3.50618012 0.         1.81369074] corresponds to tile at (5, 3) which is not drivable: {'coords': (5, 3), 'kind': 'floor', 'angle': 0, 'drivable': False, 'texture': <gym_duckietown.graphics.Texture object at 0x00000272959456A0>, 'color': array([1, 1, 1])}\n",
      "DEBUG:gym-duckietown:Invalid pose. Collision free: True On drivable area: False\n",
      "DEBUG:gym-duckietown:safety_factor: 1.3\n",
      "DEBUG:gym-duckietown:pos: [3.50618012 0.         1.81369074]\n",
      "DEBUG:gym-duckietown:l_pos: [3.56298004 0.         1.73444416]\n",
      "DEBUG:gym-duckietown:r_pos: [3.44938021 0.         1.89293731]\n",
      "DEBUG:gym-duckietown:f_pos: [3.60127601 0.         1.88185064]\n",
      "DEBUG:gym-duckietown:[4.11818143 0.         1.90573522] corresponds to tile at (7, 3) which is not drivable: {'coords': (7, 3), 'kind': 'floor', 'angle': 0, 'drivable': False, 'texture': <gym_duckietown.graphics.Texture object at 0x00000272959456A0>, 'color': array([1, 1, 1])}\n",
      "DEBUG:gym-duckietown:Invalid pose. Collision free: True On drivable area: False\n",
      "DEBUG:gym-duckietown:safety_factor: 1.3\n",
      "DEBUG:gym-duckietown:pos: [4.00166764 0.         1.91639062]\n",
      "DEBUG:gym-duckietown:l_pos: [3.99278815 0.         1.81929579]\n",
      "DEBUG:gym-duckietown:r_pos: [4.01054714 0.         2.01348544]\n",
      "DEBUG:gym-duckietown:f_pos: [4.11818143 0.         1.90573522]\n",
      "DEBUG:gym-duckietown:[3.48159737 0.         2.22300145] corresponds to tile at (5, 3) which is not drivable: {'coords': (5, 3), 'kind': 'floor', 'angle': 0, 'drivable': False, 'texture': <gym_duckietown.graphics.Texture object at 0x00000272959456A0>, 'color': array([1, 1, 1])}\n",
      "DEBUG:gym-duckietown:Invalid pose. Collision free: True On drivable area: False\n",
      "DEBUG:gym-duckietown:safety_factor: 1.3\n",
      "DEBUG:gym-duckietown:pos: [3.57086733 0.         2.26220764]\n",
      "DEBUG:gym-duckietown:l_pos: [3.66013728 0.         2.30141383]\n",
      "DEBUG:gym-duckietown:r_pos: [3.48159737 0.         2.22300145]\n",
      "DEBUG:gym-duckietown:f_pos: [3.5238199  0.         2.36933159]\n",
      "DEBUG:gym-duckietown:[4.1306978  0.         2.09454909] corresponds to tile at (7, 3) which is not drivable: {'coords': (7, 3), 'kind': 'floor', 'angle': 0, 'drivable': False, 'texture': <gym_duckietown.graphics.Texture object at 0x00000272959456A0>, 'color': array([1, 1, 1])}\n",
      "DEBUG:gym-duckietown:Invalid pose. Collision free: True On drivable area: False\n",
      "DEBUG:gym-duckietown:safety_factor: 1.3\n",
      "DEBUG:gym-duckietown:pos: [4.01598834 0.         2.11758689]\n",
      "DEBUG:gym-duckietown:l_pos: [3.99679017 0.         2.02199568]\n",
      "DEBUG:gym-duckietown:r_pos: [4.03518651 0.         2.21317811]\n",
      "DEBUG:gym-duckietown:f_pos: [4.1306978  0.         2.09454909]\n",
      "INFO:gym-duckietown:Starting at [3.78554996 0.         2.10374274] 4.702071320710585\n",
      "INFO:gym-duckietown:Pos: [3.78554996 0.         2.10374274] angle 4.702071320710585\n"
     ]
    },
    {
     "name": "stdout",
     "output_type": "stream",
     "text": [
      "Starting episode 1\n"
     ]
    },
    {
     "name": "stderr",
     "output_type": "stream",
     "text": [
      "INFO:gym-duckietown:Pos: [3.78667378 0.         2.13945337] angle 4.78562606621019\n",
      "INFO:gym-duckietown:Pos: [3.78667378 0.         2.13945337] angle 4.78562606621019\n"
     ]
    },
    {
     "name": "stdout",
     "output_type": "stream",
     "text": [
      "[0.7869354 1.4689577]\n",
      "[0.79586536 1.9885993 ]"
     ]
    },
    {
     "name": "stderr",
     "output_type": "stream",
     "text": [
      "INFO:gym-duckietown:Pos: [3.79073212 0.         2.17513102] angle 4.865678863521461\n",
      "INFO:gym-duckietown:Pos: [3.79073212 0.         2.17513102] angle 4.865678863521461\n",
      "INFO:gym-duckietown:Pos: [3.79424145 0.         2.20338834] angle 4.806217269893532\n"
     ]
    },
    {
     "name": "stdout",
     "output_type": "stream",
     "text": [
      "\n",
      "[0.78777844 0.6361514 ]\n"
     ]
    },
    {
     "name": "stderr",
     "output_type": "stream",
     "text": [
      "INFO:gym-duckietown:Pos: [3.79424145 0.         2.20338834] angle 4.806217269893532\n",
      "INFO:gym-duckietown:Pos: [3.79903016 0.         2.23899118] angle 4.885962986412357\n",
      "INFO:gym-duckietown:Pos: [3.79903016 0.         2.23899118] angle 4.885962986412357\n"
     ]
    },
    {
     "name": "stdout",
     "output_type": "stream",
     "text": [
      "[0.79664844 1.1834664 ]\n",
      "[0.7956366 1.8508167]"
     ]
    },
    {
     "name": "stderr",
     "output_type": "stream",
     "text": [
      "INFO:gym-duckietown:Pos: [3.80664247 0.         2.27407803] angle 4.966105502349065\n",
      "INFO:gym-duckietown:Pos: [3.80664247 0.         2.27407803] angle 4.966105502349065\n",
      "INFO:gym-duckietown:Pos: [3.81704266 0.         2.30836366] angle 5.047708215210918\n",
      "INFO:gym-duckietown:Pos: [3.81704266 0.         2.30836366] angle 5.047708215210918"
     ]
    },
    {
     "name": "stdout",
     "output_type": "stream",
     "text": [
      "\n",
      "[0.7919131 1.6538846]\n"
     ]
    },
    {
     "name": "stderr",
     "output_type": "stream",
     "text": [
      "\n",
      "INFO:gym-duckietown:Pos: [3.830204   0.         2.34171427] angle 5.128816599093977\n",
      "INFO:gym-duckietown:Pos: [3.830204   0.         2.34171427] angle 5.128816599093977\n",
      "INFO:gym-duckietown:Pos: [3.84600316 0.         2.37371776] angle 5.213102553338753\n",
      "INFO:gym-duckietown:Pos: [3.84600316 0.         2.37371776] angle 5.213102553338753"
     ]
    },
    {
     "name": "stdout",
     "output_type": "stream",
     "text": [
      "[0.7931736 1.8843373]\n",
      "[0.78507084 1.2495301 ]\n"
     ]
    },
    {
     "name": "stderr",
     "output_type": "stream",
     "text": [
      "\n",
      "INFO:gym-duckietown:Pos: [3.86442611 0.         2.40420958] angle 5.298669403608295\n",
      "INFO:gym-duckietown:Pos: [3.86442611 0.         2.40420958] angle 5.298669403608295\n"
     ]
    },
    {
     "name": "stdout",
     "output_type": "stream",
     "text": [
      "[0.78180456 1.5590701 ]\n",
      "[0.7913334 1.5471773]"
     ]
    },
    {
     "name": "stderr",
     "output_type": "stream",
     "text": [
      "INFO:gym-duckietown:Pos: [3.88544606 0.         2.43320951] angle 5.380499451701904\n",
      "INFO:gym-duckietown:Pos: [3.88544606 0.         2.43320951] angle 5.380499451701904\n"
     ]
    },
    {
     "name": "stdout",
     "output_type": "stream",
     "text": [
      "\n",
      "[0.797209  1.6429657]"
     ]
    },
    {
     "name": "stderr",
     "output_type": "stream",
     "text": [
      "INFO:gym-duckietown:Pos: [3.90881152 0.         2.46051077] angle 5.460025332266176\n",
      "INFO:gym-duckietown:Pos: [3.90881152 0.         2.46051077] angle 5.460025332266176\n",
      "INFO:gym-duckietown:Pos: [3.9342235  0.         2.48576944] angle 5.541600580242691\n"
     ]
    },
    {
     "name": "stdout",
     "output_type": "stream",
     "text": [
      "\n",
      "[0.7919831 1.403048 ]\n"
     ]
    },
    {
     "name": "stderr",
     "output_type": "stream",
     "text": [
      "INFO:gym-duckietown:Pos: [3.9342235  0.         2.48576944] angle 5.541600580242691\n",
      "INFO:gym-duckietown:Pos: [3.96150284 0.         2.50869417] angle 5.627017055395349\n",
      "INFO:gym-duckietown:Pos: [3.96150284 0.         2.50869417] angle 5.627017055395349\n"
     ]
    },
    {
     "name": "stdout",
     "output_type": "stream",
     "text": [
      "[0.782188  1.5141869]\n",
      "[0.7593482 0.9038816]"
     ]
    },
    {
     "name": "stderr",
     "output_type": "stream",
     "text": [
      "INFO:gym-duckietown:Pos: [3.98842045 0.         2.5282308 ] angle 5.683696845711413\n",
      "INFO:gym-duckietown:Pos: [3.98842045 0.         2.5282308 ] angle 5.683696845711413\n"
     ]
    },
    {
     "name": "stdout",
     "output_type": "stream",
     "text": [
      "\n",
      "[0.7422629 0.9924355]"
     ]
    },
    {
     "name": "stderr",
     "output_type": "stream",
     "text": [
      "INFO:gym-duckietown:Pos: [4.01797816 0.         2.54637048] angle 5.781803734096014\n",
      "INFO:gym-duckietown:Pos: [4.01797816 0.         2.54637048] angle 5.781803734096014\n",
      "INFO:gym-duckietown:Pos: [4.04919816 0.         2.56141912] angle 5.886247433801849\n"
     ]
    },
    {
     "name": "stdout",
     "output_type": "stream",
     "text": [
      "\n",
      "[0.73366857 1.1046922 ]\n"
     ]
    },
    {
     "name": "stderr",
     "output_type": "stream",
     "text": [
      "DEBUG:gym-duckietown:[4.1100666  0.         2.58693446] corresponds to tile at (7, 4) which is not drivable: {'coords': (7, 4), 'kind': 'floor', 'angle': 0, 'drivable': False, 'texture': <gym_duckietown.graphics.Texture object at 0x00000272959456A0>, 'color': array([1, 1, 1])}\n",
      "DEBUG:gym-duckietown:Invalid pose. Collision free: True On drivable area: False\n",
      "DEBUG:gym-duckietown:safety_factor: 1.0\n",
      "DEBUG:gym-duckietown:pos: [4.02706418 0.         2.55214081]\n",
      "DEBUG:gym-duckietown:l_pos: [4.05605889 0.         2.48297213]\n",
      "DEBUG:gym-duckietown:r_pos: [3.99806947 0.         2.6213095 ]\n",
      "DEBUG:gym-duckietown:f_pos: [4.1100666  0.         2.58693446]\n",
      "INFO:gym-duckietown:Stopping the simulator because we are at an invalid pose.\n",
      "INFO:gym-duckietown:Pos: [4.04919816 0.         2.56141912] angle 5.886247433801849\n",
      "INFO:gym-duckietown:Pos: [4.07892063 0.         2.57285691] angle 5.945419691680271\n",
      "DEBUG:gym-duckietown:[4.14119146 0.         2.59472797] corresponds to tile at (7, 4) which is not drivable: {'coords': (7, 4), 'kind': 'floor', 'angle': 0, 'drivable': False, 'texture': <gym_duckietown.graphics.Texture object at 0x00000272959456A0>, 'color': array([1, 1, 1])}\n",
      "DEBUG:gym-duckietown:Invalid pose. Collision free: True On drivable area: False\n",
      "DEBUG:gym-duckietown:safety_factor: 1.0\n",
      "DEBUG:gym-duckietown:pos: [4.05627669 0.         2.56490379]\n",
      "DEBUG:gym-duckietown:l_pos: [4.08113017 0.         2.49414148]\n",
      "DEBUG:gym-duckietown:r_pos: [4.0314232 0.        2.6356661]\n",
      "DEBUG:gym-duckietown:f_pos: [4.14119146 0.         2.59472797]\n",
      "INFO:gym-duckietown:Stopping the simulator because we are at an invalid pose.\n",
      "INFO:gym-duckietown:Pos: [4.07892063 0.         2.57285691] angle 5.945419691680271\n"
     ]
    },
    {
     "name": "stdout",
     "output_type": "stream",
     "text": [
      "[0.720853   0.87174225]\n"
     ]
    },
    {
     "name": "stderr",
     "output_type": "stream",
     "text": [
      "INFO:gym-duckietown:Pos: [4.10442856 0.         2.58223148] angle 5.916564635135736\n",
      "DEBUG:gym-duckietown:[4.10890821 0.         2.50361257] corresponds to tile at (7, 4) which is not drivable: {'coords': (7, 4), 'kind': 'floor', 'angle': 0, 'drivable': False, 'texture': <gym_duckietown.graphics.Texture object at 0x00000272959456A0>, 'color': array([1, 1, 1])}\n",
      "DEBUG:gym-duckietown:Invalid pose. Collision free: True On drivable area: False\n",
      "DEBUG:gym-duckietown:safety_factor: 1.0\n",
      "DEBUG:gym-duckietown:pos: [4.08202351 0.         2.57362837]\n",
      "DEBUG:gym-duckietown:l_pos: [4.10890821 0.         2.50361257]\n",
      "DEBUG:gym-duckietown:r_pos: [4.0551388  0.         2.64364418]\n",
      "DEBUG:gym-duckietown:f_pos: [4.16604247 0.         2.60589002]\n",
      "INFO:gym-duckietown:Stopping the simulator because we are at an invalid pose.\n",
      "INFO:gym-duckietown:Pos: [4.10442856 0.         2.58223148] angle 5.916564635135736\n"
     ]
    },
    {
     "name": "stdout",
     "output_type": "stream",
     "text": [
      "[0.7162149 0.6426345]\n",
      "[0.7152093 0.8556682]"
     ]
    },
    {
     "name": "stderr",
     "output_type": "stream",
     "text": [
      "INFO:gym-duckietown:Pos: [4.13405349 0.         2.59268024] angle 5.971646534005768\n",
      "DEBUG:gym-duckietown:[4.11120878 0.         2.58532367] corresponds to tile at (7, 4) which is not drivable: {'coords': (7, 4), 'kind': 'floor', 'angle': 0, 'drivable': False, 'texture': <gym_duckietown.graphics.Texture object at 0x00000272959456A0>, 'color': array([1, 1, 1])}\n",
      "DEBUG:gym-duckietown:Invalid pose. Collision free: True On drivable area: False\n",
      "DEBUG:gym-duckietown:safety_factor: 1.0\n",
      "DEBUG:gym-duckietown:pos: [4.11120878 0.         2.58532367]\n",
      "DEBUG:gym-duckietown:l_pos: [4.13419805 0.         2.51393395]\n",
      "DEBUG:gym-duckietown:r_pos: [4.0882195 0.        2.6567134]\n",
      "DEBUG:gym-duckietown:f_pos: [4.19687645 0.         2.61291081]\n",
      "INFO:gym-duckietown:Stopping the simulator because we are at an invalid pose.\n",
      "INFO:gym-duckietown:Pos: [4.13405349 0.         2.59268024] angle 5.971646534005768\n"
     ]
    },
    {
     "name": "stdout",
     "output_type": "stream",
     "text": [
      "\n",
      "[0.704867  0.6008588]"
     ]
    },
    {
     "name": "stderr",
     "output_type": "stream",
     "text": [
      "INFO:gym-duckietown:Pos: [4.15874082 0.         2.60118961] angle 5.9308589976714\n",
      "DEBUG:gym-duckietown:[4.13621508 0.         2.59290764] corresponds to tile at (7, 4) which is not drivable: {'coords': (7, 4), 'kind': 'floor', 'angle': 0, 'drivable': False, 'texture': <gym_duckietown.graphics.Texture object at 0x00000272959456A0>, 'color': array([1, 1, 1])}\n",
      "DEBUG:gym-duckietown:Invalid pose. Collision free: True On drivable area: False\n",
      "DEBUG:gym-duckietown:safety_factor: 1.0\n",
      "DEBUG:gym-duckietown:pos: [4.13621508 0.         2.59290764]\n",
      "DEBUG:gym-duckietown:l_pos: [4.16209624 0.         2.5225147 ]\n",
      "DEBUG:gym-duckietown:r_pos: [4.11033392 0.         2.66330057]\n",
      "DEBUG:gym-duckietown:f_pos: [4.2206866  0.         2.62396503]\n",
      "INFO:gym-duckietown:Stopping the simulator because we are at an invalid pose.\n",
      "INFO:gym-duckietown:Pos: [4.15874082 0.         2.60118961] angle 5.9308589976714\n"
     ]
    },
    {
     "name": "stdout",
     "output_type": "stream",
     "text": [
      "\n",
      "[0.71101207 0.7816269 ]"
     ]
    },
    {
     "name": "stderr",
     "output_type": "stream",
     "text": [
      "INFO:gym-duckietown:Pos: [4.18689886 0.         2.61110203] angle 5.9585510818903415\n",
      "DEBUG:gym-duckietown:[4.16415244 0.         2.60344693] corresponds to tile at (7, 4) which is not drivable: {'coords': (7, 4), 'kind': 'floor', 'angle': 0, 'drivable': False, 'texture': <gym_duckietown.graphics.Texture object at 0x00000272959456A0>, 'color': array([1, 1, 1])}\n",
      "DEBUG:gym-duckietown:Invalid pose. Collision free: True On drivable area: False\n",
      "DEBUG:gym-duckietown:safety_factor: 1.0\n",
      "DEBUG:gym-duckietown:pos: [4.16415244 0.         2.60344693]\n",
      "DEBUG:gym-duckietown:l_pos: [4.1880746  0.         2.53236438]\n",
      "DEBUG:gym-duckietown:r_pos: [4.14023028 0.         2.67452949]\n",
      "DEBUG:gym-duckietown:f_pos: [4.24945151 0.         2.63215353]\n",
      "INFO:gym-duckietown:Stopping the simulator because we are at an invalid pose.\n",
      "INFO:gym-duckietown:Pos: [4.18689886 0.         2.61110203] angle 5.9585510818903415\n"
     ]
    },
    {
     "name": "stdout",
     "output_type": "stream",
     "text": [
      "\n",
      "[0.7086757  0.73668355]"
     ]
    },
    {
     "name": "stderr",
     "output_type": "stream",
     "text": [
      "INFO:gym-duckietown:Pos: [4.21434624 0.         2.62017168] angle 5.969534542759227\n",
      "DEBUG:gym-duckietown:[4.19151711 0.         2.61276688] corresponds to tile at (7, 4) which is not drivable: {'coords': (7, 4), 'kind': 'floor', 'angle': 0, 'drivable': False, 'texture': <gym_duckietown.graphics.Texture object at 0x00000272959456A0>, 'color': array([1, 1, 1])}\n",
      "DEBUG:gym-duckietown:Invalid pose. Collision free: True On drivable area: False\n",
      "DEBUG:gym-duckietown:safety_factor: 1.0\n",
      "DEBUG:gym-duckietown:pos: [4.19151711 0.         2.61276688]\n",
      "DEBUG:gym-duckietown:l_pos: [4.21465711 0.         2.54142587]\n",
      "DEBUG:gym-duckietown:r_pos: [4.16837711 0.         2.6841079 ]\n",
      "DEBUG:gym-duckietown:f_pos: [4.27712633 0.         2.64053488]\n",
      "INFO:gym-duckietown:Stopping the simulator because we are at an invalid pose.\n",
      "INFO:gym-duckietown:Pos: [4.21434624 0.         2.62017168] angle 5.969534542759227\n"
     ]
    },
    {
     "name": "stdout",
     "output_type": "stream",
     "text": [
      "\n",
      "[0.7075057  0.65302765]"
     ]
    },
    {
     "name": "stderr",
     "output_type": "stream",
     "text": [
      "INFO:gym-duckietown:Pos: [4.24013775 0.         2.62884291] angle 5.948170601865792\n",
      "DEBUG:gym-duckietown:[4.21747202 0.         2.62095212] corresponds to tile at (7, 4) which is not drivable: {'coords': (7, 4), 'kind': 'floor', 'angle': 0, 'drivable': False, 'texture': <gym_duckietown.graphics.Texture object at 0x00000272959456A0>, 'color': array([1, 1, 1])}\n",
      "DEBUG:gym-duckietown:Invalid pose. Collision free: True On drivable area: False\n",
      "DEBUG:gym-duckietown:safety_factor: 1.0\n",
      "DEBUG:gym-duckietown:pos: [4.21747202 0.         2.62095212]\n",
      "DEBUG:gym-duckietown:l_pos: [4.24213075 0.         2.55012171]\n",
      "DEBUG:gym-duckietown:r_pos: [4.19281329 0.         2.69178253]\n",
      "DEBUG:gym-duckietown:f_pos: [4.30246851 0.         2.6505426 ]\n",
      "INFO:gym-duckietown:Stopping the simulator because we are at an invalid pose.\n",
      "INFO:gym-duckietown:Pos: [4.24013775 0.         2.62884291] angle 5.948170601865792\n"
     ]
    },
    {
     "name": "stdout",
     "output_type": "stream",
     "text": [
      "\n",
      "[0.7082821  0.75042695]"
     ]
    },
    {
     "name": "stderr",
     "output_type": "stream",
     "text": [
      "INFO:gym-duckietown:Pos: [4.26776801 0.         2.63820678] angle 5.964697995929904\n",
      "DEBUG:gym-duckietown:[4.24497497 0.         2.63069165] corresponds to tile at (7, 4) which is not drivable: {'coords': (7, 4), 'kind': 'floor', 'angle': 0, 'drivable': False, 'texture': <gym_duckietown.graphics.Texture object at 0x00000272959456A0>, 'color': array([1, 1, 1])}\n",
      "DEBUG:gym-duckietown:Invalid pose. Collision free: True On drivable area: False\n",
      "DEBUG:gym-duckietown:safety_factor: 1.0\n",
      "DEBUG:gym-duckietown:pos: [4.24497497 0.         2.63069165]\n",
      "DEBUG:gym-duckietown:l_pos: [4.26845974 0.         2.55946339]\n",
      "DEBUG:gym-duckietown:r_pos: [4.2214902  0.         2.70191991]\n",
      "DEBUG:gym-duckietown:f_pos: [4.33044889 0.         2.65887338]\n",
      "INFO:gym-duckietown:Stopping the simulator because we are at an invalid pose.\n",
      "INFO:gym-duckietown:Pos: [4.26776801 0.         2.63820678] angle 5.964697995929904\n"
     ]
    },
    {
     "name": "stdout",
     "output_type": "stream",
     "text": [
      "\n",
      "[0.7084712 0.817733 ]"
     ]
    },
    {
     "name": "stderr",
     "output_type": "stream",
     "text": [
      "INFO:gym-duckietown:Pos: [4.29695292 0.         2.6471409 ] angle 6.007545768758797\n",
      "DEBUG:gym-duckietown:[4.27385888 0.         2.64060901] corresponds to tile at (7, 4) which is not drivable: {'coords': (7, 4), 'kind': 'floor', 'angle': 0, 'drivable': False, 'texture': <gym_duckietown.graphics.Texture object at 0x00000272959456A0>, 'color': array([1, 1, 1])}\n",
      "DEBUG:gym-duckietown:Invalid pose. Collision free: True On drivable area: False\n",
      "DEBUG:gym-duckietown:safety_factor: 1.0\n",
      "DEBUG:gym-duckietown:pos: [4.27385888 0.         2.64060901]\n",
      "DEBUG:gym-duckietown:l_pos: [4.29427106 0.         2.56844016]\n",
      "DEBUG:gym-duckietown:r_pos: [4.2534467  0.         2.71277786]\n",
      "DEBUG:gym-duckietown:f_pos: [4.3604615  0.         2.66510362]\n",
      "INFO:gym-duckietown:Stopping the simulator because we are at an invalid pose.\n",
      "INFO:gym-duckietown:Pos: [4.29695292 0.         2.6471409 ] angle 6.007545768758797\n"
     ]
    },
    {
     "name": "stdout",
     "output_type": "stream",
     "text": [
      "\n",
      "[0.7000083 0.516277 ]"
     ]
    },
    {
     "name": "stderr",
     "output_type": "stream",
     "text": [
      "INFO:gym-duckietown:Pos: [4.32010171 0.         2.65459863] angle 5.935494291170717\n",
      "DEBUG:gym-duckietown:[4.29753782 0.         2.64642116] corresponds to tile at (7, 4) which is not drivable: {'coords': (7, 4), 'kind': 'floor', 'angle': 0, 'drivable': False, 'texture': <gym_duckietown.graphics.Texture object at 0x00000272959456A0>, 'color': array([1, 1, 1])}\n",
      "DEBUG:gym-duckietown:Invalid pose. Collision free: True On drivable area: False\n",
      "DEBUG:gym-duckietown:safety_factor: 1.0\n",
      "DEBUG:gym-duckietown:pos: [4.29753782 0.         2.64642116]\n",
      "DEBUG:gym-duckietown:l_pos: [4.32309241 0.         2.57590901]\n",
      "DEBUG:gym-duckietown:r_pos: [4.27198323 0.         2.7169333 ]\n",
      "DEBUG:gym-duckietown:f_pos: [4.3821524  0.         2.67708667]\n",
      "INFO:gym-duckietown:Stopping the simulator because we are at an invalid pose.\n",
      "INFO:gym-duckietown:Pos: [4.32010171 0.         2.65459863] angle 5.935494291170717\n",
      "INFO:gym-duckietown:Pos: [4.35037894 0.         2.66439884] angle 6.00479629999279\n"
     ]
    },
    {
     "name": "stdout",
     "output_type": "stream",
     "text": [
      "\n",
      "[0.70739454 0.8841147 ]\n"
     ]
    },
    {
     "name": "stderr",
     "output_type": "stream",
     "text": [
      "DEBUG:gym-duckietown:[4.32730296 0.         2.65780348] corresponds to tile at (7, 4) which is not drivable: {'coords': (7, 4), 'kind': 'floor', 'angle': 0, 'drivable': False, 'texture': <gym_duckietown.graphics.Texture object at 0x00000272959456A0>, 'color': array([1, 1, 1])}\n",
      "DEBUG:gym-duckietown:Invalid pose. Collision free: True On drivable area: False\n",
      "DEBUG:gym-duckietown:safety_factor: 1.0\n",
      "DEBUG:gym-duckietown:pos: [4.32730296 0.         2.65780348]\n",
      "DEBUG:gym-duckietown:l_pos: [4.34791348 0.         2.58569102]\n",
      "DEBUG:gym-duckietown:r_pos: [4.30669243 0.         2.72991593]\n",
      "DEBUG:gym-duckietown:f_pos: [4.4138379  0.         2.68253611]\n",
      "INFO:gym-duckietown:Stopping the simulator because we are at an invalid pose.\n",
      "INFO:gym-duckietown:Pos: [4.35037894 0.         2.66439884] angle 6.00479629999279\n",
      "INFO:gym-duckietown:Pos: [4.37686317 0.         2.67212864] angle 5.993622299047044\n",
      "DEBUG:gym-duckietown:[4.35386232 0.         2.66527584] corresponds to tile at (7, 4) which is not drivable: {'coords': (7, 4), 'kind': 'floor', 'angle': 0, 'drivable': False, 'texture': <gym_duckietown.graphics.Texture object at 0x00000272959456A0>, 'color': array([1, 1, 1])}\n",
      "DEBUG:gym-duckietown:Invalid pose. Collision free: True On drivable area: False\n",
      "DEBUG:gym-duckietown:safety_factor: 1.0\n",
      "DEBUG:gym-duckietown:pos: [4.35386232 0.         2.66527584]\n",
      "DEBUG:gym-duckietown:l_pos: [4.37527733 0.         2.59339818]\n",
      "DEBUG:gym-duckietown:r_pos: [4.33244731 0.         2.73715349]\n",
      "DEBUG:gym-duckietown:f_pos: [4.44011551 0.         2.69097385]\n",
      "INFO:gym-duckietown:Stopping the simulator because we are at an invalid pose.\n",
      "INFO:gym-duckietown:Pos: [4.37686317 0.         2.67212864] angle 5.993622299047044\n"
     ]
    },
    {
     "name": "stdout",
     "output_type": "stream",
     "text": [
      "[0.7039804 0.6754867]\n",
      "[0.7063049 0.7519328]"
     ]
    },
    {
     "name": "stderr",
     "output_type": "stream",
     "text": [
      "INFO:gym-duckietown:Pos: [4.40488677 0.         2.68020565] angle 6.011515574451332\n",
      "DEBUG:gym-duckietown:[4.38176699 0.         2.67376548] corresponds to tile at (7, 4) which is not drivable: {'coords': (7, 4), 'kind': 'floor', 'angle': 0, 'drivable': False, 'texture': <gym_duckietown.graphics.Texture object at 0x00000272959456A0>, 'color': array([1, 1, 1])}\n",
      "DEBUG:gym-duckietown:Invalid pose. Collision free: True On drivable area: False\n",
      "DEBUG:gym-duckietown:safety_factor: 1.0\n",
      "DEBUG:gym-duckietown:pos: [4.38176699 0.         2.67376548]\n",
      "DEBUG:gym-duckietown:l_pos: [4.40189251 0.         2.60151617]\n",
      "DEBUG:gym-duckietown:r_pos: [4.36164146 0.         2.7460148 ]\n",
      "DEBUG:gym-duckietown:f_pos: [4.46846616 0.         2.69791611]\n",
      "INFO:gym-duckietown:Stopping the simulator because we are at an invalid pose.\n",
      "INFO:gym-duckietown:Pos: [4.40488677 0.         2.68020565] angle 6.011515574451332\n"
     ]
    },
    {
     "name": "stdout",
     "output_type": "stream",
     "text": [
      "\n",
      "[0.7097788 0.6757114]"
     ]
    },
    {
     "name": "stderr",
     "output_type": "stream",
     "text": [
      "INFO:gym-duckietown:Pos: [4.43152983 0.         2.68781939] angle 5.998155816641475\n",
      "DEBUG:gym-duckietown:[4.40849815 0.         2.68107094] corresponds to tile at (7, 4) which is not drivable: {'coords': (7, 4), 'kind': 'floor', 'angle': 0, 'drivable': False, 'texture': <gym_duckietown.graphics.Texture object at 0x00000272959456A0>, 'color': array([1, 1, 1])}\n",
      "DEBUG:gym-duckietown:Invalid pose. Collision free: True On drivable area: False\n",
      "DEBUG:gym-duckietown:safety_factor: 1.0\n",
      "DEBUG:gym-duckietown:pos: [4.40849815 0.         2.68107094]\n",
      "DEBUG:gym-duckietown:l_pos: [4.42958708 0.         2.60909693]\n",
      "DEBUG:gym-duckietown:r_pos: [4.38740922 0.         2.75304494]\n",
      "DEBUG:gym-duckietown:f_pos: [4.49486695 0.         2.70637765]\n",
      "INFO:gym-duckietown:Stopping the simulator because we are at an invalid pose.\n",
      "INFO:gym-duckietown:Pos: [4.43152983 0.         2.68781939] angle 5.998155816641475\n",
      "INFO:gym-duckietown:Pos: [4.46000587 0.         2.69582525] angle 6.020076807741213\n",
      "DEBUG:gym-duckietown:[4.4368318  0.         2.68958325] corresponds to tile at (7, 4) which is not drivable: {'coords': (7, 4), 'kind': 'floor', 'angle': 0, 'drivable': False, 'texture': <gym_duckietown.graphics.Texture object at 0x00000272959456A0>, 'color': array([1, 1, 1])}"
     ]
    },
    {
     "name": "stdout",
     "output_type": "stream",
     "text": [
      "\n",
      "[0.7115663 0.7674649]\n"
     ]
    },
    {
     "name": "stderr",
     "output_type": "stream",
     "text": [
      "\n",
      "DEBUG:gym-duckietown:Invalid pose. Collision free: True On drivable area: False\n",
      "DEBUG:gym-duckietown:safety_factor: 1.0\n",
      "DEBUG:gym-duckietown:pos: [4.4368318  0.         2.68958325]\n",
      "DEBUG:gym-duckietown:l_pos: [4.45633805 0.         2.61716429]\n",
      "DEBUG:gym-duckietown:r_pos: [4.41732555 0.         2.76200222]\n",
      "DEBUG:gym-duckietown:f_pos: [4.52373455 0.         2.71299075]\n",
      "INFO:gym-duckietown:Stopping the simulator because we are at an invalid pose.\n",
      "INFO:gym-duckietown:Pos: [4.46000587 0.         2.69582525] angle 6.020076807741213\n",
      "INFO:gym-duckietown:Pos: [4.48837719 0.         2.703244  ] angle 6.034771865423176\n",
      "DEBUG:gym-duckietown:[4.4651139  0.         2.69734321] corresponds to tile at (7, 4) which is not drivable: {'coords': (7, 4), 'kind': 'floor', 'angle': 0, 'drivable': False, 'texture': <gym_duckietown.graphics.Texture object at 0x00000272959456A0>, 'color': array([1, 1, 1])}\n",
      "DEBUG:gym-duckietown:Invalid pose. Collision free: True On drivable area: False\n",
      "DEBUG:gym-duckietown:safety_factor: 1.0\n",
      "DEBUG:gym-duckietown:pos: [4.4651139  0.         2.69734321]\n",
      "DEBUG:gym-duckietown:l_pos: [4.48355388 0.         2.62464543]\n",
      "DEBUG:gym-duckietown:r_pos: [4.44667392 0.         2.77004099]\n",
      "DEBUG:gym-duckietown:f_pos: [4.55235124 0.         2.71947119]\n",
      "INFO:gym-duckietown:Stopping the simulator because we are at an invalid pose.\n",
      "INFO:gym-duckietown:Pos: [4.48837719 0.         2.703244  ] angle 6.034771865423176\n",
      "INFO:gym-duckietown:Pos: [4.51875874 0.         2.71014598] angle 6.0848281382851805\n",
      "DEBUG:gym-duckietown:[4.49522934 0.         2.70541657] corresponds to tile at (7, 4) which is not drivable: {'coords': (7, 4), 'kind': 'floor', 'angle': 0, 'drivable': False, 'texture': <gym_duckietown.graphics.Texture object at 0x00000272959456A0>, 'color': array([1, 1, 1])}"
     ]
    },
    {
     "name": "stdout",
     "output_type": "stream",
     "text": [
      "[0.7144015  0.75187385]\n",
      "[0.71515125 0.8427948 ]\n"
     ]
    },
    {
     "name": "stderr",
     "output_type": "stream",
     "text": [
      "\n",
      "DEBUG:gym-duckietown:Invalid pose. Collision free: True On drivable area: False\n",
      "DEBUG:gym-duckietown:safety_factor: 1.0\n",
      "DEBUG:gym-duckietown:pos: [4.49522934 0.         2.70541657]\n",
      "DEBUG:gym-duckietown:l_pos: [4.51000876 0.         2.63188719]\n",
      "DEBUG:gym-duckietown:r_pos: [4.48044991 0.         2.77894594]\n",
      "DEBUG:gym-duckietown:f_pos: [4.58346459 0.         2.72315188]\n",
      "INFO:gym-duckietown:Stopping the simulator because we are at an invalid pose.\n",
      "INFO:gym-duckietown:Pos: [4.51875874 0.         2.71014598] angle 6.0848281382851805\n",
      "INFO:gym-duckietown:Pos: [4.55049699 0.         2.71534786] angle 6.156632665648926\n",
      "DEBUG:gym-duckietown:[4.52668892 0.         2.7123187 ] corresponds to tile at (7, 4) which is not drivable: {'coords': (7, 4), 'kind': 'floor', 'angle': 0, 'drivable': False, 'texture': <gym_duckietown.graphics.Texture object at 0x00000272959456A0>, 'color': array([1, 1, 1])}\n",
      "DEBUG:gym-duckietown:Invalid pose. Collision free: True On drivable area: False\n",
      "DEBUG:gym-duckietown:safety_factor: 1.0\n",
      "DEBUG:gym-duckietown:pos: [4.52668892 0.         2.7123187 ]\n",
      "DEBUG:gym-duckietown:l_pos: [4.53615505 0.         2.63791848]\n",
      "DEBUG:gym-duckietown:r_pos: [4.51722279 0.         2.78671891]\n",
      "DEBUG:gym-duckietown:f_pos: [4.61596918 0.         2.72367806]\n",
      "INFO:gym-duckietown:Stopping the simulator because we are at an invalid pose.\n",
      "INFO:gym-duckietown:Pos: [4.55049699 0.         2.71534786] angle 6.156632665648926\n",
      "INFO:gym-duckietown:Pos: [4.58458854 0.         2.71772513] angle 6.270499236377203"
     ]
    },
    {
     "name": "stdout",
     "output_type": "stream",
     "text": [
      "[0.71266496 0.89576644]\n",
      "[0.70964026 1.0076681 ]\n"
     ]
    },
    {
     "name": "stderr",
     "output_type": "stream",
     "text": [
      "\n",
      "DEBUG:gym-duckietown:[4.56059048 0.         2.71742068] corresponds to tile at (7, 4) which is not drivable: {'coords': (7, 4), 'kind': 'floor', 'angle': 0, 'drivable': False, 'texture': <gym_duckietown.graphics.Texture object at 0x00000272959456A0>, 'color': array([1, 1, 1])}\n",
      "DEBUG:gym-duckietown:Invalid pose. Collision free: True On drivable area: False\n",
      "DEBUG:gym-duckietown:safety_factor: 1.0\n",
      "DEBUG:gym-duckietown:pos: [4.56059048 0.         2.71742068]\n",
      "DEBUG:gym-duckietown:l_pos: [4.56154191 0.         2.64242671]\n",
      "DEBUG:gym-duckietown:r_pos: [4.55963905 0.         2.79241464]\n",
      "DEBUG:gym-duckietown:f_pos: [4.65058323 0.         2.71856239]\n",
      "INFO:gym-duckietown:Stopping the simulator because we are at an invalid pose.\n",
      "INFO:gym-duckietown:Pos: [4.58458854 0.         2.71772513] angle 6.270499236377203\n",
      "INFO:gym-duckietown:Pos: [4.61860305 0.         2.71626802] angle 6.381495122749788\n",
      "DEBUG:gym-duckietown:[4.59471893 0.         2.71862366] corresponds to tile at (7, 4) which is not drivable: {'coords': (7, 4), 'kind': 'floor', 'angle': 0, 'drivable': False, 'texture': <gym_duckietown.graphics.Texture object at 0x00000272959456A0>, 'color': array([1, 1, 1])}\n",
      "DEBUG:gym-duckietown:Invalid pose. Collision free: True On drivable area: False\n",
      "DEBUG:gym-duckietown:safety_factor: 1.0\n",
      "DEBUG:gym-duckietown:pos: [4.59471893 0.         2.71862366]\n",
      "DEBUG:gym-duckietown:l_pos: [4.58735757 0.         2.6439858 ]\n",
      "DEBUG:gym-duckietown:r_pos: [4.6020803  0.         2.79326152]\n",
      "DEBUG:gym-duckietown:f_pos: [4.68428436 0.         2.70979002]\n",
      "INFO:gym-duckietown:Stopping the simulator because we are at an invalid pose.\n",
      "INFO:gym-duckietown:Pos: [4.61860305 0.         2.71626802] angle 6.381495122749788\n",
      "INFO:gym-duckietown:Pos: [4.65245719 0.         2.71099929] angle 6.493659104330834\n"
     ]
    },
    {
     "name": "stdout",
     "output_type": "stream",
     "text": [
      "[0.71005976 0.9930993 ]\n",
      "[0.71398187 1.0076902 ]\n"
     ]
    },
    {
     "name": "stderr",
     "output_type": "stream",
     "text": [
      "DEBUG:gym-duckietown:[4.62898682 0.         2.71601345] corresponds to tile at (7, 4) which is not drivable: {'coords': (7, 4), 'kind': 'floor', 'angle': 0, 'drivable': False, 'texture': <gym_duckietown.graphics.Texture object at 0x00000272959456A0>, 'color': array([1, 1, 1])}\n",
      "DEBUG:gym-duckietown:Invalid pose. Collision free: True On drivable area: False\n",
      "DEBUG:gym-duckietown:safety_factor: 1.0\n",
      "DEBUG:gym-duckietown:pos: [4.62898682 0.         2.71601345]\n",
      "DEBUG:gym-duckietown:l_pos: [4.61331757 0.         2.64266854]\n",
      "DEBUG:gym-duckietown:r_pos: [4.64465606 0.         2.78935835]\n",
      "DEBUG:gym-duckietown:f_pos: [4.7170007  0.         2.69721035]\n",
      "INFO:gym-duckietown:Stopping the simulator because we are at an invalid pose.\n",
      "INFO:gym-duckietown:Pos: [4.65245719 0.         2.71099929] angle 6.493659104330834\n",
      "INFO:gym-duckietown:Pos: [4.68575652 0.         2.70198878] angle 6.60123713181296\n",
      "DEBUG:gym-duckietown:[4.6629602  0.         2.70949398] corresponds to tile at (7, 4) which is not drivable: {'coords': (7, 4), 'kind': 'floor', 'angle': 0, 'drivable': False, 'texture': <gym_duckietown.graphics.Texture object at 0x00000272959456A0>, 'color': array([1, 1, 1])}\n",
      "DEBUG:gym-duckietown:Invalid pose. Collision free: True On drivable area: False\n",
      "DEBUG:gym-duckietown:safety_factor: 1.0\n",
      "DEBUG:gym-duckietown:pos: [4.6629602  0.         2.70949398]\n",
      "DEBUG:gym-duckietown:l_pos: [4.63950645 0.         2.6382555 ]\n",
      "DEBUG:gym-duckietown:r_pos: [4.68641395 0.         2.78073246]\n",
      "DEBUG:gym-duckietown:f_pos: [4.74844638 0.         2.68134948]\n",
      "INFO:gym-duckietown:Stopping the simulator because we are at an invalid pose.\n",
      "INFO:gym-duckietown:Pos: [4.68575652 0.         2.70198878] angle 6.60123713181296\n"
     ]
    },
    {
     "name": "stdout",
     "output_type": "stream",
     "text": [
      "[0.72567606 1.0552236 ]\n",
      "[0.73392093 1.1230588 ]"
     ]
    },
    {
     "name": "stderr",
     "output_type": "stream",
     "text": [
      "INFO:gym-duckietown:Pos: [4.71807068 0.         2.68944697] angle 6.705581860538368\n",
      "DEBUG:gym-duckietown:No tile found at [4.69618006 0.         2.69928571] (8, 4)\n",
      "DEBUG:gym-duckietown:Invalid pose. Collision free: True On drivable area: False\n",
      "DEBUG:gym-duckietown:safety_factor: 1.0\n",
      "DEBUG:gym-duckietown:pos: [4.69618006 0.         2.69928571]\n",
      "DEBUG:gym-duckietown:l_pos: [4.665434   0.         2.63087753]\n",
      "DEBUG:gym-duckietown:r_pos: [4.72692613 0.         2.7676939 ]\n",
      "DEBUG:gym-duckietown:f_pos: [4.77826988 0.         2.66239043]\n",
      "INFO:gym-duckietown:Stopping the simulator because we are at an invalid pose.\n",
      "INFO:gym-duckietown:Pos: [4.71807068 0.         2.68944697] angle 6.705581860538368\n",
      "INFO:gym-duckietown:Pos: [4.7488105  0.         2.67362158] angle 6.811651111361994\n",
      "DEBUG:gym-duckietown:No tile found at [4.72808454 0.         2.6857226 ] (8, 4)"
     ]
    },
    {
     "name": "stdout",
     "output_type": "stream",
     "text": [
      "\n",
      "[0.7295234 1.2390076]\n"
     ]
    },
    {
     "name": "stderr",
     "output_type": "stream",
     "text": [
      "\n",
      "DEBUG:gym-duckietown:Invalid pose. Collision free: True On drivable area: False\n",
      "DEBUG:gym-duckietown:safety_factor: 1.0\n",
      "DEBUG:gym-duckietown:pos: [4.72808454 0.         2.6857226 ]\n",
      "DEBUG:gym-duckietown:l_pos: [4.69026886 0.         2.62095397]\n",
      "DEBUG:gym-duckietown:r_pos: [4.76590021 0.         2.75049122]\n",
      "DEBUG:gym-duckietown:f_pos: [4.80580688 0.         2.64034378]\n",
      "INFO:gym-duckietown:Stopping the simulator because we are at an invalid pose.\n",
      "INFO:gym-duckietown:Pos: [4.7488105  0.         2.67362158] angle 6.811651111361994\n",
      "INFO:gym-duckietown:Pos: [4.77770155 0.         2.65463083] angle 6.917730958566913\n",
      "DEBUG:gym-duckietown:No tile found at [4.75837337 0.         2.66885831] (8, 4)\n",
      "DEBUG:gym-duckietown:Invalid pose. Collision free: True On drivable area: False\n",
      "DEBUG:gym-duckietown:safety_factor: 1.0\n",
      "DEBUG:gym-duckietown:pos: [4.75837337 0.         2.66885831]\n",
      "DEBUG:gym-duckietown:l_pos: [4.71391249 0.         2.60845773]\n",
      "DEBUG:gym-duckietown:r_pos: [4.80283424 0.         2.7292589 ]\n",
      "DEBUG:gym-duckietown:f_pos: [4.83085407 0.         2.61550526]\n",
      "INFO:gym-duckietown:Stopping the simulator because we are at an invalid pose.\n",
      "INFO:gym-duckietown:Pos: [4.77770155 0.         2.65463083] angle 6.917730958566913\n"
     ]
    },
    {
     "name": "stdout",
     "output_type": "stream",
     "text": [
      "[0.7294964 1.338232 ]\n",
      "[0.74500716 1.5956951 ]"
     ]
    },
    {
     "name": "stderr",
     "output_type": "stream",
     "text": [
      "INFO:gym-duckietown:Pos: [4.80472769 0.         2.63257197] angle 7.017728151772503\n",
      "DEBUG:gym-duckietown:No tile found at [4.78691639 0.         2.64865792] (8, 4)\n",
      "DEBUG:gym-duckietown:Invalid pose. Collision free: True On drivable area: False\n",
      "DEBUG:gym-duckietown:safety_factor: 1.0\n",
      "DEBUG:gym-duckietown:pos: [4.78691639 0.         2.64865792]\n",
      "DEBUG:gym-duckietown:l_pos: [4.7366478  0.         2.59299762]\n",
      "DEBUG:gym-duckietown:r_pos: [4.83718499 0.         2.70431821]\n",
      "DEBUG:gym-duckietown:f_pos: [4.85370875 0.         2.5883356 ]\n",
      "INFO:gym-duckietown:Stopping the simulator because we are at an invalid pose.\n",
      "INFO:gym-duckietown:Pos: [4.80472769 0.         2.63257197] angle 7.017728151772503\n",
      "INFO:gym-duckietown:Pos: [4.82970137 0.         2.60778639] angle 7.111878012453775\n"
     ]
    },
    {
     "name": "stdout",
     "output_type": "stream",
     "text": [
      "\n",
      "[0.75991786 1.8013606 ]\n"
     ]
    },
    {
     "name": "stderr",
     "output_type": "stream",
     "text": [
      "DEBUG:gym-duckietown:No tile found at [4.81348121 0.         2.62547556] (8, 4)\n",
      "DEBUG:gym-duckietown:Invalid pose. Collision free: True On drivable area: False\n",
      "DEBUG:gym-duckietown:safety_factor: 1.0\n",
      "DEBUG:gym-duckietown:pos: [4.81348121 0.         2.62547556]\n",
      "DEBUG:gym-duckietown:l_pos: [4.75820258 0.         2.57478757]\n",
      "DEBUG:gym-duckietown:r_pos: [4.86875985 0.         2.67616355]\n",
      "DEBUG:gym-duckietown:f_pos: [4.8743068  0.         2.55914119]\n",
      "INFO:gym-duckietown:Stopping the simulator because we are at an invalid pose.\n",
      "INFO:gym-duckietown:Pos: [4.82970137 0.         2.60778639] angle 7.111878012453775\n",
      "INFO:gym-duckietown:Pos: [4.85246875 0.         2.58062141] angle 7.200977957260341\n",
      "DEBUG:gym-duckietown:No tile found at [4.83788695 0.         2.59968371] (8, 4)\n",
      "DEBUG:gym-duckietown:Invalid pose. Collision free: True On drivable area: False\n",
      "DEBUG:gym-duckietown:safety_factor: 1.0\n",
      "DEBUG:gym-duckietown:pos: [4.83788695 0.         2.59968371]\n",
      "DEBUG:gym-duckietown:l_pos: [4.77831727 0.         2.5541156 ]\n",
      "DEBUG:gym-duckietown:r_pos: [4.89745663 0.         2.64525183]\n",
      "DEBUG:gym-duckietown:f_pos: [4.89256869 0.         2.52820009]\n",
      "INFO:gym-duckietown:Stopping the simulator because we are at an invalid pose.\n",
      "INFO:gym-duckietown:Pos: [4.85246875 0.         2.58062141] angle 7.200977957260341\n",
      "INFO:gym-duckietown:Pos: [4.87278096 0.         2.55150023] angle 7.288884270358675\n",
      "DEBUG:gym-duckietown:No tile found at [4.85992901 0.         2.5717691 ] (8, 4)"
     ]
    },
    {
     "name": "stdout",
     "output_type": "stream",
     "text": [
      "[0.77279514 2.000253  ]\n",
      "[0.7758389 1.8729179]\n"
     ]
    },
    {
     "name": "stderr",
     "output_type": "stream",
     "text": [
      "\n",
      "DEBUG:gym-duckietown:Invalid pose. Collision free: True On drivable area: False\n",
      "DEBUG:gym-duckietown:safety_factor: 1.0\n",
      "DEBUG:gym-duckietown:pos: [4.85992901 0.         2.5717691 ]\n",
      "DEBUG:gym-duckietown:l_pos: [4.79658878 0.         2.53160675]\n",
      "DEBUG:gym-duckietown:r_pos: [4.92326925 0.         2.61193146]\n",
      "DEBUG:gym-duckietown:f_pos: [4.90812384 0.         2.49576082]\n",
      "INFO:gym-duckietown:Stopping the simulator because we are at an invalid pose.\n",
      "INFO:gym-duckietown:Pos: [4.87278096 0.         2.55150023] angle 7.288884270358675\n",
      "INFO:gym-duckietown:Pos: [4.8905041  0.         2.52066823] angle 7.375666880073856\n",
      "DEBUG:gym-duckietown:No tile found at [4.87945729 0.         2.54197476] (8, 4)\n",
      "DEBUG:gym-duckietown:Invalid pose. Collision free: True On drivable area: False\n",
      "DEBUG:gym-duckietown:safety_factor: 1.0\n",
      "DEBUG:gym-duckietown:pos: [4.87945729 0.         2.54197476]\n",
      "DEBUG:gym-duckietown:l_pos: [4.8128744  0.         2.50745348]\n",
      "DEBUG:gym-duckietown:r_pos: [4.94604018 0.         2.57649604]\n",
      "DEBUG:gym-duckietown:f_pos: [4.92088283 0.         2.46207529]\n",
      "INFO:gym-duckietown:Stopping the simulator because we are at an invalid pose.\n",
      "INFO:gym-duckietown:Pos: [4.8905041  0.         2.52066823] angle 7.375666880073856\n",
      "INFO:gym-duckietown:Pos: [4.9054879  0.         2.48841646] angle 7.462457962998344\n"
     ]
    },
    {
     "name": "stdout",
     "output_type": "stream",
     "text": [
      "[0.77870435 1.7958454 ]\n",
      "[0.77868277 1.7428595 ]\n"
     ]
    },
    {
     "name": "stderr",
     "output_type": "stream",
     "text": [
      "DEBUG:gym-duckietown:No tile found at [4.89632957 0.         2.51060035] (8, 4)\n",
      "DEBUG:gym-duckietown:Invalid pose. Collision free: True On drivable area: False\n",
      "DEBUG:gym-duckietown:safety_factor: 1.0\n",
      "DEBUG:gym-duckietown:pos: [4.89632957 0.         2.51060035]\n",
      "DEBUG:gym-duckietown:l_pos: [4.82700492 0.         2.48198056]\n",
      "DEBUG:gym-duckietown:r_pos: [4.96565422 0.         2.53922014]\n",
      "DEBUG:gym-duckietown:f_pos: [4.93067332 0.         2.42741077]\n",
      "INFO:gym-duckietown:Stopping the simulator because we are at an invalid pose.\n",
      "INFO:gym-duckietown:Pos: [4.9054879  0.         2.48841646] angle 7.462457962998344\n",
      "INFO:gym-duckietown:Pos: [4.91764388 0.         2.45495745] angle 7.548540860932603\n",
      "DEBUG:gym-duckietown:No tile found at [4.91042675 0.         2.4778466 ] (8, 4)\n",
      "DEBUG:gym-duckietown:Invalid pose. Collision free: True On drivable area: False\n",
      "DEBUG:gym-duckietown:safety_factor: 1.0\n",
      "DEBUG:gym-duckietown:pos: [4.91042675 0.         2.4778466 ]\n",
      "DEBUG:gym-duckietown:l_pos: [4.83889816 0.         2.45529308]\n",
      "DEBUG:gym-duckietown:r_pos: [4.98195534 0.         2.50040012]\n",
      "DEBUG:gym-duckietown:f_pos: [4.93749097 0.         2.3920123 ]\n",
      "INFO:gym-duckietown:Stopping the simulator because we are at an invalid pose.\n",
      "INFO:gym-duckietown:Pos: [4.91764388 0.         2.45495745] angle 7.548540860932603\n",
      "INFO:gym-duckietown:Pos: [4.92694825 0.         2.42047425] angle 7.63232786976041"
     ]
    },
    {
     "name": "stdout",
     "output_type": "stream",
     "text": [
      "[0.7804886 1.6034908]\n",
      "[0.78634316 1.570296  ]\n"
     ]
    },
    {
     "name": "stderr",
     "output_type": "stream",
     "text": [
      "\n",
      "DEBUG:gym-duckietown:No tile found at [4.92167201 0.         2.4438871 ] (8, 4)\n",
      "DEBUG:gym-duckietown:Invalid pose. Collision free: True On drivable area: False\n",
      "DEBUG:gym-duckietown:safety_factor: 1.0\n",
      "DEBUG:gym-duckietown:pos: [4.92167201 0.         2.4438871 ]\n",
      "DEBUG:gym-duckietown:l_pos: [4.84850687 0.         2.42739886]\n",
      "DEBUG:gym-duckietown:r_pos: [4.99483715 0.         2.46037534]\n",
      "DEBUG:gym-duckietown:f_pos: [4.9414579  0.         2.35608893]\n",
      "INFO:gym-duckietown:Stopping the simulator because we are at an invalid pose.\n",
      "INFO:gym-duckietown:Pos: [4.92694825 0.         2.42047425] angle 7.63232786976041\n",
      "INFO:gym-duckietown:Pos: [4.933401   0.         2.38521555] angle 7.713618456861518\n",
      "DEBUG:gym-duckietown:No tile found at [4.93004334 0.         2.40897951] (8, 4)\n",
      "DEBUG:gym-duckietown:Invalid pose. Collision free: True On drivable area: False\n",
      "DEBUG:gym-duckietown:safety_factor: 1.0\n",
      "DEBUG:gym-duckietown:pos: [4.93004334 0.         2.40897951]\n",
      "DEBUG:gym-duckietown:l_pos: [4.85578094 0.         2.39848681]\n",
      "DEBUG:gym-duckietown:r_pos: [5.00430573 0.         2.41947222]\n",
      "DEBUG:gym-duckietown:f_pos: [4.94263458 0.         2.31986464]\n",
      "INFO:gym-duckietown:Stopping the simulator because we are at an invalid pose.\n",
      "INFO:gym-duckietown:Pos: [4.933401   0.         2.38521555] angle 7.713618456861518\n",
      "DEBUG:gym-duckietown:[3.50575356 0.         1.34338117] corresponds to tile at (5, 2) which is not drivable: {'coords': (5, 2), 'kind': 'floor', 'angle': 0, 'drivable': False, 'texture': <gym_duckietown.graphics.Texture object at 0x00000272959456A0>, 'color': array([1, 1, 1])}\n",
      "DEBUG:gym-duckietown:Invalid pose. Collision free: True On drivable area: False\n",
      "DEBUG:gym-duckietown:safety_factor: 1.3\n",
      "DEBUG:gym-duckietown:pos: [3.50575356 0.         1.34338117]\n",
      "DEBUG:gym-duckietown:l_pos: [3.49677388 0.         1.24629556]\n",
      "DEBUG:gym-duckietown:r_pos: [3.51473323 0.         1.44046677]\n",
      "DEBUG:gym-duckietown:f_pos: [3.62225629 0.         1.33260556]\n",
      "DEBUG:gym-duckietown:[3.45889516 0.         1.2512845 ] corresponds to tile at (5, 2) which is not drivable: {'coords': (5, 2), 'kind': 'floor', 'angle': 0, 'drivable': False, 'texture': <gym_duckietown.graphics.Texture object at 0x00000272959456A0>, 'color': array([1, 1, 1])}\n",
      "DEBUG:gym-duckietown:Invalid pose. Collision free: True On drivable area: False\n",
      "DEBUG:gym-duckietown:safety_factor: 1.3\n",
      "DEBUG:gym-duckietown:pos: [3.55416036 0.         1.27204003]\n",
      "DEBUG:gym-duckietown:l_pos: [3.64942555 0.         1.29279557]\n",
      "DEBUG:gym-duckietown:r_pos: [3.45889516 0.         1.2512845 ]\n",
      "DEBUG:gym-duckietown:f_pos: [3.52925371 0.         1.38635827]\n",
      "DEBUG:gym-duckietown:[4.10793683 0.         1.73287204] corresponds to tile at (7, 2) which is not drivable: {'coords': (7, 2), 'kind': 'floor', 'angle': 0, 'drivable': False, 'texture': <gym_duckietown.graphics.Texture object at 0x00000272959456A0>, 'color': array([1, 1, 1])}\n",
      "DEBUG:gym-duckietown:Invalid pose. Collision free: True On drivable area: False\n",
      "DEBUG:gym-duckietown:safety_factor: 1.3\n",
      "DEBUG:gym-duckietown:pos: [4.10793683 0.         1.73287204]\n",
      "DEBUG:gym-duckietown:l_pos: [4.1711442  0.         1.80710868]\n",
      "DEBUG:gym-duckietown:r_pos: [4.04472946 0.         1.65863541]\n",
      "DEBUG:gym-duckietown:f_pos: [4.01885286 0.         1.80872089]\n",
      "DEBUG:gym-duckietown:[4.15526847 0.         1.65755326] corresponds to tile at (7, 2) which is not drivable: {'coords': (7, 2), 'kind': 'floor', 'angle': 0, 'drivable': False, 'texture': <gym_duckietown.graphics.Texture object at 0x00000272959456A0>, 'color': array([1, 1, 1])}\n",
      "DEBUG:gym-duckietown:Invalid pose. Collision free: True On drivable area: False\n",
      "DEBUG:gym-duckietown:safety_factor: 1.3\n",
      "DEBUG:gym-duckietown:pos: [4.05866044 0.         1.64439503]\n",
      "DEBUG:gym-duckietown:l_pos: [3.96205241 0.         1.63123679]\n",
      "DEBUG:gym-duckietown:r_pos: [4.15526847 0.         1.65755326]\n",
      "DEBUG:gym-duckietown:f_pos: [4.07445032 0.         1.52846539]\n",
      "DEBUG:gym-duckietown:[3.48774746 0.         1.54507408] corresponds to tile at (5, 2) which is not drivable: {'coords': (5, 2), 'kind': 'floor', 'angle': 0, 'drivable': False, 'texture': <gym_duckietown.graphics.Texture object at 0x00000272959456A0>, 'color': array([1, 1, 1])}\n",
      "DEBUG:gym-duckietown:Invalid pose. Collision free: True On drivable area: False\n",
      "DEBUG:gym-duckietown:safety_factor: 1.3\n",
      "DEBUG:gym-duckietown:pos: [3.60467709 0.         1.54101691]\n",
      "DEBUG:gym-duckietown:l_pos: [3.60805807 0.         1.63845827]\n",
      "DEBUG:gym-duckietown:r_pos: [3.60129611 0.         1.44357555]\n",
      "DEBUG:gym-duckietown:f_pos: [3.48774746 0.         1.54507408]\n",
      "DEBUG:gym-duckietown:[4.1665101  0.         1.35218586] corresponds to tile at (7, 2) which is not drivable: {'coords': (7, 2), 'kind': 'floor', 'angle': 0, 'drivable': False, 'texture': <gym_duckietown.graphics.Texture object at 0x00000272959456A0>, 'color': array([1, 1, 1])}\n",
      "DEBUG:gym-duckietown:Invalid pose. Collision free: True On drivable area: False\n",
      "DEBUG:gym-duckietown:safety_factor: 1.3\n",
      "DEBUG:gym-duckietown:pos: [4.07409184 0.         1.32111955]\n",
      "DEBUG:gym-duckietown:l_pos: [3.98167359 0.         1.29005324]\n",
      "DEBUG:gym-duckietown:r_pos: [4.1665101  0.         1.35218586]\n",
      "DEBUG:gym-duckietown:f_pos: [4.11137141 0.         1.21021764]\n",
      "DEBUG:gym-duckietown:[3.48637281 0.         1.37703924] corresponds to tile at (5, 2) which is not drivable: {'coords': (5, 2), 'kind': 'floor', 'angle': 0, 'drivable': False, 'texture': <gym_duckietown.graphics.Texture object at 0x00000272959456A0>, 'color': array([1, 1, 1])}\n",
      "DEBUG:gym-duckietown:Invalid pose. Collision free: True On drivable area: False\n",
      "DEBUG:gym-duckietown:safety_factor: 1.3\n",
      "DEBUG:gym-duckietown:pos: [3.51607019 0.         1.28417205]\n",
      "DEBUG:gym-duckietown:l_pos: [3.54576757 0.         1.19130485]\n",
      "DEBUG:gym-duckietown:r_pos: [3.48637281 0.         1.37703924]\n",
      "DEBUG:gym-duckietown:f_pos: [3.62751082 0.         1.3198089 ]\n",
      "INFO:gym-duckietown:Starting at [3.78063779 0.         1.18069252] 4.6872131439193785\n",
      "INFO:gym-duckietown:Pos: [3.78063779 0.         1.18069252] angle 4.6872131439193785\n",
      "DEBUG:gym-duckietown:[0.55624914 0.         1.04370754] corresponds to tile at (0, 1) which is not drivable: {'coords': (0, 1), 'kind': 'floor', 'angle': 0, 'drivable': False, 'texture': <gym_duckietown.graphics.Texture object at 0x00000272959456A0>, 'color': array([1, 1, 1])}\n",
      "DEBUG:gym-duckietown:Invalid pose. Collision free: True On drivable area: False\n",
      "DEBUG:gym-duckietown:safety_factor: 1.3\n",
      "DEBUG:gym-duckietown:pos: [0.66422227 0.         1.08877199]\n",
      "DEBUG:gym-duckietown:l_pos: [0.62666856 0.         1.1787496 ]\n",
      "DEBUG:gym-duckietown:r_pos: [0.70177598 0.         0.99879439]\n",
      "DEBUG:gym-duckietown:f_pos: [0.55624914 0.         1.04370754]\n",
      "INFO:gym-duckietown:Starting at [0.81034702 0.         1.07648134] 4.62469817797601\n",
      "INFO:gym-duckietown:Pos: [0.81034702 0.         1.07648134] angle 4.62469817797601\n"
     ]
    },
    {
     "name": "stdout",
     "output_type": "stream",
     "text": [
      "[0.792709  1.6483493]\n",
      "Starting episode 2\n"
     ]
    },
    {
     "name": "stderr",
     "output_type": "stream",
     "text": [
      "INFO:gym-duckietown:Pos: [0.80854117 0.         1.11258131] angle 4.7001163440617955\n",
      "INFO:gym-duckietown:Pos: [0.80854117 0.         1.11258131] angle 4.7001163440617955\n",
      "INFO:gym-duckietown:Pos: [0.80941841 0.         1.14884382] angle 4.773034816009011\n",
      "INFO:gym-duckietown:Pos: [0.80941841 0.         1.14884382] angle 4.773034816009011"
     ]
    },
    {
     "name": "stdout",
     "output_type": "stream",
     "text": [
      "[0.8076837 1.2420976]\n",
      "[0.8140579 1.4817109]\n"
     ]
    },
    {
     "name": "stderr",
     "output_type": "stream",
     "text": [
      "\n",
      "INFO:gym-duckietown:Pos: [0.8128741  0.         1.18518984] angle 4.841328415530423\n",
      "INFO:gym-duckietown:Pos: [0.8128741  0.         1.18518984] angle 4.841328415530423\n",
      "INFO:gym-duckietown:Pos: [0.81881492 0.         1.22114388] angle 4.910957801889993\n",
      "INFO:gym-duckietown:Pos: [0.81881492 0.         1.22114388] angle 4.910957801889993"
     ]
    },
    {
     "name": "stdout",
     "output_type": "stream",
     "text": [
      "[0.8258513 2.1263134]\n",
      "[0.8224451 1.959921 ]\n"
     ]
    },
    {
     "name": "stderr",
     "output_type": "stream",
     "text": [
      "\n",
      "INFO:gym-duckietown:Pos: [0.82724995 0.         1.25653131] angle 4.981811654648214\n",
      "INFO:gym-duckietown:Pos: [0.82724995 0.         1.25653131] angle 4.981811654648214\n",
      "INFO:gym-duckietown:Pos: [0.83817006 0.         1.29120474] angle 5.053182334216835\n"
     ]
    },
    {
     "name": "stdout",
     "output_type": "stream",
     "text": [
      "[0.8193227 2.1109986]\n",
      "[0.8180048 1.6746365]\n"
     ]
    },
    {
     "name": "stderr",
     "output_type": "stream",
     "text": [
      "INFO:gym-duckietown:Pos: [0.83817006 0.         1.29120474] angle 5.053182334216835\n",
      "INFO:gym-duckietown:Pos: [0.85153012 0.         1.32487926] angle 5.126982818556232\n",
      "INFO:gym-duckietown:Pos: [0.85153012 0.         1.32487926] angle 5.126982818556232\n",
      "INFO:gym-duckietown:Pos: [0.86733407 0.         1.35745311] angle 5.201226675746732\n"
     ]
    },
    {
     "name": "stdout",
     "output_type": "stream",
     "text": [
      "[0.81180876 2.2467895 ]\n",
      "[0.8106782 2.50085  ]\n"
     ]
    },
    {
     "name": "stderr",
     "output_type": "stream",
     "text": [
      "INFO:gym-duckietown:Pos: [0.86733407 0.         1.35745311] angle 5.201226675746732\n",
      "INFO:gym-duckietown:Pos: [0.88550865 0.         1.38875424] angle 5.275671026600197\n",
      "INFO:gym-duckietown:Pos: [0.88550865 0.         1.38875424] angle 5.275671026600197\n",
      "INFO:gym-duckietown:Pos: [0.90600509 0.         1.41878341] angle 5.3469450726254415\n"
     ]
    },
    {
     "name": "stdout",
     "output_type": "stream",
     "text": [
      "[0.8101669 2.6011016]\n",
      "[0.8182512 2.940241 ]\n"
     ]
    },
    {
     "name": "stderr",
     "output_type": "stream",
     "text": [
      "INFO:gym-duckietown:Pos: [0.90600509 0.         1.41878341] angle 5.3469450726254415\n",
      "INFO:gym-duckietown:Pos: [0.92861708 0.         1.44736214] angle 5.416558564413071\n",
      "INFO:gym-duckietown:Pos: [0.92861708 0.         1.44736214] angle 5.416558564413071\n",
      "INFO:gym-duckietown:Pos: [0.95319163 0.         1.47436921] angle 5.48476780193562\n"
     ]
    },
    {
     "name": "stdout",
     "output_type": "stream",
     "text": [
      "[0.8224856 2.834236 ]\n",
      "[0.82606643 2.3081272 ]\n"
     ]
    },
    {
     "name": "stderr",
     "output_type": "stream",
     "text": [
      "INFO:gym-duckietown:Pos: [0.95319163 0.         1.47436921] angle 5.48476780193562\n",
      "INFO:gym-duckietown:Pos: [0.97945171 0.         1.49944361] angle 5.556992639438243\n",
      "INFO:gym-duckietown:Pos: [0.97945171 0.         1.49944361] angle 5.556992639438243\n",
      "INFO:gym-duckietown:Pos: [1.00733893 0.         1.52236863] angle 5.633279708790088\n"
     ]
    },
    {
     "name": "stdout",
     "output_type": "stream",
     "text": [
      "[0.81582665 1.9292432 ]\n",
      "[0.80546796 1.6421605 ]\n"
     ]
    },
    {
     "name": "stderr",
     "output_type": "stream",
     "text": [
      "INFO:gym-duckietown:Pos: [1.00733893 0.         1.52236863] angle 5.633279708790088\n",
      "INFO:gym-duckietown:Pos: [1.0366924  0.         1.54282357] angle 5.715874157234978\n",
      "INFO:gym-duckietown:Pos: [1.0366924  0.         1.54282357] angle 5.715874157234978\n",
      "INFO:gym-duckietown:Pos: [1.06745102 0.         1.56057555] angle 5.803616693910675\n"
     ]
    },
    {
     "name": "stdout",
     "output_type": "stream",
     "text": [
      "[0.7893842 1.2999114]\n",
      "[0.77625656 1.1242237 ]\n"
     ]
    },
    {
     "name": "stderr",
     "output_type": "stream",
     "text": [
      "INFO:gym-duckietown:Pos: [1.06745102 0.         1.56057555] angle 5.803616693910675\n",
      "INFO:gym-duckietown:Pos: [1.09964349 0.         1.57556055] angle 5.891447118219451\n",
      "INFO:gym-duckietown:Pos: [1.09964349 0.         1.57556055] angle 5.891447118219451\n",
      "INFO:gym-duckietown:Pos: [1.13302846 0.         1.58766568] angle 5.979226722751033\n"
     ]
    },
    {
     "name": "stdout",
     "output_type": "stream",
     "text": [
      "[0.77603245 1.3406625 ]\n",
      "[0.776162  1.3216536]\n"
     ]
    },
    {
     "name": "stderr",
     "output_type": "stream",
     "text": [
      "DEBUG:gym-duckietown:[1.19600297 0.         1.60741946] corresponds to tile at (2, 2) which is not drivable: {'coords': (2, 2), 'kind': 'floor', 'angle': 0, 'drivable': False, 'texture': <gym_duckietown.graphics.Texture object at 0x00000272959456A0>, 'color': array([1, 1, 1])}\n",
      "DEBUG:gym-duckietown:Invalid pose. Collision free: True On drivable area: False\n",
      "DEBUG:gym-duckietown:safety_factor: 1.0\n",
      "DEBUG:gym-duckietown:pos: [1.11012864 0.         1.58048249]\n",
      "DEBUG:gym-duckietown:l_pos: [1.13257612 0.         1.50892055]\n",
      "DEBUG:gym-duckietown:r_pos: [1.08768117 0.         1.65204443]\n",
      "DEBUG:gym-duckietown:f_pos: [1.19600297 0.         1.60741946]\n",
      "INFO:gym-duckietown:Stopping the simulator because we are at an invalid pose.\n",
      "INFO:gym-duckietown:Pos: [1.13302846 0.         1.58766568] angle 5.979226722751033\n",
      "INFO:gym-duckietown:Pos: [1.16731351 0.         1.59677546] angle 6.067731517127381\n",
      "DEBUG:gym-duckietown:[1.23178756 0.         1.61088565] corresponds to tile at (2, 2) which is not drivable: {'coords': (2, 2), 'kind': 'floor', 'angle': 0, 'drivable': False, 'texture': <gym_duckietown.graphics.Texture object at 0x00000272959456A0>, 'color': array([1, 1, 1])}\n",
      "DEBUG:gym-duckietown:Invalid pose. Collision free: True On drivable area: False\n",
      "DEBUG:gym-duckietown:safety_factor: 1.0\n",
      "DEBUG:gym-duckietown:pos: [1.1438684  0.         1.59164448]\n",
      "DEBUG:gym-duckietown:l_pos: [1.15990271 0.         1.51837852]\n",
      "DEBUG:gym-duckietown:r_pos: [1.1278341  0.         1.66491044]\n",
      "DEBUG:gym-duckietown:f_pos: [1.23178756 0.         1.61088565]\n",
      "INFO:gym-duckietown:Stopping the simulator because we are at an invalid pose.\n",
      "INFO:gym-duckietown:Pos: [1.16731351 0.         1.59677546] angle 6.067731517127381\n"
     ]
    },
    {
     "name": "stdout",
     "output_type": "stream",
     "text": [
      "[0.7743128 1.3693118]\n",
      "[0.7692452 1.074284 ]"
     ]
    },
    {
     "name": "stderr",
     "output_type": "stream",
     "text": [
      "INFO:gym-duckietown:Pos: [1.20217519 0.         1.60276716] angle 6.158223600483653\n",
      "DEBUG:gym-duckietown:[1.17836234 0.         1.59977588] corresponds to tile at (2, 2) which is not drivable: {'coords': (2, 2), 'kind': 'floor', 'angle': 0, 'drivable': False, 'texture': <gym_duckietown.graphics.Texture object at 0x00000272959456A0>, 'color': array([1, 1, 1])}\n",
      "DEBUG:gym-duckietown:Invalid pose. Collision free: True On drivable area: False\n",
      "DEBUG:gym-duckietown:safety_factor: 1.0\n",
      "DEBUG:gym-duckietown:pos: [1.17836234 0.         1.59977588]\n",
      "DEBUG:gym-duckietown:l_pos: [1.18771009 0.         1.52536069]\n",
      "DEBUG:gym-duckietown:r_pos: [1.16901458 0.         1.67419106]\n",
      "DEBUG:gym-duckietown:f_pos: [1.26766056 0.         1.61099318]\n",
      "INFO:gym-duckietown:Stopping the simulator because we are at an invalid pose.\n",
      "INFO:gym-duckietown:Pos: [1.20217519 0.         1.60276716] angle 6.158223600483653\n",
      "INFO:gym-duckietown:Pos: [1.23485494 0.         1.60618433] angle 6.1997731218176835\n",
      "DEBUG:gym-duckietown:[1.21093838 0.         1.60418476] corresponds to tile at (2, 2) which is not drivable: {'coords': (2, 2), 'kind': 'floor', 'angle': 0, 'drivable': False, 'texture': <gym_duckietown.graphics.Texture object at 0x00000272959456A0>, 'color': array([1, 1, 1])}"
     ]
    },
    {
     "name": "stdout",
     "output_type": "stream",
     "text": [
      "\n",
      "[0.76853126 0.8744825 ]\n"
     ]
    },
    {
     "name": "stderr",
     "output_type": "stream",
     "text": [
      "\n",
      "DEBUG:gym-duckietown:Invalid pose. Collision free: True On drivable area: False\n",
      "DEBUG:gym-duckietown:safety_factor: 1.0\n",
      "DEBUG:gym-duckietown:pos: [1.21093838 0.         1.60418476]\n",
      "DEBUG:gym-duckietown:l_pos: [1.21718704 0.         1.52944552]\n",
      "DEBUG:gym-duckietown:r_pos: [1.20468972 0.         1.678924  ]\n",
      "DEBUG:gym-duckietown:f_pos: [1.30062547 0.         1.61168316]\n",
      "INFO:gym-duckietown:Stopping the simulator because we are at an invalid pose.\n",
      "INFO:gym-duckietown:Pos: [1.23485494 0.         1.60618433] angle 6.1997731218176835\n",
      "INFO:gym-duckietown:Pos: [1.27028506 0.         1.60756638] angle 6.288621538919026\n",
      "DEBUG:gym-duckietown:[1.24628541 0.         1.60769685] corresponds to tile at (2, 2) which is not drivable: {'coords': (2, 2), 'kind': 'floor', 'angle': 0, 'drivable': False, 'texture': <gym_duckietown.graphics.Texture object at 0x00000272959456A0>, 'color': array([1, 1, 1])}\n",
      "DEBUG:gym-duckietown:Invalid pose. Collision free: True On drivable area: False\n",
      "DEBUG:gym-duckietown:safety_factor: 1.0\n",
      "DEBUG:gym-duckietown:pos: [1.24628541 0.         1.60769685]\n",
      "DEBUG:gym-duckietown:l_pos: [1.2458777  0.         1.53269796]\n",
      "DEBUG:gym-duckietown:r_pos: [1.24669313 0.         1.68269574]\n",
      "DEBUG:gym-duckietown:f_pos: [1.33628408 0.         1.60720759]\n",
      "INFO:gym-duckietown:Stopping the simulator because we are at an invalid pose.\n",
      "INFO:gym-duckietown:Pos: [1.27028506 0.         1.60756638] angle 6.288621538919026\n"
     ]
    },
    {
     "name": "stdout",
     "output_type": "stream",
     "text": [
      "[0.77343655 1.3207605 ]\n",
      "[0.77740115 0.9950031 ]"
     ]
    },
    {
     "name": "stderr",
     "output_type": "stream",
     "text": [
      "INFO:gym-duckietown:Pos: [1.3056814  0.         1.60586239] angle 6.373955658372955\n",
      "DEBUG:gym-duckietown:[1.2817802  0.         1.60803789] corresponds to tile at (2, 2) which is not drivable: {'coords': (2, 2), 'kind': 'floor', 'angle': 0, 'drivable': False, 'texture': <gym_duckietown.graphics.Texture object at 0x00000272959456A0>, 'color': array([1, 1, 1])}\n",
      "DEBUG:gym-duckietown:Invalid pose. Collision free: True On drivable area: False\n",
      "DEBUG:gym-duckietown:safety_factor: 1.0\n",
      "DEBUG:gym-duckietown:pos: [1.2817802  0.         1.60803789]\n",
      "DEBUG:gym-duckietown:l_pos: [1.27498177 0.         1.53334665]\n",
      "DEBUG:gym-duckietown:r_pos: [1.28857863 0.         1.68272913]\n",
      "DEBUG:gym-duckietown:f_pos: [1.37140969 0.         1.59987977]\n",
      "INFO:gym-duckietown:Stopping the simulator because we are at an invalid pose.\n",
      "INFO:gym-duckietown:Pos: [1.3056814  0.         1.60586239] angle 6.373955658372955\n",
      "INFO:gym-duckietown:Pos: [1.34082219 0.         1.60108483] angle 6.462667452278724\n"
     ]
    },
    {
     "name": "stdout",
     "output_type": "stream",
     "text": [
      "\n",
      "[0.77378494 1.0472492 ]\n"
     ]
    },
    {
     "name": "stderr",
     "output_type": "stream",
     "text": [
      "DEBUG:gym-duckietown:[1.31720772 0.         1.60536931] corresponds to tile at (2, 2) which is not drivable: {'coords': (2, 2), 'kind': 'floor', 'angle': 0, 'drivable': False, 'texture': <gym_duckietown.graphics.Texture object at 0x00000272959456A0>, 'color': array([1, 1, 1])}\n",
      "DEBUG:gym-duckietown:Invalid pose. Collision free: True On drivable area: False\n",
      "DEBUG:gym-duckietown:safety_factor: 1.0\n",
      "DEBUG:gym-duckietown:pos: [1.31720772 0.         1.60536931]\n",
      "DEBUG:gym-duckietown:l_pos: [1.30381871 0.         1.53157409]\n",
      "DEBUG:gym-duckietown:r_pos: [1.33059672 0.         1.67916453]\n",
      "DEBUG:gym-duckietown:f_pos: [1.40576198 0.         1.58930251]\n",
      "INFO:gym-duckietown:Stopping the simulator because we are at an invalid pose.\n",
      "INFO:gym-duckietown:Pos: [1.34082219 0.         1.60108483] angle 6.462667452278724\n",
      "INFO:gym-duckietown:Pos: [1.37542687 0.         1.59321553] angle 6.550908992807315\n",
      "DEBUG:gym-duckietown:[1.35228186 0.         1.59956442] corresponds to tile at (2, 2) which is not drivable: {'coords': (2, 2), 'kind': 'floor', 'angle': 0, 'drivable': False, 'texture': <gym_duckietown.graphics.Texture object at 0x00000272959456A0>, 'color': array([1, 1, 1])}\n",
      "DEBUG:gym-duckietown:Invalid pose. Collision free: True On drivable area: False\n",
      "DEBUG:gym-duckietown:safety_factor: 1.0\n",
      "DEBUG:gym-duckietown:pos: [1.35228186 0.         1.59956442]\n",
      "DEBUG:gym-duckietown:l_pos: [1.33244159 0.         1.52723625]\n",
      "DEBUG:gym-duckietown:r_pos: [1.37212213 0.         1.67189259]\n",
      "DEBUG:gym-duckietown:f_pos: [1.43907566 0.         1.5757561 ]\n",
      "INFO:gym-duckietown:Stopping the simulator because we are at an invalid pose.\n",
      "INFO:gym-duckietown:Pos: [1.37542687 0.         1.59321553] angle 6.550908992807315\n"
     ]
    },
    {
     "name": "stdout",
     "output_type": "stream",
     "text": [
      "[0.77498406 1.0010253 ]\n",
      "[0.7702924 1.2079632]"
     ]
    },
    {
     "name": "stderr",
     "output_type": "stream",
     "text": [
      "INFO:gym-duckietown:Pos: [1.40910368 0.         1.58232519] angle 6.640990407952541\n",
      "DEBUG:gym-duckietown:[1.38662365 0.         1.59073045] corresponds to tile at (2, 2) which is not drivable: {'coords': (2, 2), 'kind': 'floor', 'angle': 0, 'drivable': False, 'texture': <gym_duckietown.graphics.Texture object at 0x00000272959456A0>, 'color': array([1, 1, 1])}\n",
      "DEBUG:gym-duckietown:Invalid pose. Collision free: True On drivable area: False\n",
      "DEBUG:gym-duckietown:safety_factor: 1.0\n",
      "DEBUG:gym-duckietown:pos: [1.38662365 0.         1.59073045]\n",
      "DEBUG:gym-duckietown:l_pos: [1.36035721 0.         1.52048036]\n",
      "DEBUG:gym-duckietown:r_pos: [1.41289009 0.         1.66098053]\n",
      "DEBUG:gym-duckietown:f_pos: [1.47092375 0.         1.55921072]\n",
      "INFO:gym-duckietown:Stopping the simulator because we are at an invalid pose.\n",
      "INFO:gym-duckietown:Pos: [1.40910368 0.         1.58232519] angle 6.640990407952541\n",
      "INFO:gym-duckietown:Pos: [1.43776427 0.         1.5714731 ] angle 6.649298847425462\n",
      "DEBUG:gym-duckietown:[1.41535485 0.         1.58006484] corresponds to tile at (2, 2) which is not drivable: {'coords': (2, 2), 'kind': 'floor', 'angle': 0, 'drivable': False, 'texture': <gym_duckietown.graphics.Texture object at 0x00000272959456A0>, 'color': array([1, 1, 1])}"
     ]
    },
    {
     "name": "stdout",
     "output_type": "stream",
     "text": [
      "\n",
      "[0.75556695 0.7767535 ]\n"
     ]
    },
    {
     "name": "stderr",
     "output_type": "stream",
     "text": [
      "\n",
      "DEBUG:gym-duckietown:Invalid pose. Collision free: True On drivable area: False\n",
      "DEBUG:gym-duckietown:safety_factor: 1.0\n",
      "DEBUG:gym-duckietown:pos: [1.41535485 0.         1.58006484]\n",
      "DEBUG:gym-duckietown:l_pos: [1.38850565 0.         1.51003542]\n",
      "DEBUG:gym-duckietown:r_pos: [1.44220404 0.         1.65009427]\n",
      "DEBUG:gym-duckietown:f_pos: [1.49939016 0.         1.54784581]\n",
      "INFO:gym-duckietown:Stopping the simulator because we are at an invalid pose.\n",
      "INFO:gym-duckietown:Pos: [1.43776427 0.         1.5714731 ] angle 6.649298847425462\n",
      "INFO:gym-duckietown:Pos: [1.46592217 0.         1.56071658] angle 6.64687102947618\n",
      "DEBUG:gym-duckietown:[1.44349196 0.         1.56925389] corresponds to tile at (2, 2) which is not drivable: {'coords': (2, 2), 'kind': 'floor', 'angle': 0, 'drivable': False, 'texture': <gym_duckietown.graphics.Texture object at 0x00000272959456A0>, 'color': array([1, 1, 1])}\n",
      "DEBUG:gym-duckietown:Invalid pose. Collision free: True On drivable area: False\n",
      "DEBUG:gym-duckietown:safety_factor: 1.0\n",
      "DEBUG:gym-duckietown:pos: [1.44349196 0.         1.56925389]\n",
      "DEBUG:gym-duckietown:l_pos: [1.41681286 0.         1.49915949]\n",
      "DEBUG:gym-duckietown:r_pos: [1.47017106 0.         1.6393483 ]\n",
      "DEBUG:gym-duckietown:f_pos: [1.52760525 0.         1.53723898]\n",
      "INFO:gym-duckietown:Stopping the simulator because we are at an invalid pose.\n",
      "INFO:gym-duckietown:Pos: [1.46592217 0.         1.56071658] angle 6.64687102947618\n"
     ]
    },
    {
     "name": "stdout",
     "output_type": "stream",
     "text": [
      "[0.75665814 0.7504672 ]\n",
      "[0.75801486 0.8542375 ]"
     ]
    },
    {
     "name": "stderr",
     "output_type": "stream",
     "text": [
      "INFO:gym-duckietown:Pos: [1.4958346  0.         1.54868054] angle 6.6846054250144595\n",
      "DEBUG:gym-duckietown:[1.47374243 0.         1.55805796] corresponds to tile at (2, 2) which is not drivable: {'coords': (2, 2), 'kind': 'floor', 'angle': 0, 'drivable': False, 'texture': <gym_duckietown.graphics.Texture object at 0x00000272959456A0>, 'color': array([1, 1, 1])}\n",
      "DEBUG:gym-duckietown:Invalid pose. Collision free: True On drivable area: False\n",
      "DEBUG:gym-duckietown:safety_factor: 1.0\n",
      "DEBUG:gym-duckietown:pos: [1.47374243 0.         1.55805796]\n",
      "DEBUG:gym-duckietown:l_pos: [1.44443798 0.         1.48901994]\n",
      "DEBUG:gym-duckietown:r_pos: [1.50304688 0.         1.62709599]\n",
      "DEBUG:gym-duckietown:f_pos: [1.55658807 0.         1.52289263]\n",
      "INFO:gym-duckietown:Stopping the simulator because we are at an invalid pose.\n",
      "INFO:gym-duckietown:Pos: [1.4958346  0.         1.54868054] angle 6.6846054250144595\n"
     ]
    },
    {
     "name": "stdout",
     "output_type": "stream",
     "text": [
      "\n",
      "[0.75746727 1.1229502 ]"
     ]
    },
    {
     "name": "stderr",
     "output_type": "stream",
     "text": [
      "INFO:gym-duckietown:Pos: [1.52748844 0.         1.53342997] angle 6.779716303460203\n",
      "DEBUG:gym-duckietown:[1.50638667 0.         1.54486305] corresponds to tile at (2, 2) which is not drivable: {'coords': (2, 2), 'kind': 'floor', 'angle': 0, 'drivable': False, 'texture': <gym_duckietown.graphics.Texture object at 0x00000272959456A0>, 'color': array([1, 1, 1])}\n",
      "DEBUG:gym-duckietown:Invalid pose. Collision free: True On drivable area: False\n",
      "DEBUG:gym-duckietown:safety_factor: 1.0\n",
      "DEBUG:gym-duckietown:pos: [1.50638667 0.         1.54486305]\n",
      "DEBUG:gym-duckietown:l_pos: [1.4706583  0.         1.47892002]\n",
      "DEBUG:gym-duckietown:r_pos: [1.54211505 0.         1.61080608]\n",
      "DEBUG:gym-duckietown:f_pos: [1.58551831 0.         1.501989  ]\n",
      "INFO:gym-duckietown:Stopping the simulator because we are at an invalid pose.\n",
      "INFO:gym-duckietown:Pos: [1.52748844 0.         1.53342997] angle 6.779716303460203\n"
     ]
    },
    {
     "name": "stdout",
     "output_type": "stream",
     "text": [
      "\n",
      "[0.74393475 1.299945  ]"
     ]
    },
    {
     "name": "stderr",
     "output_type": "stream",
     "text": [
      "INFO:gym-duckietown:Pos: [1.55727014 0.         1.51530397] angle 6.880134060027018\n",
      "DEBUG:gym-duckietown:[1.53742083 0.         1.52879489] corresponds to tile at (2, 2) which is not drivable: {'coords': (2, 2), 'kind': 'floor', 'angle': 0, 'drivable': False, 'texture': <gym_duckietown.graphics.Texture object at 0x00000272959456A0>, 'color': array([1, 1, 1])}\n",
      "DEBUG:gym-duckietown:Invalid pose. Collision free: True On drivable area: False\n",
      "DEBUG:gym-duckietown:safety_factor: 1.0\n",
      "DEBUG:gym-duckietown:pos: [1.53742083 0.         1.52879489]\n",
      "DEBUG:gym-duckietown:l_pos: [1.49526172 0.         1.46676579]\n",
      "DEBUG:gym-duckietown:r_pos: [1.57957995 0.         1.59082399]\n",
      "DEBUG:gym-duckietown:f_pos: [1.61185575 0.         1.47820395]\n",
      "INFO:gym-duckietown:Stopping the simulator because we are at an invalid pose.\n",
      "INFO:gym-duckietown:Pos: [1.55727014 0.         1.51530397] angle 6.880134060027018\n"
     ]
    },
    {
     "name": "stdout",
     "output_type": "stream",
     "text": [
      "\n",
      "[0.7524355 1.7395822]\n"
     ]
    },
    {
     "name": "stderr",
     "output_type": "stream",
     "text": [
      "INFO:gym-duckietown:Pos: [1.58525622 0.         1.49422728] angle 6.977218183351742\n",
      "DEBUG:gym-duckietown:[1.56680808 0.         1.50957869] corresponds to tile at (2, 2) which is not drivable: {'coords': (2, 2), 'kind': 'floor', 'angle': 0, 'drivable': False, 'texture': <gym_duckietown.graphics.Texture object at 0x00000272959456A0>, 'color': array([1, 1, 1])}\n",
      "DEBUG:gym-duckietown:Invalid pose. Collision free: True On drivable area: False\n",
      "DEBUG:gym-duckietown:safety_factor: 1.0\n",
      "DEBUG:gym-duckietown:pos: [1.56680808 0.         1.50957869]\n",
      "DEBUG:gym-duckietown:l_pos: [1.5188349  0.         1.45192824]\n",
      "DEBUG:gym-duckietown:r_pos: [1.61478125 0.         1.56722915]\n",
      "DEBUG:gym-duckietown:f_pos: [1.63598862 0.         1.45201088]\n",
      "INFO:gym-duckietown:Stopping the simulator because we are at an invalid pose.\n",
      "INFO:gym-duckietown:Pos: [1.58525622 0.         1.49422728] angle 6.977218183351742\n",
      "INFO:gym-duckietown:Pos: [1.61153362 0.         1.47033518] angle 7.0649308787477665\n",
      "DEBUG:gym-duckietown:[1.59450118 0.         1.48724364] corresponds to tile at (2, 2) which is not drivable: {'coords': (2, 2), 'kind': 'floor', 'angle': 0, 'drivable': False, 'texture': <gym_duckietown.graphics.Texture object at 0x00000272959456A0>, 'color': array([1, 1, 1])}\n",
      "DEBUG:gym-duckietown:Invalid pose. Collision free: True On drivable area: False\n",
      "DEBUG:gym-duckietown:safety_factor: 1.0\n",
      "DEBUG:gym-duckietown:pos: [1.59450118 0.         1.48724364]\n",
      "DEBUG:gym-duckietown:l_pos: [1.54166223 0.         1.43401728]\n",
      "DEBUG:gym-duckietown:r_pos: [1.64734013 0.         1.54047   ]\n",
      "DEBUG:gym-duckietown:f_pos: [1.65837282 0.         1.4238369 ]\n",
      "INFO:gym-duckietown:Stopping the simulator because we are at an invalid pose.\n",
      "INFO:gym-duckietown:Pos: [1.61153362 0.         1.47033518] angle 7.0649308787477665\n",
      "INFO:gym-duckietown:Pos: [1.63584686 0.         1.44411052] angle 7.147842887494543\n",
      "DEBUG:gym-duckietown:[1.62027324 0.         1.46237147] corresponds to tile at (2, 2) which is not drivable: {'coords': (2, 2), 'kind': 'floor', 'angle': 0, 'drivable': False, 'texture': <gym_duckietown.graphics.Texture object at 0x00000272959456A0>, 'color': array([1, 1, 1])}"
     ]
    },
    {
     "name": "stdout",
     "output_type": "stream",
     "text": [
      "[0.7763326 2.3324795]\n",
      "[0.7885744 2.0112345]\n"
     ]
    },
    {
     "name": "stderr",
     "output_type": "stream",
     "text": [
      "\n",
      "DEBUG:gym-duckietown:Invalid pose. Collision free: True On drivable area: False\n",
      "DEBUG:gym-duckietown:safety_factor: 1.0\n",
      "DEBUG:gym-duckietown:pos: [1.62027324 0.         1.46237147]\n",
      "DEBUG:gym-duckietown:l_pos: [1.56320776 0.         1.41370392]\n",
      "DEBUG:gym-duckietown:r_pos: [1.67733873 0.         1.51103902]\n",
      "DEBUG:gym-duckietown:f_pos: [1.67867431 0.         1.39389289]\n",
      "INFO:gym-duckietown:Stopping the simulator because we are at an invalid pose.\n",
      "INFO:gym-duckietown:Pos: [1.63584686 0.         1.44411052] angle 7.147842887494543\n",
      "INFO:gym-duckietown:Pos: [1.65790481 0.         1.41596235] angle 7.230753162642174\n",
      "DEBUG:gym-duckietown:[1.64389698 0.         1.43545031] corresponds to tile at (2, 2) which is not drivable: {'coords': (2, 2), 'kind': 'floor', 'angle': 0, 'drivable': False, 'texture': <gym_duckietown.graphics.Texture object at 0x00000272959456A0>, 'color': array([1, 1, 1])}\n",
      "DEBUG:gym-duckietown:Invalid pose. Collision free: True On drivable area: False\n",
      "DEBUG:gym-duckietown:safety_factor: 1.0\n",
      "DEBUG:gym-duckietown:pos: [1.64389698 0.         1.43545031]\n",
      "DEBUG:gym-duckietown:l_pos: [1.5829971  0.         1.39167583]\n",
      "DEBUG:gym-duckietown:r_pos: [1.70479686 0.         1.47922478]\n",
      "DEBUG:gym-duckietown:f_pos: [1.69642635 0.         1.36237045]\n",
      "INFO:gym-duckietown:Stopping the simulator because we are at an invalid pose.\n",
      "INFO:gym-duckietown:Pos: [1.65790481 0.         1.41596235] angle 7.230753162642174\n"
     ]
    },
    {
     "name": "stdout",
     "output_type": "stream",
     "text": [
      "[0.7885788 1.934508 ]\n",
      "[0.7958837 2.1872923]"
     ]
    },
    {
     "name": "stderr",
     "output_type": "stream",
     "text": [
      "INFO:gym-duckietown:Pos: [1.67767949 0.         1.38598981] angle 7.310798772334517\n",
      "DEBUG:gym-duckietown:[1.66527477 0.         1.40653544] corresponds to tile at (2, 2) which is not drivable: {'coords': (2, 2), 'kind': 'floor', 'angle': 0, 'drivable': False, 'texture': <gym_duckietown.graphics.Texture object at 0x00000272959456A0>, 'color': array([1, 1, 1])}\n",
      "DEBUG:gym-duckietown:Invalid pose. Collision free: True On drivable area: False\n",
      "DEBUG:gym-duckietown:safety_factor: 1.0\n",
      "DEBUG:gym-duckietown:pos: [1.66527477 0.         1.40653544]\n",
      "DEBUG:gym-duckietown:l_pos: [1.60106967 0.         1.36777069]\n",
      "DEBUG:gym-duckietown:r_pos: [1.72947986 0.         1.44530019]\n",
      "DEBUG:gym-duckietown:f_pos: [1.71179247 0.         1.32948933]\n",
      "INFO:gym-duckietown:Stopping the simulator because we are at an invalid pose.\n",
      "INFO:gym-duckietown:Pos: [1.67767949 0.         1.38598981] angle 7.310798772334517\n",
      "INFO:gym-duckietown:Pos: [1.69482298 0.         1.35468611] angle 7.395089167709688"
     ]
    },
    {
     "name": "stdout",
     "output_type": "stream",
     "text": [
      "\n",
      "[0.7850595 1.7921171]\n"
     ]
    },
    {
     "name": "stderr",
     "output_type": "stream",
     "text": [
      "\n",
      "DEBUG:gym-duckietown:[1.68419205 0.         1.37620316] corresponds to tile at (2, 2) which is not drivable: {'coords': (2, 2), 'kind': 'floor', 'angle': 0, 'drivable': False, 'texture': <gym_duckietown.graphics.Texture object at 0x00000272959456A0>, 'color': array([1, 1, 1])}\n",
      "DEBUG:gym-duckietown:Invalid pose. Collision free: True On drivable area: False\n",
      "DEBUG:gym-duckietown:safety_factor: 1.0\n",
      "DEBUG:gym-duckietown:pos: [1.68419205 0.         1.37620316]\n",
      "DEBUG:gym-duckietown:l_pos: [1.61695127 0.         1.3429815 ]\n",
      "DEBUG:gym-duckietown:r_pos: [1.75143282 0.         1.40942482]\n",
      "DEBUG:gym-duckietown:f_pos: [1.72405803 0.         1.29551423]\n",
      "INFO:gym-duckietown:Stopping the simulator because we are at an invalid pose.\n",
      "INFO:gym-duckietown:Pos: [1.69482298 0.         1.35468611] angle 7.395089167709688\n",
      "INFO:gym-duckietown:Pos: [1.70922406 0.         1.32209954] angle 7.4806233522964565\n",
      "DEBUG:gym-duckietown:[1.7004702  0.         1.34444613] corresponds to tile at (2, 2) which is not drivable: {'coords': (2, 2), 'kind': 'floor', 'angle': 0, 'drivable': False, 'texture': <gym_duckietown.graphics.Texture object at 0x00000272959456A0>, 'color': array([1, 1, 1])}\n",
      "DEBUG:gym-duckietown:Invalid pose. Collision free: True On drivable area: False\n",
      "DEBUG:gym-duckietown:safety_factor: 1.0\n",
      "DEBUG:gym-duckietown:pos: [1.7004702  0.         1.34444613]\n",
      "DEBUG:gym-duckietown:l_pos: [1.63063712 0.         1.3170903 ]\n",
      "DEBUG:gym-duckietown:r_pos: [1.77030327 0.         1.37180196]\n",
      "DEBUG:gym-duckietown:f_pos: [1.73329719 0.         1.26064644]\n",
      "INFO:gym-duckietown:Stopping the simulator because we are at an invalid pose.\n",
      "INFO:gym-duckietown:Pos: [1.70922406 0.         1.32209954] angle 7.4806233522964565\n",
      "INFO:gym-duckietown:Pos: [1.72072916 0.         1.28847777] angle 7.567935936905444\n",
      "DEBUG:gym-duckietown:[1.7139573  0.         1.31150258] corresponds to tile at (2, 2) which is not drivable: {'coords': (2, 2), 'kind': 'floor', 'angle': 0, 'drivable': False, 'texture': <gym_duckietown.graphics.Texture object at 0x00000272959456A0>, 'color': array([1, 1, 1])}"
     ]
    },
    {
     "name": "stdout",
     "output_type": "stream",
     "text": [
      "[0.7818878 1.366231 ]\n",
      "[0.7773529 1.4059247]\n"
     ]
    },
    {
     "name": "stderr",
     "output_type": "stream",
     "text": [
      "\n",
      "DEBUG:gym-duckietown:Invalid pose. Collision free: True On drivable area: False\n",
      "DEBUG:gym-duckietown:safety_factor: 1.0\n",
      "DEBUG:gym-duckietown:pos: [1.7139573  0.         1.31150258]\n",
      "DEBUG:gym-duckietown:l_pos: [1.64200477 0.         1.29034052]\n",
      "DEBUG:gym-duckietown:r_pos: [1.78590984 0.         1.33266464]\n",
      "DEBUG:gym-duckietown:f_pos: [1.73935178 0.         1.22515954]\n",
      "INFO:gym-duckietown:Stopping the simulator because we are at an invalid pose.\n",
      "INFO:gym-duckietown:Pos: [1.72072916 0.         1.28847777] angle 7.567935936905444\n",
      "INFO:gym-duckietown:Pos: [1.72944055 0.         1.25466805] angle 7.635678660950094\n",
      "DEBUG:gym-duckietown:[1.7242428  0.         1.27809844] corresponds to tile at (2, 2) which is not drivable: {'coords': (2, 2), 'kind': 'floor', 'angle': 0, 'drivable': False, 'texture': <gym_duckietown.graphics.Texture object at 0x00000272959456A0>, 'color': array([1, 1, 1])}\n",
      "DEBUG:gym-duckietown:Invalid pose. Collision free: True On drivable area: False\n",
      "DEBUG:gym-duckietown:safety_factor: 1.0\n",
      "DEBUG:gym-duckietown:pos: [1.7242428  0.         1.27809844]\n",
      "DEBUG:gym-duckietown:l_pos: [1.65102282 0.         1.26185545]\n",
      "DEBUG:gym-duckietown:r_pos: [1.79746277 0.         1.29434143]\n",
      "DEBUG:gym-duckietown:f_pos: [1.74373438 0.         1.19023447]\n",
      "INFO:gym-duckietown:Stopping the simulator because we are at an invalid pose.\n",
      "INFO:gym-duckietown:Pos: [1.72944055 0.         1.25466805] angle 7.635678660950094\n",
      "INFO:gym-duckietown:Pos: [1.73585815 0.         1.21924144] angle 7.713867585957684\n",
      "DEBUG:gym-duckietown:[1.73250641 0.         1.24300624] corresponds to tile at (2, 2) which is not drivable: {'coords': (2, 2), 'kind': 'floor', 'angle': 0, 'drivable': False, 'texture': <gym_duckietown.graphics.Texture object at 0x00000272959456A0>, 'color': array([1, 1, 1])}"
     ]
    },
    {
     "name": "stdout",
     "output_type": "stream",
     "text": [
      "[0.78664434 0.9593883 ]\n",
      "[0.80061823 1.0541961 ]\n"
     ]
    },
    {
     "name": "stderr",
     "output_type": "stream",
     "text": [
      "\n",
      "DEBUG:gym-duckietown:Invalid pose. Collision free: True On drivable area: False\n",
      "DEBUG:gym-duckietown:safety_factor: 1.0\n",
      "DEBUG:gym-duckietown:pos: [1.73250641 0.         1.24300624]\n",
      "DEBUG:gym-duckietown:l_pos: [1.6582414  0.         1.23253204]\n",
      "DEBUG:gym-duckietown:r_pos: [1.80677141 0.         1.25348045]\n",
      "DEBUG:gym-duckietown:f_pos: [1.74507545 0.         1.15388824]\n",
      "INFO:gym-duckietown:Stopping the simulator because we are at an invalid pose.\n",
      "INFO:gym-duckietown:Pos: [1.73585815 0.         1.21924144] angle 7.713867585957684\n",
      "INFO:gym-duckietown:Pos: [1.73951311 0.         1.18337051] angle 7.791012806365157\n",
      "DEBUG:gym-duckietown:[1.73800285 0.         1.20732295] corresponds to tile at (2, 2) which is not drivable: {'coords': (2, 2), 'kind': 'floor', 'angle': 0, 'drivable': False, 'texture': <gym_duckietown.graphics.Texture object at 0x00000272959456A0>, 'color': array([1, 1, 1])}\n",
      "DEBUG:gym-duckietown:Invalid pose. Collision free: True On drivable area: False\n",
      "DEBUG:gym-duckietown:safety_factor: 1.0\n",
      "DEBUG:gym-duckietown:pos: [1.73800285 0.         1.20732295]\n",
      "DEBUG:gym-duckietown:l_pos: [1.66315149 0.         1.20260341]\n",
      "DEBUG:gym-duckietown:r_pos: [1.81285421 0.         1.21204249]\n",
      "DEBUG:gym-duckietown:f_pos: [1.7436663  0.         1.11750132]\n",
      "INFO:gym-duckietown:Stopping the simulator because we are at an invalid pose.\n",
      "INFO:gym-duckietown:Pos: [1.73951311 0.         1.18337051] angle 7.791012806365157\n"
     ]
    },
    {
     "name": "stdout",
     "output_type": "stream",
     "text": [
      "[0.8032797 1.1159816]\n",
      "[0.80733365 1.4590139 ]"
     ]
    },
    {
     "name": "stderr",
     "output_type": "stream",
     "text": [
      "INFO:gym-duckietown:Pos: [1.74042337 0.         1.1472439 ] angle 7.866568238441705\n",
      "DEBUG:gym-duckietown:[1.74072544 0.         1.171242  ] corresponds to tile at (2, 2) which is not drivable: {'coords': (2, 2), 'kind': 'floor', 'angle': 0, 'drivable': False, 'texture': <gym_duckietown.graphics.Texture object at 0x00000272959456A0>, 'color': array([1, 1, 1])}\n",
      "DEBUG:gym-duckietown:Invalid pose. Collision free: True On drivable area: False\n",
      "DEBUG:gym-duckietown:safety_factor: 1.0\n",
      "DEBUG:gym-duckietown:pos: [1.74072544 0.         1.171242  ]\n",
      "DEBUG:gym-duckietown:l_pos: [1.66573138 0.         1.17218597]\n",
      "DEBUG:gym-duckietown:r_pos: [1.8157195  0.         1.17029803]\n",
      "DEBUG:gym-duckietown:f_pos: [1.73959267 0.         1.08124913]\n",
      "INFO:gym-duckietown:Stopping the simulator because we are at an invalid pose.\n",
      "INFO:gym-duckietown:Pos: [1.74042337 0.         1.1472439 ] angle 7.866568238441705\n"
     ]
    },
    {
     "name": "stdout",
     "output_type": "stream",
     "text": [
      "\n",
      "[0.8062657 1.2954909]"
     ]
    },
    {
     "name": "stderr",
     "output_type": "stream",
     "text": [
      "INFO:gym-duckietown:Pos: [1.73859759 0.         1.11117346] angle 7.942542480801689\n",
      "INFO:gym-duckietown:Pos: [1.73859759 0.         1.11117346] angle 7.942542480801689\n",
      "INFO:gym-duckietown:Pos: [1.73403033 0.         1.07538729] angle 8.019301420258005\n",
      "INFO:gym-duckietown:Pos: [1.73403033 0.         1.07538729] angle 8.019301420258005"
     ]
    },
    {
     "name": "stdout",
     "output_type": "stream",
     "text": [
      "\n",
      "[0.8042647 1.5500871]\n"
     ]
    },
    {
     "name": "stderr",
     "output_type": "stream",
     "text": [
      "\n",
      "INFO:gym-duckietown:Pos: [1.72673465 0.         1.04003942] angle 8.095738436196608\n",
      "INFO:gym-duckietown:Pos: [1.72673465 0.         1.04003942] angle 8.095738436196608\n",
      "INFO:gym-duckietown:Pos: [1.7167568 0.        1.0054244] angle 8.173513479017208\n"
     ]
    },
    {
     "name": "stdout",
     "output_type": "stream",
     "text": [
      "[0.8050856 1.3340029]\n",
      "[0.80167365 1.3199193 ]\n"
     ]
    },
    {
     "name": "stderr",
     "output_type": "stream",
     "text": [
      "INFO:gym-duckietown:Pos: [1.7167568 0.        1.0054244] angle 8.173513479017208\n",
      "INFO:gym-duckietown:Pos: [1.70412581 0.         0.9719612 ] angle 8.256299675214768\n",
      "INFO:gym-duckietown:Pos: [1.70412581 0.         0.9719612 ] angle 8.256299675214768\n"
     ]
    },
    {
     "name": "stdout",
     "output_type": "stream",
     "text": [
      "[0.7888952 1.4032066]\n",
      "[0.7762416 1.261189 ]"
     ]
    },
    {
     "name": "stderr",
     "output_type": "stream",
     "text": [
      "INFO:gym-duckietown:Pos: [1.68880057 0.         0.93992464] angle 8.344048074961732\n",
      "INFO:gym-duckietown:Pos: [1.68880057 0.         0.93992464] angle 8.344048074961732\n"
     ]
    },
    {
     "name": "stdout",
     "output_type": "stream",
     "text": [
      "\n",
      "[0.77460915 1.6080488 ]\n"
     ]
    },
    {
     "name": "stderr",
     "output_type": "stream",
     "text": [
      "INFO:gym-duckietown:Pos: [1.67073365 0.         0.9093884 ] angle 8.432436640280768\n",
      "INFO:gym-duckietown:Pos: [1.67073365 0.         0.9093884 ] angle 8.432436640280768\n",
      "DEBUG:gym-duckietown:[2.70689661 0.         0.52127018] corresponds to tile at (4, 0) which is not drivable: {'coords': (4, 0), 'kind': 'floor', 'angle': 0, 'drivable': False, 'texture': <gym_duckietown.graphics.Texture object at 0x00000272959456A0>, 'color': array([1, 1, 1])}\n",
      "DEBUG:gym-duckietown:Invalid pose. Collision free: True On drivable area: False\n",
      "DEBUG:gym-duckietown:safety_factor: 1.3\n",
      "DEBUG:gym-duckietown:pos: [2.72096709 0.         0.61774956]\n",
      "DEBUG:gym-duckietown:l_pos: [2.73503756 0.         0.71422894]\n",
      "DEBUG:gym-duckietown:r_pos: [2.70689661 0.         0.52127018]\n",
      "DEBUG:gym-duckietown:f_pos: [2.60519182 0.         0.63463413]\n",
      "DEBUG:gym-duckietown:[2.89188152 0.         1.19337946] corresponds to tile at (4, 2) which is not drivable: {'coords': (4, 2), 'kind': 'floor', 'angle': 0, 'drivable': False, 'texture': <gym_duckietown.graphics.Texture object at 0x00000272959456A0>, 'color': array([1, 1, 1])}\n",
      "DEBUG:gym-duckietown:Invalid pose. Collision free: True On drivable area: False\n",
      "DEBUG:gym-duckietown:safety_factor: 1.3\n",
      "DEBUG:gym-duckietown:pos: [2.88614047 0.         1.0765204 ]\n",
      "DEBUG:gym-duckietown:l_pos: [2.98352302 0.         1.07173618]\n",
      "DEBUG:gym-duckietown:r_pos: [2.78875792 0.         1.08130461]\n",
      "DEBUG:gym-duckietown:f_pos: [2.89188152 0.         1.19337946]\n",
      "DEBUG:gym-duckietown:[2.87794185 0.         1.17992248] corresponds to tile at (4, 2) which is not drivable: {'coords': (4, 2), 'kind': 'floor', 'angle': 0, 'drivable': False, 'texture': <gym_duckietown.graphics.Texture object at 0x00000272959456A0>, 'color': array([1, 1, 1])}\n",
      "DEBUG:gym-duckietown:Invalid pose. Collision free: True On drivable area: False\n",
      "DEBUG:gym-duckietown:safety_factor: 1.3\n",
      "DEBUG:gym-duckietown:pos: [2.87794185 0.         1.17992248]\n",
      "DEBUG:gym-duckietown:l_pos: [2.80250115 0.         1.11815719]\n",
      "DEBUG:gym-duckietown:r_pos: [2.95338254 0.         1.24168778]\n",
      "DEBUG:gym-duckietown:f_pos: [2.9520602  0.         1.08939365]\n",
      "DEBUG:gym-duckietown:[2.52468862 0.         0.53311341] corresponds to tile at (4, 0) which is not drivable: {'coords': (4, 0), 'kind': 'floor', 'angle': 0, 'drivable': False, 'texture': <gym_duckietown.graphics.Texture object at 0x00000272959456A0>, 'color': array([1, 1, 1])}\n",
      "DEBUG:gym-duckietown:Invalid pose. Collision free: True On drivable area: False\n",
      "DEBUG:gym-duckietown:safety_factor: 1.3\n",
      "DEBUG:gym-duckietown:pos: [2.54130968 0.         0.62918625]\n",
      "DEBUG:gym-duckietown:l_pos: [2.52468862 0.         0.53311341]\n",
      "DEBUG:gym-duckietown:r_pos: [2.55793073 0.         0.72525909]\n",
      "DEBUG:gym-duckietown:f_pos: [2.65659708 0.         0.60924098]\n",
      "DEBUG:gym-duckietown:[2.78262797 0.         0.58281046] corresponds to tile at (4, 0) which is not drivable: {'coords': (4, 0), 'kind': 'floor', 'angle': 0, 'drivable': False, 'texture': <gym_duckietown.graphics.Texture object at 0x00000272959456A0>, 'color': array([1, 1, 1])}\n",
      "DEBUG:gym-duckietown:Invalid pose. Collision free: True On drivable area: False\n",
      "DEBUG:gym-duckietown:safety_factor: 1.3\n",
      "DEBUG:gym-duckietown:pos: [2.74934026 0.         0.67445204]\n",
      "DEBUG:gym-duckietown:l_pos: [2.71605255 0.         0.76609361]\n",
      "DEBUG:gym-duckietown:r_pos: [2.78262797 0.         0.58281046]\n",
      "DEBUG:gym-duckietown:f_pos: [2.63937037 0.         0.63450679]\n",
      "DEBUG:gym-duckietown:[2.73910039 0.         1.24721309] corresponds to tile at (4, 2) which is not drivable: {'coords': (4, 2), 'kind': 'floor', 'angle': 0, 'drivable': False, 'texture': <gym_duckietown.graphics.Texture object at 0x00000272959456A0>, 'color': array([1, 1, 1])}\n",
      "DEBUG:gym-duckietown:Invalid pose. Collision free: True On drivable area: False\n",
      "DEBUG:gym-duckietown:safety_factor: 1.3\n",
      "DEBUG:gym-duckietown:pos: [2.73074377 0.         1.15007187]\n",
      "DEBUG:gym-duckietown:l_pos: [2.73910039 0.         1.24721309]\n",
      "DEBUG:gym-duckietown:r_pos: [2.72238715 0.         1.05293065]\n",
      "DEBUG:gym-duckietown:f_pos: [2.6141743  0.         1.16009981]\n",
      "DEBUG:gym-duckietown:[2.51482935 0.         1.19641172] corresponds to tile at (4, 2) which is not drivable: {'coords': (4, 2), 'kind': 'floor', 'angle': 0, 'drivable': False, 'texture': <gym_duckietown.graphics.Texture object at 0x00000272959456A0>, 'color': array([1, 1, 1])}\n",
      "DEBUG:gym-duckietown:Invalid pose. Collision free: True On drivable area: False\n",
      "DEBUG:gym-duckietown:safety_factor: 1.3\n",
      "DEBUG:gym-duckietown:pos: [2.45597358 0.         1.11867982]\n",
      "DEBUG:gym-duckietown:l_pos: [2.39711782 0.         1.04094791]\n",
      "DEBUG:gym-duckietown:r_pos: [2.51482935 0.         1.19641172]\n",
      "DEBUG:gym-duckietown:f_pos: [2.54925187 0.         1.0480529 ]\n",
      "DEBUG:gym-duckietown:[2.43226256 0.         0.5819524 ] corresponds to tile at (4, 0) which is not drivable: {'coords': (4, 0), 'kind': 'floor', 'angle': 0, 'drivable': False, 'texture': <gym_duckietown.graphics.Texture object at 0x00000272959456A0>, 'color': array([1, 1, 1])}\n",
      "DEBUG:gym-duckietown:Invalid pose. Collision free: True On drivable area: False\n",
      "DEBUG:gym-duckietown:safety_factor: 1.3\n",
      "DEBUG:gym-duckietown:pos: [2.4443362  0.         0.69832778]\n",
      "DEBUG:gym-duckietown:l_pos: [2.34735673 0.         0.70838915]\n",
      "DEBUG:gym-duckietown:r_pos: [2.54131568 0.         0.68826641]\n",
      "DEBUG:gym-duckietown:f_pos: [2.43226256 0.         0.5819524 ]\n",
      "DEBUG:gym-duckietown:[2.70192286 0.         1.1783331 ] corresponds to tile at (4, 2) which is not drivable: {'coords': (4, 2), 'kind': 'floor', 'angle': 0, 'drivable': False, 'texture': <gym_duckietown.graphics.Texture object at 0x00000272959456A0>, 'color': array([1, 1, 1])}\n",
      "DEBUG:gym-duckietown:Invalid pose. Collision free: True On drivable area: False\n",
      "DEBUG:gym-duckietown:safety_factor: 1.3\n",
      "DEBUG:gym-duckietown:pos: [2.74407675 0.         1.06919076]\n",
      "DEBUG:gym-duckietown:l_pos: [2.8350287 0.        1.104319 ]\n",
      "DEBUG:gym-duckietown:r_pos: [2.6531248  0.         1.03406252]\n",
      "DEBUG:gym-duckietown:f_pos: [2.70192286 0.         1.1783331 ]\n",
      "DEBUG:gym-duckietown:[2.45028063 0.         0.56436598] corresponds to tile at (4, 0) which is not drivable: {'coords': (4, 0), 'kind': 'floor', 'angle': 0, 'drivable': False, 'texture': <gym_duckietown.graphics.Texture object at 0x00000272959456A0>, 'color': array([1, 1, 1])}\n",
      "DEBUG:gym-duckietown:Invalid pose. Collision free: True On drivable area: False\n",
      "DEBUG:gym-duckietown:safety_factor: 1.3\n",
      "DEBUG:gym-duckietown:pos: [2.50381063 0.         0.64585701]\n",
      "DEBUG:gym-duckietown:l_pos: [2.55734063 0.         0.72734805]\n",
      "DEBUG:gym-duckietown:r_pos: [2.45028063 0.         0.56436598]\n",
      "DEBUG:gym-duckietown:f_pos: [2.40602138 0.         0.71009301]\n",
      "DEBUG:gym-duckietown:[2.79302907 0.         0.51260264] corresponds to tile at (4, 0) which is not drivable: {'coords': (4, 0), 'kind': 'floor', 'angle': 0, 'drivable': False, 'texture': <gym_duckietown.graphics.Texture object at 0x00000272959456A0>, 'color': array([1, 1, 1])}\n",
      "DEBUG:gym-duckietown:Invalid pose. Collision free: True On drivable area: False\n",
      "DEBUG:gym-duckietown:safety_factor: 1.3\n",
      "DEBUG:gym-duckietown:pos: [2.83092254 0.         0.60243768]\n",
      "DEBUG:gym-duckietown:l_pos: [2.868816   0.         0.69227273]\n",
      "DEBUG:gym-duckietown:r_pos: [2.79302907 0.         0.51260264]\n",
      "DEBUG:gym-duckietown:f_pos: [2.72312048 0.         0.64790984]\n",
      "DEBUG:gym-duckietown:[2.58312267 0.         1.21305648] corresponds to tile at (4, 2) which is not drivable: {'coords': (4, 2), 'kind': 'floor', 'angle': 0, 'drivable': False, 'texture': <gym_duckietown.graphics.Texture object at 0x00000272959456A0>, 'color': array([1, 1, 1])}\n",
      "DEBUG:gym-duckietown:Invalid pose. Collision free: True On drivable area: False\n",
      "DEBUG:gym-duckietown:safety_factor: 1.3\n",
      "DEBUG:gym-duckietown:pos: [2.62449003 0.         1.12476723]\n",
      "DEBUG:gym-duckietown:l_pos: [2.66585739 0.         1.03647799]\n",
      "DEBUG:gym-duckietown:r_pos: [2.58312267 0.         1.21305648]\n",
      "DEBUG:gym-duckietown:f_pos: [2.73043713 0.         1.17440807]\n",
      "DEBUG:gym-duckietown:[2.88605501 0.         0.57855553] corresponds to tile at (4, 0) which is not drivable: {'coords': (4, 0), 'kind': 'floor', 'angle': 0, 'drivable': False, 'texture': <gym_duckietown.graphics.Texture object at 0x00000272959456A0>, 'color': array([1, 1, 1])}\n"
     ]
    },
    {
     "name": "stderr",
     "output_type": "stream",
     "text": [
      "DEBUG:gym-duckietown:Invalid pose. Collision free: True On drivable area: False\n",
      "DEBUG:gym-duckietown:safety_factor: 1.3\n",
      "DEBUG:gym-duckietown:pos: [2.79630767 0.         0.61665626]\n",
      "DEBUG:gym-duckietown:l_pos: [2.70656034 0.         0.654757  ]\n",
      "DEBUG:gym-duckietown:r_pos: [2.88605501 0.         0.57855553]\n",
      "DEBUG:gym-duckietown:f_pos: [2.75058679 0.         0.50895946]\n",
      "DEBUG:gym-duckietown:[2.35921308 0.         0.56671295] corresponds to tile at (4, 0) which is not drivable: {'coords': (4, 0), 'kind': 'floor', 'angle': 0, 'drivable': False, 'texture': <gym_duckietown.graphics.Texture object at 0x00000272959456A0>, 'color': array([1, 1, 1])}\n",
      "DEBUG:gym-duckietown:Invalid pose. Collision free: True On drivable area: False\n",
      "DEBUG:gym-duckietown:safety_factor: 1.3\n",
      "DEBUG:gym-duckietown:pos: [2.40602588 0.         0.65223963]\n",
      "DEBUG:gym-duckietown:l_pos: [2.45283867 0.         0.7377663 ]\n",
      "DEBUG:gym-duckietown:r_pos: [2.35921308 0.         0.56671295]\n",
      "DEBUG:gym-duckietown:f_pos: [2.30339387 0.         0.70841499]\n",
      "DEBUG:gym-duckietown:[2.38252666 0.         1.2033919 ] corresponds to tile at (4, 2) which is not drivable: {'coords': (4, 2), 'kind': 'floor', 'angle': 0, 'drivable': False, 'texture': <gym_duckietown.graphics.Texture object at 0x00000272959456A0>, 'color': array([1, 1, 1])}\n",
      "DEBUG:gym-duckietown:Invalid pose. Collision free: True On drivable area: False\n",
      "DEBUG:gym-duckietown:safety_factor: 1.3\n",
      "DEBUG:gym-duckietown:pos: [2.32664757 0.         1.12349335]\n",
      "DEBUG:gym-duckietown:l_pos: [2.27076848 0.         1.04359481]\n",
      "DEBUG:gym-duckietown:r_pos: [2.38252666 0.         1.2033919 ]\n",
      "DEBUG:gym-duckietown:f_pos: [2.42252583 0.         1.05643845]\n",
      "DEBUG:gym-duckietown:[2.62046634 0.         0.51214091] corresponds to tile at (4, 0) which is not drivable: {'coords': (4, 0), 'kind': 'floor', 'angle': 0, 'drivable': False, 'texture': <gym_duckietown.graphics.Texture object at 0x00000272959456A0>, 'color': array([1, 1, 1])}\n",
      "DEBUG:gym-duckietown:Invalid pose. Collision free: True On drivable area: False\n",
      "DEBUG:gym-duckietown:safety_factor: 1.3\n",
      "DEBUG:gym-duckietown:pos: [2.62121346 0.         0.62913853]\n",
      "DEBUG:gym-duckietown:l_pos: [2.52371545 0.         0.62976113]\n",
      "DEBUG:gym-duckietown:r_pos: [2.71871147 0.         0.62851592]\n",
      "DEBUG:gym-duckietown:f_pos: [2.62046634 0.         0.51214091]\n",
      "DEBUG:gym-duckietown:[2.80476266 0.         1.2182653 ] corresponds to tile at (4, 2) which is not drivable: {'coords': (4, 2), 'kind': 'floor', 'angle': 0, 'drivable': False, 'texture': <gym_duckietown.graphics.Texture object at 0x00000272959456A0>, 'color': array([1, 1, 1])}\n",
      "DEBUG:gym-duckietown:Invalid pose. Collision free: True On drivable area: False\n",
      "DEBUG:gym-duckietown:safety_factor: 1.3\n",
      "DEBUG:gym-duckietown:pos: [2.87461707 0.         1.15024609]\n",
      "DEBUG:gym-duckietown:l_pos: [2.80476266 0.         1.2182653 ]\n",
      "DEBUG:gym-duckietown:r_pos: [2.94447147 0.         1.08222689]\n",
      "DEBUG:gym-duckietown:f_pos: [2.79299402 0.         1.06642081]\n",
      "DEBUG:gym-duckietown:[2.44557596 0.         1.18505652] corresponds to tile at (4, 2) which is not drivable: {'coords': (4, 2), 'kind': 'floor', 'angle': 0, 'drivable': False, 'texture': <gym_duckietown.graphics.Texture object at 0x00000272959456A0>, 'color': array([1, 1, 1])}\n",
      "DEBUG:gym-duckietown:Invalid pose. Collision free: True On drivable area: False\n",
      "DEBUG:gym-duckietown:safety_factor: 1.3\n",
      "DEBUG:gym-duckietown:pos: [2.51651585 0.         1.09201603]\n",
      "DEBUG:gym-duckietown:l_pos: [2.59404959 0.         1.1511326 ]\n",
      "DEBUG:gym-duckietown:r_pos: [2.43898211 0.         1.03289946]\n",
      "DEBUG:gym-duckietown:f_pos: [2.44557596 0.         1.18505652]\n",
      "DEBUG:gym-duckietown:[2.55826295 0.         0.5754657 ] corresponds to tile at (4, 0) which is not drivable: {'coords': (4, 0), 'kind': 'floor', 'angle': 0, 'drivable': False, 'texture': <gym_duckietown.graphics.Texture object at 0x00000272959456A0>, 'color': array([1, 1, 1])}\n",
      "DEBUG:gym-duckietown:Invalid pose. Collision free: True On drivable area: False\n",
      "DEBUG:gym-duckietown:safety_factor: 1.3\n",
      "DEBUG:gym-duckietown:pos: [2.55826295 0.         0.5754657 ]\n",
      "DEBUG:gym-duckietown:l_pos: [2.64534792 0.         0.53161986]\n",
      "DEBUG:gym-duckietown:r_pos: [2.47117798 0.         0.61931154]\n",
      "DEBUG:gym-duckietown:f_pos: [2.61087796 0.         0.67996767]\n",
      "DEBUG:gym-duckietown:[2.56179604 0.         1.21673869] corresponds to tile at (4, 2) which is not drivable: {'coords': (4, 2), 'kind': 'floor', 'angle': 0, 'drivable': False, 'texture': <gym_duckietown.graphics.Texture object at 0x00000272959456A0>, 'color': array([1, 1, 1])}\n",
      "DEBUG:gym-duckietown:Invalid pose. Collision free: True On drivable area: False\n",
      "DEBUG:gym-duckietown:safety_factor: 1.3\n",
      "DEBUG:gym-duckietown:pos: [2.53997389 0.         1.10179177]\n",
      "DEBUG:gym-duckietown:l_pos: [2.63576299 0.         1.08360665]\n",
      "DEBUG:gym-duckietown:r_pos: [2.44418479 0.         1.11997689]\n",
      "DEBUG:gym-duckietown:f_pos: [2.56179604 0.         1.21673869]\n",
      "DEBUG:gym-duckietown:[2.6713021  0.         1.17081007] corresponds to tile at (4, 2) which is not drivable: {'coords': (4, 2), 'kind': 'floor', 'angle': 0, 'drivable': False, 'texture': <gym_duckietown.graphics.Texture object at 0x00000272959456A0>, 'color': array([1, 1, 1])}\n",
      "DEBUG:gym-duckietown:Invalid pose. Collision free: True On drivable area: False\n",
      "DEBUG:gym-duckietown:safety_factor: 1.3\n",
      "DEBUG:gym-duckietown:pos: [2.57716107 0.         1.14543851]\n",
      "DEBUG:gym-duckietown:l_pos: [2.6713021  0.         1.17081007]\n",
      "DEBUG:gym-duckietown:r_pos: [2.48302004 0.         1.12006695]\n",
      "DEBUG:gym-duckietown:f_pos: [2.5467152  0.         1.25840775]\n",
      "DEBUG:gym-duckietown:[2.40751913 0.         1.21536881] corresponds to tile at (4, 2) which is not drivable: {'coords': (4, 2), 'kind': 'floor', 'angle': 0, 'drivable': False, 'texture': <gym_duckietown.graphics.Texture object at 0x00000272959456A0>, 'color': array([1, 1, 1])}\n",
      "DEBUG:gym-duckietown:Invalid pose. Collision free: True On drivable area: False\n",
      "DEBUG:gym-duckietown:safety_factor: 1.3\n",
      "DEBUG:gym-duckietown:pos: [2.44452049 0.         1.12516266]\n",
      "DEBUG:gym-duckietown:l_pos: [2.48152184 0.         1.0349565 ]\n",
      "DEBUG:gym-duckietown:r_pos: [2.40751913 0.         1.21536881]\n",
      "DEBUG:gym-duckietown:f_pos: [2.55276787 0.         1.16956428]\n",
      "DEBUG:gym-duckietown:[2.70091325 0.         0.56323083] corresponds to tile at (4, 0) which is not drivable: {'coords': (4, 0), 'kind': 'floor', 'angle': 0, 'drivable': False, 'texture': <gym_duckietown.graphics.Texture object at 0x00000272959456A0>, 'color': array([1, 1, 1])}\n",
      "DEBUG:gym-duckietown:Invalid pose. Collision free: True On drivable area: False\n",
      "DEBUG:gym-duckietown:safety_factor: 1.3\n",
      "DEBUG:gym-duckietown:pos: [2.69058703 0.         0.67977425]\n",
      "DEBUG:gym-duckietown:l_pos: [2.59346751 0.         0.67116907]\n",
      "DEBUG:gym-duckietown:r_pos: [2.78770655 0.         0.68837944]\n",
      "DEBUG:gym-duckietown:f_pos: [2.70091325 0.         0.56323083]\n",
      "DEBUG:gym-duckietown:[2.72417513 0.         0.58095185] corresponds to tile at (4, 0) which is not drivable: {'coords': (4, 0), 'kind': 'floor', 'angle': 0, 'drivable': False, 'texture': <gym_duckietown.graphics.Texture object at 0x00000272959456A0>, 'color': array([1, 1, 1])}\n",
      "DEBUG:gym-duckietown:Invalid pose. Collision free: True On drivable area: False\n",
      "DEBUG:gym-duckietown:safety_factor: 1.3\n",
      "DEBUG:gym-duckietown:pos: [2.82148305 0.         0.58706891]\n",
      "DEBUG:gym-duckietown:l_pos: [2.91879098 0.         0.59318598]\n",
      "DEBUG:gym-duckietown:r_pos: [2.72417513 0.         0.58095185]\n",
      "DEBUG:gym-duckietown:f_pos: [2.81414258 0.         0.70383842]\n",
      "DEBUG:gym-duckietown:[2.86994595 0.         0.58336561] corresponds to tile at (4, 0) which is not drivable: {'coords': (4, 0), 'kind': 'floor', 'angle': 0, 'drivable': False, 'texture': <gym_duckietown.graphics.Texture object at 0x00000272959456A0>, 'color': array([1, 1, 1])}\n",
      "DEBUG:gym-duckietown:Invalid pose. Collision free: True On drivable area: False\n",
      "DEBUG:gym-duckietown:safety_factor: 1.3\n",
      "DEBUG:gym-duckietown:pos: [2.86994595 0.         0.58336561]\n",
      "DEBUG:gym-duckietown:l_pos: [2.96480617 0.         0.56083147]\n",
      "DEBUG:gym-duckietown:r_pos: [2.77508572 0.         0.60589974]\n",
      "DEBUG:gym-duckietown:f_pos: [2.89698691 0.         0.69719788]\n",
      "DEBUG:gym-duckietown:[2.55592523 0.         0.53257085] corresponds to tile at (4, 0) which is not drivable: {'coords': (4, 0), 'kind': 'floor', 'angle': 0, 'drivable': False, 'texture': <gym_duckietown.graphics.Texture object at 0x00000272959456A0>, 'color': array([1, 1, 1])}\n"
     ]
    },
    {
     "name": "stderr",
     "output_type": "stream",
     "text": [
      "DEBUG:gym-duckietown:Invalid pose. Collision free: True On drivable area: False\n",
      "DEBUG:gym-duckietown:safety_factor: 1.3\n",
      "DEBUG:gym-duckietown:pos: [2.55826064 0.         0.64954754]\n",
      "DEBUG:gym-duckietown:l_pos: [2.46078006 0.         0.65149372]\n",
      "DEBUG:gym-duckietown:r_pos: [2.65574121 0.         0.64760137]\n",
      "DEBUG:gym-duckietown:f_pos: [2.55592523 0.         0.53257085]\n",
      "DEBUG:gym-duckietown:[2.86842933 0.         1.24497133] corresponds to tile at (4, 2) which is not drivable: {'coords': (4, 2), 'kind': 'floor', 'angle': 0, 'drivable': False, 'texture': <gym_duckietown.graphics.Texture object at 0x00000272959456A0>, 'color': array([1, 1, 1])}\n",
      "DEBUG:gym-duckietown:Invalid pose. Collision free: True On drivable area: False\n",
      "DEBUG:gym-duckietown:safety_factor: 1.3\n",
      "DEBUG:gym-duckietown:pos: [2.82562443 0.         1.15737001]\n",
      "DEBUG:gym-duckietown:l_pos: [2.78281952 0.         1.0697687 ]\n",
      "DEBUG:gym-duckietown:r_pos: [2.86842933 0.         1.24497133]\n",
      "DEBUG:gym-duckietown:f_pos: [2.930746   0.         1.10600413]\n",
      "DEBUG:gym-duckietown:[2.60565355 0.         1.18543489] corresponds to tile at (4, 2) which is not drivable: {'coords': (4, 2), 'kind': 'floor', 'angle': 0, 'drivable': False, 'texture': <gym_duckietown.graphics.Texture object at 0x00000272959456A0>, 'color': array([1, 1, 1])}\n",
      "DEBUG:gym-duckietown:Invalid pose. Collision free: True On drivable area: False\n",
      "DEBUG:gym-duckietown:safety_factor: 1.3\n",
      "DEBUG:gym-duckietown:pos: [2.68073842 0.         1.12323753]\n",
      "DEBUG:gym-duckietown:l_pos: [2.75582329 0.         1.06104016]\n",
      "DEBUG:gym-duckietown:r_pos: [2.60565355 0.         1.18543489]\n",
      "DEBUG:gym-duckietown:f_pos: [2.75537526 0.         1.21333937]\n",
      "DEBUG:gym-duckietown:[2.63178138 0.         1.21034854] corresponds to tile at (4, 2) which is not drivable: {'coords': (4, 2), 'kind': 'floor', 'angle': 0, 'drivable': False, 'texture': <gym_duckietown.graphics.Texture object at 0x00000272959456A0>, 'color': array([1, 1, 1])}\n",
      "DEBUG:gym-duckietown:Invalid pose. Collision free: True On drivable area: False\n",
      "DEBUG:gym-duckietown:safety_factor: 1.3\n",
      "DEBUG:gym-duckietown:pos: [2.6764202  0.         1.12366736]\n",
      "DEBUG:gym-duckietown:l_pos: [2.72105902 0.         1.03698619]\n",
      "DEBUG:gym-duckietown:r_pos: [2.63178138 0.         1.21034854]\n",
      "DEBUG:gym-duckietown:f_pos: [2.78043761 0.         1.17723395]\n",
      "DEBUG:gym-duckietown:[2.34877621 0.         0.54381577] corresponds to tile at (4, 0) which is not drivable: {'coords': (4, 0), 'kind': 'floor', 'angle': 0, 'drivable': False, 'texture': <gym_duckietown.graphics.Texture object at 0x00000272959456A0>, 'color': array([1, 1, 1])}\n",
      "DEBUG:gym-duckietown:Invalid pose. Collision free: True On drivable area: False\n",
      "DEBUG:gym-duckietown:safety_factor: 1.3\n",
      "DEBUG:gym-duckietown:pos: [2.37123782 0.         0.65863944]\n",
      "DEBUG:gym-duckietown:l_pos: [2.27555142 0.         0.67735745]\n",
      "DEBUG:gym-duckietown:r_pos: [2.46692421 0.         0.63992143]\n",
      "DEBUG:gym-duckietown:f_pos: [2.34877621 0.         0.54381577]\n",
      "DEBUG:gym-duckietown:[2.65272699 0.         1.23268696] corresponds to tile at (4, 2) which is not drivable: {'coords': (4, 2), 'kind': 'floor', 'angle': 0, 'drivable': False, 'texture': <gym_duckietown.graphics.Texture object at 0x00000272959456A0>, 'color': array([1, 1, 1])}\n",
      "DEBUG:gym-duckietown:Invalid pose. Collision free: True On drivable area: False\n",
      "DEBUG:gym-duckietown:safety_factor: 1.3\n",
      "DEBUG:gym-duckietown:pos: [2.67066935 0.         1.1368521 ]\n",
      "DEBUG:gym-duckietown:l_pos: [2.65272699 0.         1.23268696]\n",
      "DEBUG:gym-duckietown:r_pos: [2.68861172 0.         1.04101723]\n",
      "DEBUG:gym-duckietown:f_pos: [2.55566752 0.         1.11532126]\n",
      "DEBUG:gym-duckietown:[2.50825664 0.         0.54140564] corresponds to tile at (4, 0) which is not drivable: {'coords': (4, 0), 'kind': 'floor', 'angle': 0, 'drivable': False, 'texture': <gym_duckietown.graphics.Texture object at 0x00000272959456A0>, 'color': array([1, 1, 1])}\n",
      "DEBUG:gym-duckietown:Invalid pose. Collision free: True On drivable area: False\n",
      "DEBUG:gym-duckietown:safety_factor: 1.3\n",
      "DEBUG:gym-duckietown:pos: [2.47380268 0.         0.63261515]\n",
      "DEBUG:gym-duckietown:l_pos: [2.43934872 0.         0.72382466]\n",
      "DEBUG:gym-duckietown:r_pos: [2.50825664 0.         0.54140564]\n",
      "DEBUG:gym-duckietown:f_pos: [2.36435127 0.         0.5912704 ]\n",
      "DEBUG:gym-duckietown:[2.53990656 0.         1.17455069] corresponds to tile at (4, 2) which is not drivable: {'coords': (4, 2), 'kind': 'floor', 'angle': 0, 'drivable': False, 'texture': <gym_duckietown.graphics.Texture object at 0x00000272959456A0>, 'color': array([1, 1, 1])}\n",
      "DEBUG:gym-duckietown:Invalid pose. Collision free: True On drivable area: False\n",
      "DEBUG:gym-duckietown:safety_factor: 1.3\n",
      "DEBUG:gym-duckietown:pos: [2.5736877  0.         1.06253358]\n",
      "DEBUG:gym-duckietown:l_pos: [2.6670353  0.         1.09068453]\n",
      "DEBUG:gym-duckietown:r_pos: [2.48034011 0.         1.03438262]\n",
      "DEBUG:gym-duckietown:f_pos: [2.53990656 0.         1.17455069]\n",
      "INFO:gym-duckietown:Starting at [2.8802118  0.         0.83154698] 0.03494804900834834\n",
      "INFO:gym-duckietown:Pos: [2.8802118  0.         0.83154698] angle 0.03494804900834834\n"
     ]
    }
   ],
   "source": [
    "from learning.utils.env import launch_env\n",
    "from learning.utils.wrappers import NormalizeWrapper, ImgWrapper, \\\n",
    "    DtRewardWrapper, ActionWrapper, ResizeWrapper\n",
    "from learning.utils.teacher import PurePursuitExpert\n",
    "from gail.models import *\n",
    "\n",
    "env = launch_env()\n",
    "env = ResizeWrapper(env)\n",
    "env = NormalizeWrapper(env) \n",
    "env = ImgWrapper(env)\n",
    "env = ActionWrapper(env)\n",
    "env = DtRewardWrapper(env)\n",
    "print(\"Initialized Wrappers\")\n",
    "\n",
    "\n",
    "observation_shape = (None, ) + env.observation_space.shape\n",
    "action_shape = (None, ) + env.action_space.shape\n",
    "\n",
    "model = Generator(action_dim=2)\n",
    "model.load_state_dict(torch.load('test.pt'))\n",
    "model.eval()\n",
    "# model.to(device)\n",
    "# Create an imperfect demonstrator\n",
    "\n",
    "observations = []\n",
    "actions = []\n",
    "\n",
    "# let's collect our samples\n",
    "for episode in range(0, args.episodes):\n",
    "    print(\"Starting episode\", episode)\n",
    "    observation = env.reset()\n",
    "    for steps in range(0, args.steps):\n",
    "        # use our 'expert' to predict the next action.\n",
    "        observation = torch.tensor(observation, device=\"cpu\").float()\n",
    "        action = model.forward(observation.unsqueeze(0)).detach().numpy()[0]\n",
    "        print(action)\n",
    "        observation, reward, done, info = env.step(action)\n",
    "        observations.append(observation)\n",
    "        actions.append(action)\n",
    "        env.render()\n",
    "    env.reset()\n",
    "env.close()\n"
   ]
  },
  {
   "cell_type": "code",
   "execution_count": 4,
   "metadata": {},
   "outputs": [
    {
     "data": {
      "text/plain": [
       "5.702396438546007"
      ]
     },
     "execution_count": 4,
     "metadata": {},
     "output_type": "execute_result"
    }
   ],
   "source": [
    "import torch\n",
    "actions = torch.load('data_a.pt')\n",
    "observations = torch.load('data_o.pt')\n",
    "\n",
    "actions.max()"
   ]
  },
  {
   "cell_type": "code",
   "execution_count": null,
   "metadata": {},
   "outputs": [],
   "source": []
  }
 ],
 "metadata": {
  "kernelspec": {
   "display_name": "gym-duckietown",
   "language": "python",
   "name": "gym-duckietown"
  },
  "language_info": {
   "codemirror_mode": {
    "name": "ipython",
    "version": 3
   },
   "file_extension": ".py",
   "mimetype": "text/x-python",
   "name": "python",
   "nbconvert_exporter": "python",
   "pygments_lexer": "ipython3",
   "version": "3.6.10"
  }
 },
 "nbformat": 4,
 "nbformat_minor": 4
}
