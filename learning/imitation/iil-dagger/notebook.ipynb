{
  "nbformat": 4,
  "nbformat_minor": 0,
  "metadata": {
    "colab": {
      "name": "Dagger.ipynb",
      "provenance": [],
      "collapsed_sections": []
    },
    "kernelspec": {
      "name": "python3",
      "display_name": "Python 3"
    },
    "accelerator": "GPU"
  },
  "cells": [
    {
      "source": [
        "[![Open In Colab](https://colab.research.google.com/assets/colab-badge.svg)](https://colab.research.google.com/github/duckietown/gym-duckietown/tree/daffy/learning/imitation/iil-dagger/notebook.ipynb)"
      ],
      "cell_type": "markdown",
      "metadata": {}
    },
    {
      "cell_type": "markdown",
      "metadata": {
        "id": "Obe3xVH5N4f6"
      },
      "source": [
        "## Preparing Code and dependencies"
      ]
    },
    {
      "cell_type": "code",
      "metadata": {
        "id": "y7B4akyzOBJQ"
      },
      "source": [
        "branch = \"daffy\" #@param ['master', 'daffy']"
      ],
      "execution_count": null,
      "outputs": []
    },
    {
      "cell_type": "code",
      "metadata": {
        "id": "88TrRDRLOXLF",
        "outputId": "64bc658f-676e-4c42-f168-9aa01d26dd74",
        "colab": {
          "base_uri": "https://localhost:8080/"
        }
      },
      "source": [
        "! git clone --branch {branch} https://github.com/mostafaelaraby/gym-duckietown"
      ],
      "execution_count": null,
      "outputs": []
    },
    {
      "cell_type": "code",
      "metadata": {
        "id": "IdLCXQT1Oy9U",
        "outputId": "26d707af-8bc6-4435-f2c8-acb29f281236",
        "colab": {
          "base_uri": "https://localhost:8080/"
        }
      },
      "source": [
        "!pip install -e gym-duckietown/."
      ],
      "execution_count": null,
      "outputs": []
    },
    {
      "cell_type": "code",
      "metadata": {
        "id": "XTGEeqIrO5HZ"
      },
      "source": [
        "import os \n",
        "os.chdir('gym-duckietown')"
      ],
      "execution_count": null,
      "outputs": []
    },
    {
      "cell_type": "markdown",
      "metadata": {
        "id": "PZCERj2COqJH"
      },
      "source": [
        "### Virtual Display Setup"
      ]
    },
    {
      "cell_type": "code",
      "metadata": {
        "id": "Gd7rzmy5OlyJ",
        "outputId": "32eb5436-b959-428c-860b-ba34b7954c37",
        "colab": {
          "base_uri": "https://localhost:8080/"
        }
      },
      "source": [
        "!apt-get install python-opengl -y\n",
        "!apt install xvfb -y\n",
        "!apt-get install x11-utils"
      ],
      "execution_count": null,
      "outputs": []
    },
    {
      "cell_type": "code",
      "metadata": {
        "id": "_vOFpsrQOpv7",
        "outputId": "e53357c3-896e-4cbd-c29d-975b38d211e3",
        "colab": {
          "base_uri": "https://localhost:8080/"
        }
      },
      "source": [
        "!pip install pyvirtualdisplay\n",
        "!pip install piglet"
      ],
      "execution_count": null,
      "outputs": []
    },
    {
      "cell_type": "code",
      "metadata": {
        "id": "T2Ajwp-HPDKY"
      },
      "source": [
        "from pyvirtualdisplay import Display\n",
        "import numpy as np\n",
        "import matplotlib.pyplot as plt\n",
        "%matplotlib inline\n",
        "\n",
        "# This code creates a virtual display to draw game images on. \n",
        "# If you are running locally, just ignore it\n",
        "import os\n",
        "def create_display():\n",
        "    display = Display(visible=0, size=(1400, 900))\n",
        "    display.start()\n",
        "    if type(os.environ.get(\"DISPLAY\")) is not str or len(os.environ.get(\"DISPLAY\"))==0:\n",
        "        !bash ../xvfb start\n",
        "        %env DISPLAY=:1"
      ],
      "execution_count": null,
      "outputs": []
    },
    {
      "cell_type": "markdown",
      "metadata": {
        "id": "eiq9plyiO7LQ"
      },
      "source": [
        "## Imitation Learning Dagger"
      ]
    },
    {
      "cell_type": "markdown",
      "metadata": {
        "id": "Dx6qgGm8QMMZ"
      },
      "source": [
        "## Training"
      ]
    },
    {
      "cell_type": "code",
      "metadata": {
        "id": "xyHbCPyURVG3"
      },
      "source": [
        "learning_rates = ['1e-1', '1e-2', '1e-3', '1e-4', '1e-5']\n",
        "mixing_decays = ['0.5', '0.6', '0.7', '0.8', '0.85', '0.9', '0.95']"
      ],
      "execution_count": null,
      "outputs": []
    },
    {
      "cell_type": "code",
      "metadata": {
        "id": "augg6SvSQOR_"
      },
      "source": [
        "save_path = \"imitation_baseline\" #@param {type: \"string\"}\n",
        "episode = 10 # @param {type: \"integer\"}\n",
        "horizon = 128 # @param {type: \"integer\"}\n",
        "learning_rate = \"1e-3\" # @param ['1e-1', '1e-2', '1e-3', '1e-4', '1e-5']\n",
        "decay = \"0.7\" # @param ['0.5', '0.6', '0.7', '0.8', '0.85', '0.9', '0.95']\n",
        "map_name = \"loop_empty\" #@param {type: \"string\"}\n",
        "# number of outputs can be 2 to predict omega and velocity\n",
        "# or  1 to fix velocity and predict only omega\n",
        "num_outputs = 2 # @param {type: \"integer\"} \n",
        "learning_rate = learning_rates.index(learning_rate)\n",
        "decay = mixing_decays.index(decay)\n"
      ],
      "execution_count": null,
      "outputs": []
    },
    {
      "cell_type": "code",
      "metadata": {
        "id": "DmXN_kBVO9xX",
        "outputId": "05ae09c7-fe9c-4697-8a2a-8413989c12f9",
        "colab": {
          "base_uri": "https://localhost:8080/"
        }
      },
      "source": [
        "create_display()\n",
        "!python -m learning.imitation.iil-dagger.train --save-path {save_path} --episode {episode} --horizon {horizon} --learning-rate {learning_rate} --decay {decay} --map-name {map_name} --num-outputs {num_outputs}"
      ],
      "execution_count": null,
      "outputs": []
    },
    {
      "cell_type": "markdown",
      "metadata": {
        "id": "yHQCqfoPP9Gj"
      },
      "source": [
        "## Testing Imitation Model"
      ]
    },
    {
      "cell_type": "code",
      "metadata": {
        "id": "ewy5rVJxmGk-"
      },
      "source": [
        "map_name = \"loop_empty\" #@param {type: \"string\"}\n",
        "episode = 10 # @param {type: \"integer\"}\n",
        "horizon = 128 # @param {type: \"integer\"}"
      ],
      "execution_count": null,
      "outputs": []
    },
    {
      "cell_type": "code",
      "metadata": {
        "id": "DWYXt0mQP_CW"
      },
      "source": [
        "create_display()\n",
        "!python -m learning.imitation.iil-dagger.test --model-path {os.path.join(save_path, \"model.pt\")} --num-outputs {num_outputs} --map-name {map_name} --episode {episode} --horizon {horizon}"
      ],
      "execution_count": null,
      "outputs": []
    }
  ]
}